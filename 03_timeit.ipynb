{
 "cells": [
  {
   "cell_type": "markdown",
   "metadata": {},
   "source": [
    "# %timeit"
   ]
  },
  {
   "cell_type": "raw",
   "metadata": {},
   "source": [
    "you always need to know the time required to run some code!"
   ]
  },
  {
   "cell_type": "code",
   "execution_count": 1,
   "metadata": {},
   "outputs": [],
   "source": [
    "import numpy as np\n",
    "import timeit"
   ]
  },
  {
   "cell_type": "code",
   "execution_count": 2,
   "metadata": {},
   "outputs": [
    {
     "name": "stdout",
     "output_type": "stream",
     "text": [
      "100001\n",
      "57.8 ms ± 2.97 ms per loop (mean ± std. dev. of 7 runs, 10 loops each)\n",
      "43.8 ms ± 2.98 ms per loop (mean ± std. dev. of 7 runs, 10 loops each)\n",
      "40.7 ms ± 2.88 ms per loop (mean ± std. dev. of 7 runs, 10 loops each)\n",
      "37.8 ms ± 1.14 ms per loop (mean ± std. dev. of 7 runs, 10 loops each)\n",
      "39.5 ms ± 839 µs per loop (mean ± std. dev. of 7 runs, 10 loops each)\n",
      "The slowest run took 9.71 times longer than the fastest. This could mean that an intermediate result is being cached.\n",
      "901 µs ± 983 µs per loop (mean ± std. dev. of 7 runs, 1 loop each)\n",
      "3333383.3335000025\n",
      "3333383.3335000025\n",
      "3333383.3335000025\n",
      "3333383.3335000025\n",
      "3333383.3335000025\n",
      "3333383.3335000006\n"
     ]
    }
   ],
   "source": [
    "# use %timeit\n",
    "# to measure the speed of a dot algo\n",
    "\n",
    "n = 100000\n",
    "x = np.linspace(0, 10, n+1)\n",
    "y = np.linspace(0, 10, n+1)\n",
    "\n",
    "print (len(x))\n",
    "\n",
    "def dot1(x, y):\n",
    "    n = len(x)\n",
    "    s = 0\n",
    "    for i in range(n):\n",
    "        s +=x[i]*y[i]\n",
    "    return s\n",
    "\n",
    "def dot2(x, y):\n",
    "    s = 0\n",
    "    for i,j in zip(x,y):\n",
    "        s+=i*j\n",
    "    return s\n",
    "\n",
    "def dot3(x, y):\n",
    "    x = np.array(x)\n",
    "    y = np.array(y)\n",
    "    s = 0\n",
    "    for i,j in zip(x,y):\n",
    "        s+=i*j\n",
    "    return s\n",
    "\n",
    "def dot4(x, y):    \n",
    "    return sum([i*j for i,j in zip(x,y)])\n",
    "\n",
    "def dot5(x, y):\n",
    "    x = np.array(x)\n",
    "    y = np.array(y)    \n",
    "    return sum([i*j for i,j in zip(x,y)])\n",
    "\n",
    "# **********************************************************\n",
    "# This is the fastest\n",
    "# **********************************************************\n",
    "def dot6(x, y):\n",
    "    x = np.array(x)\n",
    "    y = np.array(y)    \n",
    "    return np.dot(x, y)\n",
    "\n",
    "%timeit dot1(x, y)\n",
    "%timeit dot2(x, y)\n",
    "%timeit dot3(x, y)\n",
    "%timeit dot4(x, y)\n",
    "%timeit dot5(x, y)\n",
    "%timeit dot6(x, y)\n",
    "\n",
    "print (dot1(x, y))\n",
    "print (dot2(x, y))\n",
    "print (dot3(x, y))\n",
    "print (dot4(x, y))\n",
    "print (dot5(x, y))\n",
    "print (dot6(x, y))"
   ]
  }
 ],
 "metadata": {
  "anaconda-cloud": {},
  "kernelspec": {
   "display_name": "Python 3",
   "language": "python",
   "name": "python3"
  },
  "language_info": {
   "codemirror_mode": {
    "name": "ipython",
    "version": 3
   },
   "file_extension": ".py",
   "mimetype": "text/x-python",
   "name": "python",
   "nbconvert_exporter": "python",
   "pygments_lexer": "ipython3",
   "version": "3.6.4"
  }
 },
 "nbformat": 4,
 "nbformat_minor": 1
}
