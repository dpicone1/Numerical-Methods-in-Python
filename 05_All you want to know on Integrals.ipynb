{
 "cells": [
  {
   "cell_type": "markdown",
   "metadata": {},
   "source": [
    "# More on Integration"
   ]
  },
  {
   "cell_type": "markdown",
   "metadata": {},
   "source": [
    "Most of the content of this notebook is from\n",
    "\n",
    "Robert Johansson\n",
    "\n",
    "Source code listings for [Numerical Python - A Practical Techniques Approach for Industry](http://www.apress.com/9781484205549) (ISBN 978-1-484205-54-9).\n",
    "\n",
    "Chapter 8\n",
    "\n",
    "I changed and tested the code, so you will find differences from the original work of Mr. Johansson"
   ]
  },
  {
   "cell_type": "raw",
   "metadata": {},
   "source": [
    "Topics covered are:\n",
    "Symbolic Integration\n",
    "Integration methods: Simpson's rule (and Polynomials),\n",
    "Integrating functions with extra arguments, \n",
    "Integrating over infinite limits, \n",
    "Integrating where there are singularity, \n",
    "Tabulated integrals \n",
    "multi dimensions Integration \n",
    "Monte Carlo Integration"
   ]
  },
  {
   "cell_type": "code",
   "execution_count": 1,
   "metadata": {},
   "outputs": [],
   "source": [
    "import numpy as np\n",
    "from scipy import integrate\n",
    "import sympy\n",
    "\n",
    "import matplotlib.pyplot as plt\n",
    "import matplotlib as mpl\n",
    "%matplotlib inline"
   ]
  },
  {
   "cell_type": "markdown",
   "metadata": {},
   "source": [
    "## Symbolic Integration"
   ]
  },
  {
   "cell_type": "code",
   "execution_count": 2,
   "metadata": {},
   "outputs": [],
   "source": [
    "sympy.init_printing()"
   ]
  },
  {
   "cell_type": "code",
   "execution_count": 4,
   "metadata": {},
   "outputs": [
    {
     "name": "stdout",
     "output_type": "stream",
     "text": [
      "x**2\n",
      "2*x**3/3 - 2*x**2 + 2*x\n",
      "1/(1 + exp(-x))\n"
     ]
    }
   ],
   "source": [
    "xy = sympy.symbols(\"x\")\n",
    "f = 2*xy\n",
    "print (sympy.integrate(f,(xy)))\n",
    "\n",
    "f = 2*(xy-1)**2\n",
    "print (sympy.integrate(f,(xy)))\n",
    "\n",
    "\n",
    "f = sympy.exp(-xy)/(1+sympy.exp(-xy))**2\n",
    "print (sympy.integrate(f,(xy)))"
   ]
  },
  {
   "cell_type": "markdown",
   "metadata": {},
   "source": [
    "## Simpson's rule and other rules"
   ]
  },
  {
   "cell_type": "code",
   "execution_count": 6,
   "metadata": {},
   "outputs": [],
   "source": [
    "a, b, X = sympy.symbols(\"a, b, x\")\n",
    "f = sympy.Function(\"f\")"
   ]
  },
  {
   "cell_type": "code",
   "execution_count": 7,
   "metadata": {},
   "outputs": [
    {
     "name": "stdout",
     "output_type": "stream",
     "text": [
      "(a, a/2 + b/2, b)\n"
     ]
    }
   ],
   "source": [
    "#x = a, (a+b)/3, 2 * (a+b)/3, b # 3rd order quadrature rule\n",
    "x = a, (a+b)/2, b              # simpson's rule\n",
    "#x = a, b                       # trapezoid rule\n",
    "#x = ((b+a)/2,)                 # mid-point rule\n",
    "print (x)"
   ]
  },
  {
   "cell_type": "code",
   "execution_count": 8,
   "metadata": {},
   "outputs": [
    {
     "name": "stdout",
     "output_type": "stream",
     "text": [
      "[w_0, w_1, w_2]\n"
     ]
    }
   ],
   "source": [
    "w = [sympy.symbols(\"w_%d\" % i) for i in range(len(x))] \n",
    "print (w)"
   ]
  },
  {
   "cell_type": "code",
   "execution_count": 9,
   "metadata": {},
   "outputs": [],
   "source": [
    "q_rule = sum([w[i] * f(x[i]) for i in range(len(x))])"
   ]
  },
  {
   "cell_type": "code",
   "execution_count": 10,
   "metadata": {},
   "outputs": [
    {
     "name": "stdout",
     "output_type": "stream",
     "text": [
      "w_0*f(a) + w_1*f(a/2 + b/2) + w_2*f(b)\n"
     ]
    }
   ],
   "source": [
    "print (q_rule)"
   ]
  },
  {
   "cell_type": "code",
   "execution_count": 11,
   "metadata": {},
   "outputs": [
    {
     "name": "stdout",
     "output_type": "stream",
     "text": [
      "0\n",
      "1\n",
      "2\n"
     ]
    }
   ],
   "source": [
    "for n in range(len(x)):\n",
    "    print (n)"
   ]
  },
  {
   "cell_type": "code",
   "execution_count": 12,
   "metadata": {},
   "outputs": [
    {
     "name": "stdout",
     "output_type": "stream",
     "text": [
      "[Lambda(x, 1), Lambda(_x, _x), Lambda(x, x**2)]\n"
     ]
    }
   ],
   "source": [
    "phi = [sympy.Lambda(X, X**n) for n in range(len(x))]\n",
    "print (phi)"
   ]
  },
  {
   "cell_type": "code",
   "execution_count": 13,
   "metadata": {},
   "outputs": [],
   "source": [
    "eqs = [q_rule.subs(f, phi[n]) - sympy.integrate(phi[n](X), (X, a, b)) for n in range(len(phi))]"
   ]
  },
  {
   "cell_type": "code",
   "execution_count": 14,
   "metadata": {},
   "outputs": [
    {
     "name": "stdout",
     "output_type": "stream",
     "text": [
      "[a - b + w_0 + w_1 + w_2, a**2/2 + a*w_0 - b**2/2 + b*w_2 + w_1*(a/2 + b/2), a**3/3 + a**2*w_0 - b**3/3 + b**2*w_2 + w_1*(a/2 + b/2)**2]\n"
     ]
    }
   ],
   "source": [
    "print (eqs)"
   ]
  },
  {
   "cell_type": "code",
   "execution_count": 15,
   "metadata": {},
   "outputs": [
    {
     "name": "stdout",
     "output_type": "stream",
     "text": [
      "[w_0 + w_1 + w_2, a*w_0 + b*w_2 + w_1*(a/2 + b/2), a**2*w_0 + b**2*w_2 + w_1*(a/2 + b/2)**2]\n"
     ]
    }
   ],
   "source": [
    "eqsDom = [q_rule.subs(f, phi[n]) for n in range(len(phi))]\n",
    "print (eqsDom)"
   ]
  },
  {
   "cell_type": "code",
   "execution_count": 16,
   "metadata": {},
   "outputs": [
    {
     "name": "stdout",
     "output_type": "stream",
     "text": [
      "f(0)\n",
      "f(1)\n",
      "w_0*f(a) + w_1*f(a/2 + b/2) + w_2*f(b)\n",
      "w_0*f(a) + w_1*f(a/2 + b/2) + w_2*f(b)\n",
      "w_0 + w_1 + w_2\n"
     ]
    }
   ],
   "source": [
    "print (f(0))\n",
    "print (f(1))\n",
    "\n",
    "print (q_rule.subs(f, 0)) #this means nothing as 0 is not a symbol \n",
    "print (q_rule.subs(f, 1)) #this means nothing as 1 is not a symbol\n",
    "print (q_rule.subs(f, phi[0])) #this means as phi[0] is 1"
   ]
  },
  {
   "cell_type": "code",
   "execution_count": 17,
   "metadata": {},
   "outputs": [
    {
     "data": {
      "image/png": "[encoded data removed]",
      "text/latex": [
       "$$\\left [ - a + b, \\quad - \\frac{a^{2}}{2} + \\frac{b^{2}}{2}, \\quad - \\frac{a^{3}}{3} + \\frac{b^{3}}{3}\\right ]$$"
      ],
      "text/plain": [
       "⎡           2    2     3    3⎤\n",
       "⎢          a    b     a    b ⎥\n",
       "⎢-a + b, - ── + ──, - ── + ──⎥\n",
       "⎣          2    2     3    3 ⎦"
      ]
     },
     "execution_count": 17,
     "metadata": {},
     "output_type": "execute_result"
    }
   ],
   "source": [
    "[sympy.integrate(phi[n](X), (X, a, b)) for n in range(len(phi))]"
   ]
  },
  {
   "cell_type": "code",
   "execution_count": 18,
   "metadata": {},
   "outputs": [],
   "source": [
    "w_sol = sympy.solve(eqs, w)"
   ]
  },
  {
   "cell_type": "code",
   "execution_count": 19,
   "metadata": {},
   "outputs": [
    {
     "name": "stdout",
     "output_type": "stream",
     "text": [
      "{w_0: -a/6 + b/6, w_1: -2*a/3 + 2*b/3, w_2: -a/6 + b/6}\n"
     ]
    }
   ],
   "source": [
    "print (w_sol)"
   ]
  },
  {
   "cell_type": "code",
   "execution_count": 20,
   "metadata": {},
   "outputs": [
    {
     "name": "stdout",
     "output_type": "stream",
     "text": [
      "-(a - b)*(f(a) + f(b) + 4*f(a/2 + b/2))/6\n"
     ]
    }
   ],
   "source": [
    "print( q_rule.subs(w_sol).simplify())"
   ]
  },
  {
   "cell_type": "markdown",
   "metadata": {},
   "source": [
    "## SciPy `integrate`"
   ]
  },
  {
   "cell_type": "markdown",
   "metadata": {},
   "source": [
    "### Derivatives and Integration examples of Gaussian Normal and Gamma Functions"
   ]
  },
  {
   "cell_type": "raw",
   "metadata": {},
   "source": [
    "To prepare the derivative\n",
    "1 - set a symbol, xx, with Symbol\n",
    "2 - write the f(xx)\n",
    "3 - use f.diff(xx) \n",
    "4 - then lambdify 3\n",
    "5 - run 4\n",
    "\n",
    "for symbolic integrals, go further down "
   ]
  },
  {
   "cell_type": "code",
   "execution_count": 50,
   "metadata": {},
   "outputs": [
    {
     "name": "stdout",
     "output_type": "stream",
     "text": [
      " Numerical 2nd derivative of the cumulative Distribution Function \n",
      "0.035454787369881835\n",
      " Analytical 1st derivative of the cumulative Distribution Function using sympy.diff and lambdify \n",
      "-0.01329554523581403\n"
     ]
    }
   ],
   "source": [
    "def f(x):\n",
    "    return np.exp(-x**2/2)/np.sqrt(2*np.pi)\n",
    "\n",
    "dx = 0.0001\n",
    "print (\" Numerical 2nd derivative of the cumulative Distribution Function \")\n",
    "print ((f(x+dx)+f(x-dx) - 2*f(x))/(dx*dx))\n",
    "\n",
    "xx     = Symbol('xx')\n",
    "y      = sympy.exp(-xx**2/2)/sympy.sqrt(2*pi)\n",
    "yprime = y.diff(xx)\n",
    "ff     = lambdify(xx, yprime)\n",
    "print (\" Analytical 1st derivative of the cumulative Distribution Function using sympy.diff and lambdify \")\n",
    "print (ff(x))"
   ]
  },
  {
   "cell_type": "code",
   "execution_count": 51,
   "metadata": {},
   "outputs": [
    {
     "name": "stdout",
     "output_type": "stream",
     "text": [
      " Central difference of the density Function \n",
      "-0.013295545368795236\n"
     ]
    }
   ],
   "source": [
    "print (\" Central difference of the density Function \")\n",
    "a = (f(x+dx) - f(x-dx))\n",
    "b = (2.0*dx)\n",
    "print (a/b)"
   ]
  },
  {
   "cell_type": "code",
   "execution_count": 64,
   "metadata": {},
   "outputs": [
    {
     "name": "stdout",
     "output_type": "stream",
     "text": [
      "2.0\n",
      "2.0\n",
      "2.0\n",
      "2.0\n",
      " derivatives \n",
      "1.8454439999993077\n",
      "1.845568499999617\n",
      "1.8454440294513041\n",
      "1.8455686759499823\n"
     ]
    }
   ],
   "source": [
    "from math import sin, pi, exp, gamma\n",
    "from scipy import integrate\n",
    "def gammadom(t):\n",
    "    def g(x):\n",
    "        return exp(-x)*x**(t-1)\n",
    "    result = integrate.quad(g, 0, np.inf)[0]\n",
    "    return round(result, 10)\n",
    "\n",
    "print (gammadom(3))\n",
    "print (gamma(3))\n",
    "\n",
    "x  = 3.0\n",
    "print (gammadom(x))\n",
    "print (gamma(x))\n",
    "\n",
    "print (\" derivatives \")\n",
    "dx = 0.0001\n",
    "\n",
    "a = (gammadom(x)-gammadom(x-dx))\n",
    "print (a/dx)\n",
    "a =  (gammadom(x+dx)-gammadom(x-dx))\n",
    "print (a/(2.0*dx))\n",
    "\n",
    "a = (gamma(x)-gamma(x-dx))\n",
    "print (a/dx)\n",
    "\n",
    "a = (gamma(x + dx)-gamma(x-dx))\n",
    "\n",
    "print (a/(2.0*dx))"
   ]
  },
  {
   "cell_type": "code",
   "execution_count": 65,
   "metadata": {},
   "outputs": [],
   "source": [
    "def f(x):\n",
    "    return np.exp(-x**2)"
   ]
  },
  {
   "cell_type": "code",
   "execution_count": 66,
   "metadata": {},
   "outputs": [
    {
     "name": "stdout",
     "output_type": "stream",
     "text": [
      "1.493648265624854\n",
      "1.6582826951881447e-14\n"
     ]
    }
   ],
   "source": [
    "val, err = integrate.quad(f, -1, 1)\n",
    "print (val)\n",
    "print (err)"
   ]
  },
  {
   "cell_type": "code",
   "execution_count": 67,
   "metadata": {},
   "outputs": [
    {
     "name": "stdout",
     "output_type": "stream",
     "text": [
      "1.4936482656450039\n",
      "7.459897144457273e-10\n"
     ]
    }
   ],
   "source": [
    "val, err = integrate.quadrature(f, -1, 1)\n",
    "print (val)\n",
    "print (err)"
   ]
  },
  {
   "cell_type": "code",
   "execution_count": 68,
   "metadata": {},
   "outputs": [
    {
     "name": "stdout",
     "output_type": "stream",
     "text": [
      "[-0.24197072 -0.24197072 -0.24197072 -0.24197072 -0.24197072]\n",
      "-0.0\n",
      "-0.2419707245191434\n",
      "-0.10798193302637614\n",
      "-0.013295545235814023\n",
      "-0.0005353209030595416\n"
     ]
    }
   ],
   "source": [
    "from sympy import *\n",
    "import numpy as np\n",
    "import math\n",
    "\n",
    "xx = Symbol('xx')\n",
    "\n",
    "y = exp(-xx**2/2)/sqrt(2*pi)\n",
    "yprime = y.diff(xx)\n",
    "\n",
    "f = lambdify(xx, yprime, 'numpy')\n",
    "# derivative of the density at different x's\n",
    "print (f(np.ones(5)))\n",
    "for i in range(5):\n",
    "    print (f(i))"
   ]
  },
  {
   "cell_type": "markdown",
   "metadata": {},
   "source": [
    "## Extra arguments"
   ]
  },
  {
   "cell_type": "code",
   "execution_count": 69,
   "metadata": {},
   "outputs": [],
   "source": [
    "def f(x, a, b, c):\n",
    "    return a * np.exp(-((x-b)/c)**2)"
   ]
  },
  {
   "cell_type": "code",
   "execution_count": 70,
   "metadata": {},
   "outputs": [
    {
     "name": "stdout",
     "output_type": "stream",
     "text": [
      "1.2763068351022229\n",
      "1.4169852348169507e-14\n",
      "1.2763068351036782\n",
      "3.169002837921653e-10\n"
     ]
    }
   ],
   "source": [
    "from scipy import integrate\n",
    "val, err = integrate.quad(f, -1, 1, args=(1, 2, 3))\n",
    "print (val)\n",
    "print (err)\n",
    "\n",
    "val, err = integrate.quadrature(f, -1, 1, args=(1, 2, 3))\n",
    "print (val)\n",
    "print (err)"
   ]
  },
  {
   "cell_type": "markdown",
   "metadata": {},
   "source": [
    "## Reshuffle arguments"
   ]
  },
  {
   "cell_type": "code",
   "execution_count": 71,
   "metadata": {},
   "outputs": [],
   "source": [
    "from scipy.special import jv"
   ]
  },
  {
   "cell_type": "code",
   "execution_count": 72,
   "metadata": {},
   "outputs": [
    {
     "name": "stdout",
     "output_type": "stream",
     "text": [
      "0.7153119177847678\n",
      "2.47260738289741e-14\n"
     ]
    }
   ],
   "source": [
    "from scipy import integrate\n",
    "val, err = integrate.quad(lambda x: jv(0, x), 0, 5)\n",
    "print (val)\n",
    "print (err)"
   ]
  },
  {
   "cell_type": "markdown",
   "metadata": {},
   "source": [
    "## Infinite limits "
   ]
  },
  {
   "cell_type": "code",
   "execution_count": 73,
   "metadata": {},
   "outputs": [],
   "source": [
    "f  = lambda x: np.exp(-(x**2)/2.0)/sqrt(2.0*pi)\n",
    "f2 = lambda x: np.exp(-(x**2)/2.0)"
   ]
  },
  {
   "cell_type": "code",
   "execution_count": 75,
   "metadata": {},
   "outputs": [
    {
     "name": "stdout",
     "output_type": "stream",
     "text": [
      "0.9999999999999997\n",
      "1.0178191503494656e-08\n",
      "2.5066282746309994\n",
      "2.5066282746310002\n"
     ]
    }
   ],
   "source": [
    "val, err = integrate.quad(f, -np.inf, np.inf)\n",
    "print (val)\n",
    "print (err)\n",
    "\n",
    "val, err = integrate.quad(f2, -np.inf, np.inf)\n",
    "print (val)\n",
    "print (np.sqrt(2.0*np.pi))\n"
   ]
  },
  {
   "cell_type": "markdown",
   "metadata": {},
   "source": [
    "## Singularity"
   ]
  },
  {
   "cell_type": "code",
   "execution_count": 80,
   "metadata": {},
   "outputs": [],
   "source": [
    "f = lambda x: 1/np.sqrt(abs(x))"
   ]
  },
  {
   "cell_type": "code",
   "execution_count": 81,
   "metadata": {},
   "outputs": [],
   "source": [
    "a, b = -1, 1"
   ]
  },
  {
   "cell_type": "code",
   "execution_count": 82,
   "metadata": {},
   "outputs": [
    {
     "name": "stderr",
     "output_type": "stream",
     "text": [
      "C:\\Users\\User\\Anaconda3\\lib\\site-packages\\ipykernel_launcher.py:1: RuntimeWarning: divide by zero encountered in double_scalars\n",
      "  \"\"\"Entry point for launching an IPython kernel.\n",
      "C:\\Users\\User\\Anaconda3\\lib\\site-packages\\scipy\\integrate\\quadpack.py:364: IntegrationWarning: The maximum number of subdivisions (50) has been achieved.\n",
      "  If increasing the limit yields no improvement it is advised to analyze \n",
      "  the integrand in order to determine the difficulties.  If the position of a \n",
      "  local difficulty can be determined (singularity, discontinuity) one will \n",
      "  probably gain from splitting up the interval and calling the integrator \n",
      "  on the subranges.  Perhaps a special-purpose integrator should be used.\n",
      "  warnings.warn(msg, IntegrationWarning)\n"
     ]
    },
    {
     "data": {
      "image/png": "[encoded data removed]",
      "text/latex": [
       "$$\\left ( nan, \\quad nan\\right )$$"
      ],
      "text/plain": [
       "(nan, nan)"
      ]
     },
     "execution_count": 82,
     "metadata": {},
     "output_type": "execute_result"
    }
   ],
   "source": [
    "integrate.quad(f, a, b)"
   ]
  },
  {
   "cell_type": "code",
   "execution_count": 83,
   "metadata": {},
   "outputs": [
    {
     "name": "stdout",
     "output_type": "stream",
     "text": [
      "3.999999999999999\n",
      "1.7319479184152442e-14\n"
     ]
    }
   ],
   "source": [
    "val, err = integrate.quad(f, a, b, points=[0])\n",
    "print (val)\n",
    "print (err)"
   ]
  },
  {
   "cell_type": "code",
   "execution_count": 85,
   "metadata": {},
   "outputs": [
    {
     "data": {
      "image/png": "[encoded data removed]",
      "text/latex": [
       "$$\\left ( 0, \\quad 25\\right )$$"
      ],
      "text/plain": [
       "(0, 25)"
      ]
     },
     "execution_count": 85,
     "metadata": {},
     "output_type": "execute_result"
    },
    {
     "data": {
      "image/png": "[encoded data removed]",
      "text/plain": [
       "<Figure size 576x216 with 1 Axes>"
      ]
     },
     "metadata": {
      "needs_background": "light"
     },
     "output_type": "display_data"
    }
   ],
   "source": [
    "fig, ax = plt.subplots(figsize=(8, 3))\n",
    "\n",
    "x = np.linspace(a, b, 10000)\n",
    "ax.plot(x, f(x), lw=2)\n",
    "ax.fill_between(x, f(x), color='green', alpha=0.5)\n",
    "ax.set_xlabel(\"$x$\", fontsize=18)\n",
    "ax.set_ylabel(\"$f(x)$\", fontsize=18)\n",
    "ax.set_ylim(0, 25)\n",
    "\n",
    "#fig.tight_layout()\n",
    "#fig.savefig(\"pdf_files\\diverging-integrand.pdf\")"
   ]
  },
  {
   "cell_type": "markdown",
   "metadata": {},
   "source": [
    "## Tabulated integrand\n",
    "with integrate.trapz(y, x), integrate.simps(y, x), integrate.romb(y, dx=(x[1]-x[0])) and integrate.simps(y, dx=(x[1]-x[0]))"
   ]
  },
  {
   "cell_type": "raw",
   "metadata": {},
   "source": [
    "Tabulated integration can be very handy to integrate when we do not know the function generating some data points, and \n",
    "we want to caculate the area under those points"
   ]
  },
  {
   "cell_type": "code",
   "execution_count": 86,
   "metadata": {},
   "outputs": [],
   "source": [
    "f = lambda x: np.sqrt(x)"
   ]
  },
  {
   "cell_type": "code",
   "execution_count": 87,
   "metadata": {},
   "outputs": [],
   "source": [
    "a, b = 0, 2"
   ]
  },
  {
   "cell_type": "code",
   "execution_count": 88,
   "metadata": {},
   "outputs": [],
   "source": [
    "x = np.linspace(a, b, 25)"
   ]
  },
  {
   "cell_type": "code",
   "execution_count": 89,
   "metadata": {},
   "outputs": [],
   "source": [
    "y = f(x)"
   ]
  },
  {
   "cell_type": "code",
   "execution_count": 90,
   "metadata": {},
   "outputs": [
    {
     "data": {
      "text/plain": [
       "Text(0, 0.5, '$f(x)$')"
      ]
     },
     "execution_count": 90,
     "metadata": {},
     "output_type": "execute_result"
    },
    {
     "data": {
      "image/png": "[encoded data removed]",
      "text/plain": [
       "<Figure size 576x216 with 1 Axes>"
      ]
     },
     "metadata": {
      "needs_background": "light"
     },
     "output_type": "display_data"
    }
   ],
   "source": [
    "fig, ax = plt.subplots(figsize=(8, 3))\n",
    "ax.plot(x, y, 'bo')\n",
    "xx = np.linspace(a, b, 500)\n",
    "ax.plot(xx, f(xx), 'b-')\n",
    "ax.fill_between(xx, f(xx), color='green', alpha=0.5)\n",
    "ax.set_xlabel(r\"$x$\", fontsize=18)\n",
    "ax.set_ylabel(r\"$f(x)$\", fontsize=18)"
   ]
  },
  {
   "cell_type": "code",
   "execution_count": 91,
   "metadata": {},
   "outputs": [
    {
     "name": "stdout",
     "output_type": "stream",
     "text": [
      "1.8808217160508505\n"
     ]
    }
   ],
   "source": [
    "val_trapz = integrate.trapz(y, x)\n",
    "print (val_trapz)"
   ]
  },
  {
   "cell_type": "code",
   "execution_count": 92,
   "metadata": {},
   "outputs": [
    {
     "name": "stdout",
     "output_type": "stream",
     "text": [
      "1.883665102448715\n"
     ]
    }
   ],
   "source": [
    "val_simps = integrate.simps(y, x)\n",
    "print (val_simps)"
   ]
  },
  {
   "cell_type": "code",
   "execution_count": 93,
   "metadata": {},
   "outputs": [],
   "source": [
    "# and this the exact-analytical result\n",
    "val_exact = 2.0/3.0 * (b-a)**(3.0/2.0)"
   ]
  },
  {
   "cell_type": "code",
   "execution_count": 94,
   "metadata": {},
   "outputs": [
    {
     "name": "stdout",
     "output_type": "stream",
     "text": [
      "1.8856180831641267\n"
     ]
    }
   ],
   "source": [
    "print (val_exact)"
   ]
  },
  {
   "cell_type": "code",
   "execution_count": 95,
   "metadata": {},
   "outputs": [
    {
     "name": "stdout",
     "output_type": "stream",
     "text": [
      "0.004796367113276245\n"
     ]
    }
   ],
   "source": [
    "print (val_exact - val_trapz)"
   ]
  },
  {
   "cell_type": "code",
   "execution_count": 96,
   "metadata": {},
   "outputs": [
    {
     "name": "stdout",
     "output_type": "stream",
     "text": [
      "0.001952980715411723\n"
     ]
    }
   ],
   "source": [
    "print (val_exact - val_simps)"
   ]
  },
  {
   "cell_type": "code",
   "execution_count": 97,
   "metadata": {},
   "outputs": [],
   "source": [
    "x = np.linspace(a, b, 1 + 2**6)"
   ]
  },
  {
   "cell_type": "code",
   "execution_count": 98,
   "metadata": {},
   "outputs": [
    {
     "name": "stdout",
     "output_type": "stream",
     "text": [
      "65\n"
     ]
    }
   ],
   "source": [
    "print (len(x))"
   ]
  },
  {
   "cell_type": "code",
   "execution_count": 99,
   "metadata": {},
   "outputs": [],
   "source": [
    "y = f(x)"
   ]
  },
  {
   "cell_type": "code",
   "execution_count": 100,
   "metadata": {},
   "outputs": [
    {
     "name": "stdout",
     "output_type": "stream",
     "text": [
      "1.8808217160508505\n",
      "1.883665102448715\n",
      "1.8852392847412136\n",
      "1.8851695976099685\n",
      "0.0004484855541582178\n",
      "0.00037879842291310695\n"
     ]
    }
   ],
   "source": [
    "print (val_trapz)\n",
    "print (val_simps)\n",
    "print (integrate.romb(y, dx=(x[1]-x[0])))\n",
    "print (integrate.simps(y, dx=x[1]-x[0]))\n",
    "print (val_exact - integrate.simps(y, dx=x[1]-x[0]))\n",
    "print (val_exact - integrate.romb(y, dx=(x[1]-x[0])))"
   ]
  },
  {
   "cell_type": "code",
   "execution_count": 101,
   "metadata": {},
   "outputs": [
    {
     "name": "stdout",
     "output_type": "stream",
     "text": [
      "0.5698340874811464\n",
      "0.5519675161058003\n",
      "0.5698340874811464\n",
      "0.549360455512869\n",
      "0.5493603067780066\n"
     ]
    }
   ],
   "source": [
    "from scipy import interpolate\n",
    "def runge(x):\n",
    "    return 1/(1 + 25 * x**2)\n",
    "\n",
    "x = np.linspace(-1, 1, 11)\n",
    "y = runge(x)\n",
    "f = interpolate.interp1d(x, y, kind=3)\n",
    "xx = np.linspace(-1, 1, 100)\n",
    "print (integrate.simps(f(x), x))\n",
    "print (integrate.simps(f(xx), xx))\n",
    "print (integrate.simps(runge(x), x))\n",
    "print (integrate.simps(runge(xx), xx))\n",
    "val, err = integrate.quad(runge, -1, 1)\n",
    "print (val)"
   ]
  },
  {
   "cell_type": "markdown",
   "metadata": {},
   "source": [
    "## Higher dimension\n",
    "with dblquad, the intervals of integration must be passed as a lambda function"
   ]
  },
  {
   "cell_type": "code",
   "execution_count": 102,
   "metadata": {},
   "outputs": [],
   "source": [
    "def f(x):\n",
    "    return np.exp(-x**2)"
   ]
  },
  {
   "cell_type": "code",
   "execution_count": 103,
   "metadata": {},
   "outputs": [
    {
     "name": "stdout",
     "output_type": "stream",
     "text": [
      "Wall time: 0 ns\n"
     ]
    },
    {
     "data": {
      "image/png": "[encoded data removed]",
      "text/latex": [
       "$$\\left ( 0.8820813907624215, \\quad 9.793070696178202e-15\\right )$$"
      ],
      "text/plain": [
       "(0.8820813907624215, 9.793070696178202e-15)"
      ]
     },
     "execution_count": 103,
     "metadata": {},
     "output_type": "execute_result"
    }
   ],
   "source": [
    "a, b = 0, 2\n",
    "%time integrate.quad(f, a, b)"
   ]
  },
  {
   "cell_type": "code",
   "execution_count": 104,
   "metadata": {},
   "outputs": [],
   "source": [
    "def f(x, y):\n",
    "    return np.exp(-x**2-y**2)"
   ]
  },
  {
   "cell_type": "code",
   "execution_count": 105,
   "metadata": {},
   "outputs": [],
   "source": [
    "a, b = 0, 1"
   ]
  },
  {
   "cell_type": "code",
   "execution_count": 106,
   "metadata": {},
   "outputs": [],
   "source": [
    "g = lambda x: 0"
   ]
  },
  {
   "cell_type": "code",
   "execution_count": 107,
   "metadata": {},
   "outputs": [],
   "source": [
    "h = lambda x: 1"
   ]
  },
  {
   "cell_type": "code",
   "execution_count": 108,
   "metadata": {},
   "outputs": [
    {
     "name": "stdout",
     "output_type": "stream",
     "text": [
      "(0.5577462853510337, 8.291374381535408e-15)\n"
     ]
    }
   ],
   "source": [
    "print (integrate.dblquad(f, a, b, g, h))"
   ]
  },
  {
   "cell_type": "code",
   "execution_count": 109,
   "metadata": {},
   "outputs": [
    {
     "name": "stdout",
     "output_type": "stream",
     "text": [
      "(0.5577462853510337, 8.291374381535408e-15)\n"
     ]
    }
   ],
   "source": [
    "print (integrate.dblquad(lambda x, y: np.exp(-x**2-y**2), 0, 1, lambda x: 0, lambda x: 1))"
   ]
  },
  {
   "cell_type": "code",
   "execution_count": 110,
   "metadata": {},
   "outputs": [
    {
     "data": {
      "text/plain": [
       "'fig.tight_layout()\\nfig.savefig(\"pdf_files\\\\multi-dim-integrand.pdf\")'"
      ]
     },
     "execution_count": 110,
     "metadata": {},
     "output_type": "execute_result"
    },
    {
     "data": {
      "image/png": "[encoded data removed]",
      "text/plain": [
       "<Figure size 432x360 with 1 Axes>"
      ]
     },
     "metadata": {
      "needs_background": "light"
     },
     "output_type": "display_data"
    }
   ],
   "source": [
    "fig, ax = plt.subplots(figsize=(6, 5))\n",
    "\n",
    "x = y = np.linspace(-1.25, 1.25, 75)\n",
    "X, Y  = np.meshgrid(x, y)\n",
    "\n",
    "c = ax.contour(X, Y, f(X, Y), 15, cmap=mpl.cm.RdBu, vmin=-1, vmax=1)\n",
    "\n",
    "bound_rect = plt.Rectangle((0, 0), 1, 1, facecolor=\"grey\")\n",
    "ax.add_patch(bound_rect)\n",
    "\n",
    "ax.axis('tight')\n",
    "ax.set_xlabel('$x$', fontsize=18)\n",
    "ax.set_ylabel('$y$', fontsize=18)\n",
    "\n",
    "'''fig.tight_layout()\n",
    "fig.savefig(\"pdf_files\\multi-dim-integrand.pdf\")'''"
   ]
  },
  {
   "cell_type": "code",
   "execution_count": 111,
   "metadata": {},
   "outputs": [
    {
     "name": "stdout",
     "output_type": "stream",
     "text": [
      "(0.7320931000008094, 1.6564972931774035e-14)\n"
     ]
    }
   ],
   "source": [
    "print (integrate.dblquad(f, 0, 1, lambda x: -1 + x, lambda x: 1 - x))"
   ]
  },
  {
   "cell_type": "markdown",
   "metadata": {},
   "source": [
    "### nquad and tplquad"
   ]
  },
  {
   "cell_type": "raw",
   "metadata": {},
   "source": [
    "SUPER IMPORTANT:\n",
    "with tplquad and nquad the function to be integrated CANNOT be WRITTEN this way"
   ]
  },
  {
   "cell_type": "code",
   "execution_count": 124,
   "metadata": {},
   "outputs": [],
   "source": [
    "def f(x, y, z):\n",
    "    return np.exp(-x**2-y**2-z**2)"
   ]
  },
  {
   "cell_type": "raw",
   "metadata": {},
   "source": [
    "BUT THIS WAY"
   ]
  },
  {
   "cell_type": "code",
   "execution_count": 125,
   "metadata": {},
   "outputs": [],
   "source": [
    "def f(*args):\n",
    "    return  np.exp(-np.sum(np.array(args)**2))"
   ]
  },
  {
   "cell_type": "code",
   "execution_count": 126,
   "metadata": {},
   "outputs": [
    {
     "name": "stdout",
     "output_type": "stream",
     "text": [
      "(0.4165383858866382, 8.291335287314424e-15)\n"
     ]
    }
   ],
   "source": [
    "print (integrate.tplquad(f, 0, 1, lambda x : 0, lambda x : 1, lambda x, y : 0, lambda x, y : 1))"
   ]
  },
  {
   "cell_type": "code",
   "execution_count": 127,
   "metadata": {},
   "outputs": [
    {
     "name": "stdout",
     "output_type": "stream",
     "text": [
      "(0.4165383858866382, 8.291335287314424e-15)\n"
     ]
    }
   ],
   "source": [
    "print (integrate.nquad(f, [(0, 1), (0, 1), (0, 1)]))"
   ]
  },
  {
   "cell_type": "code",
   "execution_count": 115,
   "metadata": {},
   "outputs": [
    {
     "name": "stdout",
     "output_type": "stream",
     "text": [
      "[(0, 1)]\n",
      "[(0, 1), (0, 1)]\n",
      "[(0, 1), (0, 1), (0, 1)]\n"
     ]
    }
   ],
   "source": [
    "print ([(0,1)] * 1)\n",
    "print ([(0,1)] * 2)\n",
    "print ([(0,1)] * 3)"
   ]
  },
  {
   "cell_type": "code",
   "execution_count": 116,
   "metadata": {},
   "outputs": [
    {
     "name": "stdout",
     "output_type": "stream",
     "text": [
      "Wall time: 0 ns\n"
     ]
    },
    {
     "data": {
      "image/png": "[encoded data removed]",
      "text/latex": [
       "$$\\left ( 0.7468241328124271, \\quad 8.291413475940725e-15\\right )$$"
      ],
      "text/plain": [
       "(0.7468241328124271, 8.291413475940725e-15)"
      ]
     },
     "execution_count": 116,
     "metadata": {},
     "output_type": "execute_result"
    }
   ],
   "source": [
    "%time integrate.nquad(f, [(0,1)] * 1)"
   ]
  },
  {
   "cell_type": "code",
   "execution_count": 117,
   "metadata": {},
   "outputs": [
    {
     "name": "stdout",
     "output_type": "stream",
     "text": [
      "Wall time: 7.18 ms\n"
     ]
    },
    {
     "data": {
      "image/png": "[encoded data removed]",
      "text/latex": [
       "$$\\left ( 0.5577462853510337, \\quad 8.291374381535408e-15\\right )$$"
      ],
      "text/plain": [
       "(0.5577462853510337, 8.291374381535408e-15)"
      ]
     },
     "execution_count": 117,
     "metadata": {},
     "output_type": "execute_result"
    }
   ],
   "source": [
    "%time integrate.nquad(f, [(0,1)] * 2)"
   ]
  },
  {
   "cell_type": "code",
   "execution_count": 118,
   "metadata": {},
   "outputs": [
    {
     "name": "stdout",
     "output_type": "stream",
     "text": [
      "Wall time: 100 ms\n"
     ]
    },
    {
     "data": {
      "image/png": "[encoded data removed]",
      "text/latex": [
       "$$\\left ( 0.4165383858866382, \\quad 8.291335287314424e-15\\right )$$"
      ],
      "text/plain": [
       "(0.4165383858866382, 8.291335287314424e-15)"
      ]
     },
     "execution_count": 118,
     "metadata": {},
     "output_type": "execute_result"
    }
   ],
   "source": [
    "%time integrate.nquad(f, [(0,1)] * 3)"
   ]
  },
  {
   "cell_type": "code",
   "execution_count": 119,
   "metadata": {},
   "outputs": [
    {
     "name": "stdout",
     "output_type": "stream",
     "text": [
      "Wall time: 1.68 s\n"
     ]
    },
    {
     "data": {
      "image/png": "[encoded data removed]",
      "text/latex": [
       "$$\\left ( 0.31108091882287664, \\quad 8.291296193277774e-15\\right )$$"
      ],
      "text/plain": [
       "(0.31108091882287664, 8.291296193277774e-15)"
      ]
     },
     "execution_count": 119,
     "metadata": {},
     "output_type": "execute_result"
    }
   ],
   "source": [
    "%time integrate.nquad(f, [(0,1)] * 4)"
   ]
  },
  {
   "cell_type": "code",
   "execution_count": 120,
   "metadata": {},
   "outputs": [
    {
     "name": "stdout",
     "output_type": "stream",
     "text": [
      "Wall time: 35.4 s\n"
     ]
    },
    {
     "data": {
      "image/png": "[encoded data removed]",
      "text/latex": [
       "$$\\left ( 0.23232273743438786, \\quad 8.29125709942545e-15\\right )$$"
      ],
      "text/plain": [
       "(0.23232273743438786, 8.29125709942545e-15)"
      ]
     },
     "execution_count": 120,
     "metadata": {},
     "output_type": "execute_result"
    }
   ],
   "source": [
    "%time integrate.nquad(f, [(0,1)] * 5)"
   ]
  },
  {
   "cell_type": "markdown",
   "metadata": {},
   "source": [
    "## Monte Carlo integration"
   ]
  },
  {
   "cell_type": "code",
   "execution_count": 130,
   "metadata": {},
   "outputs": [],
   "source": [
    "from skmonaco import mcquad"
   ]
  },
  {
   "cell_type": "code",
   "execution_count": null,
   "metadata": {},
   "outputs": [],
   "source": [
    "%time val, err = mcquad(f, xl=np.zeros(5), xu=np.ones(5), npoints=100000)"
   ]
  },
  {
   "cell_type": "code",
   "execution_count": null,
   "metadata": {},
   "outputs": [],
   "source": [
    "val, err"
   ]
  },
  {
   "cell_type": "code",
   "execution_count": null,
   "metadata": {},
   "outputs": [],
   "source": [
    "%time val, err = mcquad(f, xl=np.zeros(10), xu=np.ones(10), npoints=100000)"
   ]
  },
  {
   "cell_type": "code",
   "execution_count": null,
   "metadata": {},
   "outputs": [],
   "source": [
    "val, err"
   ]
  },
  {
   "cell_type": "markdown",
   "metadata": {},
   "source": [
    "## Symbolic Integrals"
   ]
  },
  {
   "cell_type": "markdown",
   "metadata": {},
   "source": [
    "### single integrals"
   ]
  },
  {
   "cell_type": "code",
   "execution_count": 131,
   "metadata": {},
   "outputs": [],
   "source": [
    "x = sympy.symbols(\"x\")"
   ]
  },
  {
   "cell_type": "code",
   "execution_count": 132,
   "metadata": {},
   "outputs": [],
   "source": [
    "f = 2 * sympy.sqrt(1-x**2)"
   ]
  },
  {
   "cell_type": "code",
   "execution_count": 133,
   "metadata": {},
   "outputs": [],
   "source": [
    "a, b = -1, 1"
   ]
  },
  {
   "cell_type": "code",
   "execution_count": 134,
   "metadata": {},
   "outputs": [
    {
     "data": {
      "image/png": "[encoded data removed]",
      "text/plain": [
       "<Figure size 432x288 with 1 Axes>"
      ]
     },
     "metadata": {
      "needs_background": "light"
     },
     "output_type": "display_data"
    }
   ],
   "source": [
    "sympy.plot(f, (x, -2, 2));"
   ]
  },
  {
   "cell_type": "code",
   "execution_count": 135,
   "metadata": {},
   "outputs": [
    {
     "name": "stdout",
     "output_type": "stream",
     "text": [
      "pi\n"
     ]
    }
   ],
   "source": [
    "val_sym = sympy.integrate(f, (x, a, b))\n",
    "print (val_sym)"
   ]
  },
  {
   "cell_type": "code",
   "execution_count": 137,
   "metadata": {},
   "outputs": [],
   "source": [
    "# integrating with \"sympy.mpmath.quad\"\n",
    "sympy.mpmath.mp.dps = 75\n",
    "f_mpmath = sympy.lambdify(x, f, 'mpmath')\n",
    "val = sympy.mpmath.quad(f_mpmath, (a, b))\n",
    "print (sympy.sympify(val))"
   ]
  },
  {
   "cell_type": "code",
   "execution_count": 42,
   "metadata": {},
   "outputs": [
    {
     "name": "stdout",
     "output_type": "stream",
     "text": [
      "6.908934844075555700309081490240319656892800291549025108018962776134873442530e-77\n"
     ]
    }
   ],
   "source": [
    "print sympy.N(val_sym, sympy.mpmath.mp.dps+1) - val"
   ]
  },
  {
   "cell_type": "code",
   "execution_count": 138,
   "metadata": {},
   "outputs": [
    {
     "name": "stdout",
     "output_type": "stream",
     "text": [
      "3.141592653589797\n"
     ]
    }
   ],
   "source": [
    "# integrating with \"integrate.quad\"\n",
    "f_numpy = sympy.lambdify(x, f, 'numpy')\n",
    "print (integrate.quad(f_numpy, a, b)[0])"
   ]
  },
  {
   "cell_type": "code",
   "execution_count": 140,
   "metadata": {},
   "outputs": [],
   "source": [
    "%timeit sympy.mpmath.quad(f_mpmath, [a, b])\n",
    "%timeit integrate.quad(f_numpy, a, b)"
   ]
  },
  {
   "cell_type": "markdown",
   "metadata": {},
   "source": [
    "### double and triple integrals"
   ]
  },
  {
   "cell_type": "code",
   "execution_count": null,
   "metadata": {},
   "outputs": [],
   "source": [
    "def f2(x, y):\n",
    "    return np.cos(x)*np.cos(y)*np.exp(-x**2-y**2)\n",
    "\n",
    "def f3(x, y, z):\n",
    "    return np.cos(x)*np.cos(y)*np.cos(z)*np.exp(-x**2-y**2-z**2)"
   ]
  },
  {
   "cell_type": "code",
   "execution_count": null,
   "metadata": {},
   "outputs": [],
   "source": [
    "print integrate.dblquad(f2, 0, 1, lambda x : 0, lambda x : 1)"
   ]
  },
  {
   "cell_type": "code",
   "execution_count": null,
   "metadata": {},
   "outputs": [],
   "source": [
    "print integrate.tplquad(f3, 0, 1, lambda x : 0, lambda x : 1, lambda x, y : 0, lambda x, y : 1)"
   ]
  },
  {
   "cell_type": "code",
   "execution_count": null,
   "metadata": {},
   "outputs": [],
   "source": [
    "x, y, z = sympy.symbols(\"x, y, z\")"
   ]
  },
  {
   "cell_type": "code",
   "execution_count": null,
   "metadata": {},
   "outputs": [],
   "source": [
    "f2 = sympy.cos(x)*sympy.cos(y)*sympy.exp(-x**2-y**2)\n",
    "f3 = sympy.cos(x)*sympy.cos(y)*sympy.cos(z)*sympy.exp(-x**2 - y**2 - z**2)"
   ]
  },
  {
   "cell_type": "code",
   "execution_count": null,
   "metadata": {},
   "outputs": [],
   "source": [
    "f2_numpy = sympy.lambdify((x, y), f2, 'numpy')\n",
    "f3_numpy = sympy.lambdify((x, y, z), f3, 'numpy')"
   ]
  },
  {
   "cell_type": "code",
   "execution_count": null,
   "metadata": {},
   "outputs": [],
   "source": [
    "print integrate.dblquad(f2_numpy, 0, 1, lambda x: 0, lambda x: 1)\n",
    "print integrate.tplquad(f3_numpy, 0, 1, lambda x: 0, lambda x: 1, lambda x, y: 0, lambda x, y: 1)"
   ]
  },
  {
   "cell_type": "code",
   "execution_count": null,
   "metadata": {},
   "outputs": [],
   "source": [
    "sympy.mpmath.mp.dps = 30"
   ]
  },
  {
   "cell_type": "code",
   "execution_count": null,
   "metadata": {},
   "outputs": [],
   "source": [
    "f2_mpmath = sympy.lambdify((x, y), f2, 'mpmath')\n",
    "sympy.mpmath.quad(f2_mpmath, (0, 1), (0, 1))"
   ]
  },
  {
   "cell_type": "code",
   "execution_count": null,
   "metadata": {},
   "outputs": [],
   "source": [
    "f3_mpmath = sympy.lambdify((x, y, z), f3, 'mpmath')\n",
    "res = sympy.mpmath.quad(f3_mpmath, (0, 1), (0, 1), (0, 1))\n",
    "print sympy.sympify(res)"
   ]
  },
  {
   "cell_type": "markdown",
   "metadata": {},
   "source": [
    "## Line integrals"
   ]
  },
  {
   "cell_type": "code",
   "execution_count": 141,
   "metadata": {},
   "outputs": [],
   "source": [
    "t, x, y = sympy.symbols(\"t, x, y\")"
   ]
  },
  {
   "cell_type": "code",
   "execution_count": 142,
   "metadata": {},
   "outputs": [],
   "source": [
    "C = sympy.Curve([sympy.cos(t), sympy.sin(t)], (t, 0, 2 * sympy.pi))"
   ]
  },
  {
   "cell_type": "code",
   "execution_count": 143,
   "metadata": {},
   "outputs": [
    {
     "name": "stdout",
     "output_type": "stream",
     "text": [
      "2*pi\n"
     ]
    }
   ],
   "source": [
    "print (sympy.line_integrate(1, C, [x, y]))"
   ]
  },
  {
   "cell_type": "code",
   "execution_count": 144,
   "metadata": {},
   "outputs": [
    {
     "name": "stdout",
     "output_type": "stream",
     "text": [
      "pi/4\n"
     ]
    }
   ],
   "source": [
    "print (sympy.line_integrate(x**2 * y**2, C, [x, y]))"
   ]
  },
  {
   "cell_type": "markdown",
   "metadata": {},
   "source": [
    "## Integral transformations"
   ]
  },
  {
   "cell_type": "markdown",
   "metadata": {},
   "source": [
    "### Laplace transforms"
   ]
  },
  {
   "cell_type": "code",
   "execution_count": 145,
   "metadata": {},
   "outputs": [],
   "source": [
    "s = sympy.symbols(\"s\")"
   ]
  },
  {
   "cell_type": "code",
   "execution_count": 146,
   "metadata": {},
   "outputs": [],
   "source": [
    "a, t = sympy.symbols(\"a, t\", positive=True)"
   ]
  },
  {
   "cell_type": "code",
   "execution_count": 147,
   "metadata": {},
   "outputs": [],
   "source": [
    "f = sympy.sin(a*t)"
   ]
  },
  {
   "cell_type": "code",
   "execution_count": 148,
   "metadata": {},
   "outputs": [
    {
     "data": {
      "image/png": "[encoded data removed]",
      "text/latex": [
       "$$\\left ( \\frac{a}{a^{2} + s^{2}}, \\quad -\\infty, \\quad 0 < \\Re{\\left(s\\right)}\\right )$$"
      ],
      "text/plain": [
       "⎛   a                  ⎞\n",
       "⎜───────, -∞, 0 < re(s)⎟\n",
       "⎜ 2    2               ⎟\n",
       "⎝a  + s                ⎠"
      ]
     },
     "execution_count": 148,
     "metadata": {},
     "output_type": "execute_result"
    }
   ],
   "source": [
    "sympy.laplace_transform(f, t, s)"
   ]
  },
  {
   "cell_type": "code",
   "execution_count": 149,
   "metadata": {},
   "outputs": [],
   "source": [
    "F = sympy.laplace_transform(f, t, s, noconds=True)"
   ]
  },
  {
   "cell_type": "code",
   "execution_count": 150,
   "metadata": {},
   "outputs": [
    {
     "data": {
      "image/png": "[encoded data removed]",
      "text/latex": [
       "$$\\frac{a}{a^{2} + s^{2}}$$"
      ],
      "text/plain": [
       "   a   \n",
       "───────\n",
       " 2    2\n",
       "a  + s "
      ]
     },
     "execution_count": 150,
     "metadata": {},
     "output_type": "execute_result"
    }
   ],
   "source": [
    "F"
   ]
  },
  {
   "cell_type": "code",
   "execution_count": 151,
   "metadata": {},
   "outputs": [
    {
     "data": {
      "image/png": "[encoded data removed]",
      "text/latex": [
       "$$\\sin{\\left (a t \\right )}$$"
      ],
      "text/plain": [
       "sin(a⋅t)"
      ]
     },
     "execution_count": 151,
     "metadata": {},
     "output_type": "execute_result"
    }
   ],
   "source": [
    "sympy.inverse_laplace_transform(F, s, t, noconds=True)"
   ]
  },
  {
   "cell_type": "code",
   "execution_count": 152,
   "metadata": {},
   "outputs": [
    {
     "data": {
      "image/png": "[encoded data removed]",
      "text/latex": [
       "$$\\left [ \\frac{1}{s^{2}}, \\quad \\frac{2}{s^{3}}, \\quad \\frac{6}{s^{4}}, \\quad \\frac{24}{s^{5}}\\right ]$$"
      ],
      "text/plain": [
       "⎡1   2   6   24⎤\n",
       "⎢──, ──, ──, ──⎥\n",
       "⎢ 2   3   4   5⎥\n",
       "⎣s   s   s   s ⎦"
      ]
     },
     "execution_count": 152,
     "metadata": {},
     "output_type": "execute_result"
    }
   ],
   "source": [
    "[sympy.laplace_transform(f, t, s, noconds=True) for f in [t, t**2, t**3, t**4]]"
   ]
  },
  {
   "cell_type": "code",
   "execution_count": 154,
   "metadata": {},
   "outputs": [],
   "source": [
    "n = sympy.symbols(\"n\", integer=True, positive=True)"
   ]
  },
  {
   "cell_type": "code",
   "execution_count": 155,
   "metadata": {},
   "outputs": [
    {
     "data": {
      "image/png": "[encoded data removed]",
      "text/latex": [
       "$$s^{- n - 1} \\Gamma{\\left(n + 1 \\right)}$$"
      ],
      "text/plain": [
       " -n - 1         \n",
       "s      ⋅Γ(n + 1)"
      ]
     },
     "execution_count": 155,
     "metadata": {},
     "output_type": "execute_result"
    }
   ],
   "source": [
    "sympy.laplace_transform(t**n, t, s, noconds=True)"
   ]
  },
  {
   "cell_type": "code",
   "execution_count": 156,
   "metadata": {},
   "outputs": [
    {
     "data": {
      "image/png": "[encoded data removed]",
      "text/latex": [
       "$$\\frac{s}{\\left(a + s\\right)^{2}}$$"
      ],
      "text/plain": [
       "   s    \n",
       "────────\n",
       "       2\n",
       "(a + s) "
      ]
     },
     "execution_count": 156,
     "metadata": {},
     "output_type": "execute_result"
    }
   ],
   "source": [
    "sympy.laplace_transform((1 - a*t) * sympy.exp(-a*t), t, s, noconds=True)"
   ]
  },
  {
   "cell_type": "markdown",
   "metadata": {},
   "source": [
    "### Fourier Transforms"
   ]
  },
  {
   "cell_type": "code",
   "execution_count": 157,
   "metadata": {},
   "outputs": [],
   "source": [
    "w = sympy.symbols(\"omega\")"
   ]
  },
  {
   "cell_type": "code",
   "execution_count": 158,
   "metadata": {},
   "outputs": [],
   "source": [
    "f = sympy.exp(-a*t**2)"
   ]
  },
  {
   "cell_type": "code",
   "execution_count": 159,
   "metadata": {},
   "outputs": [
    {
     "name": "stdout",
     "output_type": "stream",
     "text": [
      "Help on function fourier_transform in module sympy.integrals.transforms:\n",
      "\n",
      "fourier_transform(f, x, k, **hints)\n",
      "    Compute the unitary, ordinary-frequency Fourier transform of `f`, defined\n",
      "    as\n",
      "    \n",
      "    .. math:: F(k) = \\int_{-\\infty}^\\infty f(x) e^{-2\\pi i x k} \\mathrm{d} x.\n",
      "    \n",
      "    If the transform cannot be computed in closed form, this\n",
      "    function returns an unevaluated :class:`FourierTransform` object.\n",
      "    \n",
      "    For other Fourier transform conventions, see the function\n",
      "    :func:`sympy.integrals.transforms._fourier_transform`.\n",
      "    \n",
      "    For a description of possible hints, refer to the docstring of\n",
      "    :func:`sympy.integrals.transforms.IntegralTransform.doit`.\n",
      "    Note that for this transform, by default ``noconds=True``.\n",
      "    \n",
      "    >>> from sympy import fourier_transform, exp\n",
      "    >>> from sympy.abc import x, k\n",
      "    >>> fourier_transform(exp(-x**2), x, k)\n",
      "    sqrt(pi)*exp(-pi**2*k**2)\n",
      "    >>> fourier_transform(exp(-x**2), x, k, noconds=False)\n",
      "    (sqrt(pi)*exp(-pi**2*k**2), True)\n",
      "    \n",
      "    See Also\n",
      "    ========\n",
      "    \n",
      "    inverse_fourier_transform\n",
      "    sine_transform, inverse_sine_transform\n",
      "    cosine_transform, inverse_cosine_transform\n",
      "    hankel_transform, inverse_hankel_transform\n",
      "    mellin_transform, laplace_transform\n",
      "\n"
     ]
    }
   ],
   "source": [
    "help(sympy.fourier_transform)"
   ]
  },
  {
   "cell_type": "code",
   "execution_count": 161,
   "metadata": {},
   "outputs": [],
   "source": [
    "F = sympy.fourier_transform(f, t, w)"
   ]
  },
  {
   "cell_type": "code",
   "execution_count": 162,
   "metadata": {},
   "outputs": [
    {
     "data": {
      "image/png": "[encoded data removed]",
      "text/latex": [
       "$$\\frac{\\sqrt{\\pi}}{\\sqrt{a}} e^{- \\frac{\\pi^{2} \\omega^{2}}{a}}$$"
      ],
      "text/plain": [
       "      2  2 \n",
       "    -π ⋅ω  \n",
       "    ───────\n",
       "       a   \n",
       "√π⋅ℯ       \n",
       "───────────\n",
       "     √a    "
      ]
     },
     "execution_count": 162,
     "metadata": {},
     "output_type": "execute_result"
    }
   ],
   "source": [
    "F"
   ]
  },
  {
   "cell_type": "code",
   "execution_count": 163,
   "metadata": {},
   "outputs": [
    {
     "data": {
      "image/png": "[encoded data removed]",
      "text/latex": [
       "$$e^{- a t^{2}}$$"
      ],
      "text/plain": [
       "     2\n",
       " -a⋅t \n",
       "ℯ     "
      ]
     },
     "execution_count": 163,
     "metadata": {},
     "output_type": "execute_result"
    }
   ],
   "source": [
    "sympy.inverse_fourier_transform(F, w, t)"
   ]
  }
 ],
 "metadata": {
  "anaconda-cloud": {},
  "kernelspec": {
   "display_name": "Python 3",
   "language": "python",
   "name": "python3"
  },
  "language_info": {
   "codemirror_mode": {
    "name": "ipython",
    "version": 3
   },
   "file_extension": ".py",
   "mimetype": "text/x-python",
   "name": "python",
   "nbconvert_exporter": "python",
   "pygments_lexer": "ipython3",
   "version": "3.6.4"
  }
 },
 "nbformat": 4,
 "nbformat_minor": 1
}
