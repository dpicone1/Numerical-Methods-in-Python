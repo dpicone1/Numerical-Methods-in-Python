{
 "cells": [
  {
   "cell_type": "markdown",
   "metadata": {},
   "source": [
    "# Calculate the Gamma function with an integral"
   ]
  },
  {
   "cell_type": "code",
   "execution_count": 1,
   "metadata": {},
   "outputs": [],
   "source": [
    "import numpy as np\n",
    "import timeit\n",
    "import scipy.integrate as integ\n",
    "import math"
   ]
  },
  {
   "cell_type": "code",
   "execution_count": 2,
   "metadata": {},
   "outputs": [
    {
     "name": "stdout",
     "output_type": "stream",
     "text": [
      "2.0\n",
      "2.0\n"
     ]
    }
   ],
   "source": [
    "from math import sin, pi, exp, gamma\n",
    "\n",
    "def gammadom(t):\n",
    "    def g(x):\n",
    "        return exp(-x)*x**(t-1)\n",
    "    result = integ.quad(g, 0, np.inf)[0]\n",
    "    return round(result, 2)\n",
    "\n",
    "# we have a function in python which does excatly this! Let's check!\n",
    "print (gammadom(3))\n",
    "print (gamma(3))"
   ]
  },
  {
   "cell_type": "code",
   "execution_count": 4,
   "metadata": {},
   "outputs": [
    {
     "name": "stdout",
     "output_type": "stream",
     "text": [
      "[1.0, 1.0, 2.0, 6.0, 24.0, 120.0, 720.0, 5040.0, 40320.0, 362880.0, 3628800.0]\n",
      "[1.0, 1.0, 2.0, 6.0, 24.0, 120.0, 720.0, 5040.0, 40320.0, 362880.0, 3628800.0]\n"
     ]
    }
   ],
   "source": [
    "def dom1(n):\n",
    "    ser = range(n+1)\n",
    "    return list(map(gammadom,ser[1:n+1]))\n",
    "\n",
    "def dom2(n):\n",
    "    ser = range(n+1)\n",
    "    return list(map(gamma,ser[1:n+1]))\n",
    "\n",
    "print (dom1(11))\n",
    "print (dom2(11))"
   ]
  }
 ],
 "metadata": {
  "anaconda-cloud": {},
  "kernelspec": {
   "display_name": "Python 3",
   "language": "python",
   "name": "python3"
  },
  "language_info": {
   "codemirror_mode": {
    "name": "ipython",
    "version": 3
   },
   "file_extension": ".py",
   "mimetype": "text/x-python",
   "name": "python",
   "nbconvert_exporter": "python",
   "pygments_lexer": "ipython3",
   "version": "3.6.4"
  }
 },
 "nbformat": 4,
 "nbformat_minor": 1
}
