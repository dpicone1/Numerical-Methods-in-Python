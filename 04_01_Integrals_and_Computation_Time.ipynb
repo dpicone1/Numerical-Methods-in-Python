{
 "cells": [
  {
   "cell_type": "markdown",
   "metadata": {},
   "source": [
    "# Integrals with and without ZIP, and with quad from scipy.integrate"
   ]
  },
  {
   "cell_type": "code",
   "execution_count": null,
   "metadata": {},
   "outputs": [],
   "source": [
    "Let's begin to run some integration."
   ]
  },
  {
   "cell_type": "code",
   "execution_count": 1,
   "metadata": {},
   "outputs": [
    {
     "name": "stdout",
     "output_type": "stream",
     "text": [
      "1.99983550389\n",
      "1.99983550389\n",
      "2.0\n",
      "1000 loops, best of 3: 1.95 ms per loop\n",
      "100 loops, best of 3: 3.04 ms per loop\n",
      "100000 loops, best of 3: 6.76 µs per loop\n"
     ]
    }
   ],
   "source": [
    "def trapeziod1(f, a, b, n):\n",
    "    enne = float(n)\n",
    "    h    = (float(b)-float(a))/enne\n",
    "    xvals = [a + i*h for i in range(n+1)]\n",
    "    yvals = [f(x) for x in xvals]\n",
    "    return sum(yvals)*h\n",
    "\n",
    "def trapeziod2(f, a, b, n):\n",
    "    enne = float(n)\n",
    "    h    = (float(b)-float(a))/enne\n",
    "    xvals = [a + i*h for i in range(n+1)]\n",
    "    yvals = [f(x) for x in xvals]\n",
    "    res   = [x + y for x,y in zip(yvals[:-1],yvals[1:] )]\n",
    "    return sum(res)*h*0.5\n",
    "\n",
    "from scipy.integrate import quad\n",
    "def trapeziod3(f, a, b):\n",
    "    return quad(f,a,b)[0]\n",
    "\n",
    "import math as ma\n",
    "print (trapeziod1(ma.sin, 0, ma.pi, 100))\n",
    "print (trapeziod2(ma.sin, 0, ma.pi, 100))\n",
    "print (trapeziod3(ma.sin, 0, ma.pi))\n",
    "\n",
    "import timeit\n",
    "%timeit trapeziod1(ma.sin, 0, ma.pi, 10000)\n",
    "%timeit trapeziod2(ma.sin, 0, ma.pi, 10000)\n",
    "%timeit trapeziod3(ma.sin, 0, ma.pi)"
   ]
  }
 ],
 "metadata": {
  "kernelspec": {
   "display_name": "Python 3",
   "language": "python",
   "name": "python3"
  },
  "language_info": {
   "codemirror_mode": {
    "name": "ipython",
    "version": 3
   },
   "file_extension": ".py",
   "mimetype": "text/x-python",
   "name": "python",
   "nbconvert_exporter": "python",
   "pygments_lexer": "ipython3",
   "version": "3.6.4"
  }
 },
 "nbformat": 4,
 "nbformat_minor": 1
}
