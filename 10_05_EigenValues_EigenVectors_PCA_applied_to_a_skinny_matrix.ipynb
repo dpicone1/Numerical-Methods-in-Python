{
 "cells": [
  {
   "cell_type": "markdown",
   "metadata": {},
   "source": [
    "# Eigenvalues and Eigenvectors and PCA"
   ]
  },
  {
   "cell_type": "raw",
   "metadata": {},
   "source": [
    "with respect to the notebook 08_04_ in this notebook we are using a skinny matrix, assuming containing two series with some correlation. We calculate the eigenvectors and eigenvalues, we are then run the PCA analysis "
   ]
  },
  {
   "cell_type": "markdown",
   "metadata": {},
   "source": [
    "## Eigenvalues and Eigenvectors"
   ]
  },
  {
   "cell_type": "code",
   "execution_count": 1,
   "metadata": {},
   "outputs": [
    {
     "name": "stdout",
     "output_type": "stream",
     "text": [
      "[[ 0.69  0.49]\n",
      " [-1.31 -1.21]\n",
      " [ 0.39  0.99]\n",
      " [ 0.09  0.29]\n",
      " [ 1.29  1.09]\n",
      " [ 0.49  0.79]\n",
      " [ 0.19 -0.31]\n",
      " [-0.81 -0.81]\n",
      " [-0.31 -0.31]\n",
      " [-0.71 -1.01]]\n",
      "10\n"
     ]
    }
   ],
   "source": [
    "import numpy as np\n",
    "x = np.array([2.5,0.5,2.2,1.9,3.1,2.3,2.0,1.0,1.5,1.1])\n",
    "y = np.array([2.4,0.7,2.9,2.2,3.0,2.7,1.6,1.1,1.6,0.9])\n",
    "x_bar = np.mean(x)\n",
    "y_bar = np.mean(y)\n",
    "x = x - x_bar\n",
    "y = y - y_bar\n",
    "A = np.column_stack((x,y))\n",
    "print (A)\n",
    "print (len(y))\n",
    "lunghezza = len(y) -1"
   ]
  },
  {
   "cell_type": "code",
   "execution_count": 2,
   "metadata": {},
   "outputs": [
    {
     "name": "stdout",
     "output_type": "stream",
     "text": [
      "[[ 0.69  0.49]\n",
      " [-1.31 -1.21]\n",
      " [ 0.39  0.99]\n",
      " [ 0.09  0.29]\n",
      " [ 1.29  1.09]\n",
      " [ 0.49  0.79]\n",
      " [ 0.19 -0.31]\n",
      " [-0.81 -0.81]\n",
      " [-0.31 -0.31]\n",
      " [-0.71 -1.01]]\n",
      "[[ 0.69 -1.31  0.39  0.09  1.29  0.49  0.19 -0.81 -0.31 -0.71]\n",
      " [ 0.49 -1.21  0.99  0.29  1.09  0.79 -0.31 -0.81 -0.31 -1.01]]\n",
      "[[5.549 5.539]\n",
      " [5.539 6.449]]\n",
      "[[0.61655556 0.61544444]\n",
      " [0.61544444 0.71655556]]\n"
     ]
    }
   ],
   "source": [
    "print (A)\n",
    "AT = (A.T)\n",
    "print (AT)\n",
    "C = AT.dot(A)\n",
    "print (C)\n",
    "VarCovMatrix = C / lunghezza\n",
    "print (VarCovMatrix)\n",
    "c = np.cov(A)"
   ]
  },
  {
   "cell_type": "code",
   "execution_count": 3,
   "metadata": {},
   "outputs": [
    {
     "name": "stdout",
     "output_type": "stream",
     "text": [
      "[0.0490834  1.28402771]\n"
     ]
    }
   ],
   "source": [
    "from scipy import linalg as la\n",
    "from scipy.linalg import eigh # alternative object to library to numpy.linalg.eig object to calculate eig \n",
    "\n",
    "print (la.eigvalsh(VarCovMatrix))"
   ]
  },
  {
   "cell_type": "code",
   "execution_count": 4,
   "metadata": {},
   "outputs": [
    {
     "name": "stdout",
     "output_type": "stream",
     "text": [
      "[[-0.73517866 -0.6778734 ]\n",
      " [ 0.6778734  -0.73517866]]\n",
      "[0.0490834  1.28402771]\n"
     ]
    }
   ],
   "source": [
    "eigenvalues, eigenvectors  = np.linalg.eig(VarCovMatrix)\n",
    "print (eigenvectors)\n",
    "print (eigenvalues)"
   ]
  },
  {
   "cell_type": "code",
   "execution_count": 5,
   "metadata": {},
   "outputs": [
    {
     "name": "stdout",
     "output_type": "stream",
     "text": [
      "[[-0.6778734  -0.73517866]\n",
      " [-0.73517866  0.6778734 ]]\n",
      "[1.28402771 0.0490834 ]\n"
     ]
    }
   ],
   "source": [
    "import copy as cp\n",
    "\n",
    "eigenvectorsS = cp.deepcopy(eigenvectors)\n",
    "eigenvectors[:,0] = eigenvectorsS[:,1]\n",
    "eigenvectors[:,1] = eigenvectorsS[:,0]\n",
    "\n",
    "eigenvaluesS = cp.deepcopy(eigenvalues)\n",
    "eigenvalues[0] = eigenvaluesS[1]\n",
    "eigenvalues[1] = eigenvaluesS[0]\n",
    "print (eigenvectors)\n",
    "print (eigenvalues)"
   ]
  },
  {
   "cell_type": "code",
   "execution_count": 6,
   "metadata": {},
   "outputs": [
    {
     "name": "stdout",
     "output_type": "stream",
     "text": [
      "[[1.28402771 0.        ]\n",
      " [0.         0.0490834 ]]\n"
     ]
    }
   ],
   "source": [
    "Lambda = np.diag(eigenvalues)\n",
    "print (Lambda)"
   ]
  },
  {
   "cell_type": "code",
   "execution_count": 7,
   "metadata": {},
   "outputs": [
    {
     "name": "stdout",
     "output_type": "stream",
     "text": [
      "[-0.87040823 -0.94398977]\n",
      "[-0.87040823 -0.94398977]\n"
     ]
    }
   ],
   "source": [
    "print (VarCovMatrix.dot(eigenvectors[:,0]))\n",
    "print (eigenvalues[0]*eigenvectors[:,0])"
   ]
  },
  {
   "cell_type": "code",
   "execution_count": 8,
   "metadata": {},
   "outputs": [
    {
     "name": "stdout",
     "output_type": "stream",
     "text": [
      "[-0.03608507  0.03327233]\n",
      "[-0.03608507  0.03327233]\n"
     ]
    }
   ],
   "source": [
    "print (VarCovMatrix.dot(eigenvectors[:,1]))\n",
    "print (eigenvalues[1]*eigenvectors[:,1])"
   ]
  },
  {
   "cell_type": "code",
   "execution_count": 9,
   "metadata": {},
   "outputs": [
    {
     "name": "stdout",
     "output_type": "stream",
     "text": [
      "[[-0.87040823 -0.03608507]\n",
      " [-0.94398977  0.03327233]]\n",
      "[[-0.87040823 -0.03608507]\n",
      " [-0.94398977  0.03327233]]\n"
     ]
    }
   ],
   "source": [
    "print (VarCovMatrix.dot(eigenvectors))\n",
    "print (eigenvectors.dot(Lambda))"
   ]
  },
  {
   "cell_type": "code",
   "execution_count": 10,
   "metadata": {},
   "outputs": [
    {
     "name": "stdout",
     "output_type": "stream",
     "text": [
      "0.9999999999999999\n",
      "0.9999999999999999\n"
     ]
    }
   ],
   "source": [
    "# All eigenvectors are orthonormal ALREADY \n",
    "print (np.linalg.norm(eigenvectors[:,0]))\n",
    "print (np.linalg.norm(eigenvectors[:,1]))"
   ]
  },
  {
   "cell_type": "code",
   "execution_count": 11,
   "metadata": {},
   "outputs": [
    {
     "name": "stdout",
     "output_type": "stream",
     "text": [
      "[[1. 0.]\n",
      " [0. 1.]]\n"
     ]
    }
   ],
   "source": [
    "# U * U.T is the identity\n",
    "print (eigenvectors.dot(eigenvectors.T))"
   ]
  },
  {
   "cell_type": "code",
   "execution_count": 12,
   "metadata": {},
   "outputs": [
    {
     "name": "stdout",
     "output_type": "stream",
     "text": [
      "[[-0.6778734  -0.73517866]\n",
      " [-0.73517866  0.6778734 ]]\n",
      "[[-0.6778734  -0.73517866]\n",
      " [-0.73517866  0.6778734 ]]\n"
     ]
    }
   ],
   "source": [
    "# Transpose and Inverse are the same\n",
    "print (np.linalg.inv(eigenvectors))\n",
    "print (eigenvectors.T)"
   ]
  },
  {
   "cell_type": "markdown",
   "metadata": {},
   "source": [
    "## Principal Components "
   ]
  },
  {
   "cell_type": "markdown",
   "metadata": {},
   "source": [
    "We are missing an algo that sort the eigenValues according to the max\n",
    "and then amend the eigenvectors based upon the according sorted eigenValues"
   ]
  },
  {
   "cell_type": "markdown",
   "metadata": {},
   "source": [
    "Below I did Manually"
   ]
  },
  {
   "cell_type": "code",
   "execution_count": 13,
   "metadata": {},
   "outputs": [
    {
     "name": "stdout",
     "output_type": "stream",
     "text": [
      "[[0.61655556 0.61544444]\n",
      " [0.61544444 0.71655556]]\n",
      "[[-0.87040823 -0.03608507]\n",
      " [-0.94398977  0.03327233]]\n"
     ]
    }
   ],
   "source": [
    "# The principla components are: \n",
    "# Before Rotation\n",
    "print (VarCovMatrix)\n",
    "# Now we rotate\n",
    "P = VarCovMatrix.dot(eigenvectors)\n",
    "print (P)"
   ]
  },
  {
   "cell_type": "code",
   "execution_count": 14,
   "metadata": {},
   "outputs": [
    {
     "name": "stdout",
     "output_type": "stream",
     "text": [
      "[[1.6487 0.    ]\n",
      " [0.     0.0024]]\n"
     ]
    }
   ],
   "source": [
    "# If i do the following I recover the eigenvalues\n",
    "print (np.matrix.round(P.T.dot(P),4))"
   ]
  },
  {
   "cell_type": "code",
   "execution_count": 15,
   "metadata": {},
   "outputs": [],
   "source": [
    "import math as ma"
   ]
  },
  {
   "cell_type": "code",
   "execution_count": 16,
   "metadata": {},
   "outputs": [
    {
     "name": "stdout",
     "output_type": "stream",
     "text": [
      "-0.6778733985280117\n",
      "2.315662457290723\n",
      "2.315662457290723\n",
      "132.6776855796517\n"
     ]
    }
   ],
   "source": [
    "# the eigenvector element [0,0] is \n",
    "print (eigenvectors[0,0])\n",
    "# We extract theta from cos(theta) =  eigenvector[0,0]\n",
    "print (np.arccos(eigenvectors[0,0]))\n",
    "\n",
    "print (ma.acos(eigenvectors[0,0]))\n",
    "# and in degrees\n",
    "print (ma.degrees(ma.acos(eigenvectors[0,0])))"
   ]
  },
  {
   "cell_type": "code",
   "execution_count": 17,
   "metadata": {},
   "outputs": [
    {
     "name": "stdout",
     "output_type": "stream",
     "text": [
      "[[-0.82797019 -0.17511531]\n",
      " [ 1.77758033  0.14285723]\n",
      " [-0.99219749  0.38437499]\n",
      " [-0.27421042  0.13041721]\n",
      " [-1.67580142 -0.20949846]\n",
      " [-0.9129491   0.17528244]\n",
      " [ 0.09910944 -0.3498247 ]\n",
      " [ 1.14457216  0.04641726]\n",
      " [ 0.43804614  0.01776463]\n",
      " [ 1.22382056 -0.16267529]]\n",
      " --------------------- \n",
      "[[-0.82797019 -0.17511531]\n",
      " [ 1.77758033  0.14285723]\n",
      " [-0.99219749  0.38437499]\n",
      " [-0.27421042  0.13041721]\n",
      " [-1.67580142 -0.20949846]\n",
      " [-0.9129491   0.17528244]\n",
      " [ 0.09910944 -0.3498247 ]\n",
      " [ 1.14457216  0.04641726]\n",
      " [ 0.43804614  0.01776463]\n",
      " [ 1.22382056 -0.16267529]]\n"
     ]
    }
   ],
   "source": [
    "# The Transformed data set can be calculated with\n",
    "# 1  \n",
    "eigenvectorsT = eigenvectors.T\n",
    "Transf_A = eigenvectorsT.dot(A.T)\n",
    "print (Transf_A.T)\n",
    "print (\" --------------------- \")\n",
    "# or 2\n",
    "Transf_A2 = A.dot(eigenvectors)\n",
    "print (Transf_A2)"
   ]
  },
  {
   "cell_type": "code",
   "execution_count": 18,
   "metadata": {},
   "outputs": [],
   "source": [
    "import matplotlib.pyplot as plt\n",
    "%matplotlib inline"
   ]
  },
  {
   "cell_type": "code",
   "execution_count": 19,
   "metadata": {},
   "outputs": [
    {
     "data": {
      "image/png": "[encoded data removed]",
      "text/plain": [
       "<Figure size 432x288 with 2 Axes>"
      ]
     },
     "metadata": {
      "needs_background": "light"
     },
     "output_type": "display_data"
    }
   ],
   "source": [
    "# and see the old vs translated data\n",
    "xData_T = Transf_A2[:,0]\n",
    "yData_T = Transf_A2[:,1]\n",
    "\n",
    "xData = A[:,0]\n",
    "yData = A[:,1]\n",
    "\n",
    "fig,(axleft,axright) = plt.subplots(nrows=1,ncols=2, sharex=True)\n",
    "axleft.scatter(xData, yData)\n",
    "axleft.set_ylim(-1.5,1.5)\n",
    "axright.scatter(xData_T, yData_T)\n",
    "axright.set_ylim(-1.5,1.5)\n",
    "plt.show()"
   ]
  },
  {
   "cell_type": "code",
   "execution_count": 20,
   "metadata": {},
   "outputs": [
    {
     "data": {
      "image/png": "[encoded data removed]",
      "text/plain": [
       "<Figure size 576x288 with 1 Axes>"
      ]
     },
     "metadata": {
      "needs_background": "light"
     },
     "output_type": "display_data"
    }
   ],
   "source": [
    "# and again as\n",
    "fig, ax = plt.subplots(figsize=(8, 4))\n",
    "\n",
    "ax.scatter(xData,   yData,  color=\"r\")\n",
    "ax.scatter(xData_T, yData_T,color=\"b\")\n",
    "ax.set_xlim(-2,2)\n",
    "ax.set_ylim(-2,2)\n",
    "plt.show()"
   ]
  },
  {
   "cell_type": "code",
   "execution_count": 21,
   "metadata": {},
   "outputs": [],
   "source": [
    "# This code is from the book Machine Learning in Action, page 273.\n",
    "# the code creates the main axe, which is then plotted on the original \n",
    "# The main axe is called \"reconMat\"\n",
    "# The code also outputs the transformed x in \"Transf_A2\" see above and are exactly the same!\n",
    "# the sorting is done in the function\n",
    "from numpy import *\n",
    "def pca(dataMat, topNfeat=9999999):\n",
    "    meanVals = mean(dataMat, axis=0)\n",
    "    meanRemoved = dataMat - meanVals\n",
    "    covMat = cov(meanRemoved, rowvar=0)\n",
    "    eigVals,eigVects = linalg.eig(mat(covMat))\n",
    "    eigValInd = argsort(eigVals)\n",
    "    eigValInd = eigValInd[:-(topNfeat+1):-1]\n",
    "    redEigVects = eigVects[:,eigValInd]\n",
    "    lowDDataMat = meanRemoved * redEigVects\n",
    "    reconMat = (lowDDataMat * redEigVects.T) + meanVals\n",
    "    return lowDDataMat, reconMat"
   ]
  },
  {
   "cell_type": "code",
   "execution_count": 22,
   "metadata": {},
   "outputs": [
    {
     "name": "stdout",
     "output_type": "stream",
     "text": [
      "[[-0.82797019]\n",
      " [ 1.77758033]\n",
      " [-0.99219749]\n",
      " [-0.27421042]\n",
      " [-1.67580142]\n",
      " [-0.9129491 ]\n",
      " [ 0.09910944]\n",
      " [ 1.14457216]\n",
      " [ 0.43804614]\n",
      " [ 1.22382056]]\n",
      " -------------------------- \n",
      "[[ 0.56125896  0.60870601]\n",
      " [-1.20497442 -1.30683911]\n",
      " [ 0.67258429  0.72944242]\n",
      " [ 0.18587995  0.20159364]\n",
      " [ 1.1359812   1.23201343]\n",
      " [ 0.61886391  0.67118069]\n",
      " [-0.06718365 -0.07286314]\n",
      " [-0.77587502 -0.84146502]\n",
      " [-0.29693982 -0.32204217]\n",
      " [-0.8295954  -0.89972675]]\n"
     ]
    }
   ],
   "source": [
    "# and we test it\n",
    "a, b = pca(A,1)\n",
    "print (a)\n",
    "print (\" -------------------------- \")\n",
    "print (b)"
   ]
  },
  {
   "cell_type": "code",
   "execution_count": 23,
   "metadata": {},
   "outputs": [
    {
     "data": {
      "text/plain": [
       "'fig, ax = plt.subplots(figsize=(8, 4))\\nax.scatter(b[:,0],   b[:,1],  color=\"b\")\\nax.scatter(xData, yData,color=\"r\")\\nax.set_xlim(-2,2)\\nax.set_ylim(-2,2)\\nplt.show()'"
      ]
     },
     "execution_count": 23,
     "metadata": {},
     "output_type": "execute_result"
    }
   ],
   "source": [
    "'''fig, ax = plt.subplots(figsize=(8, 4))\n",
    "ax.scatter(b[:,0],   b[:,1],  color=\"b\")\n",
    "ax.scatter(xData, yData,color=\"r\")\n",
    "ax.set_xlim(-2,2)\n",
    "ax.set_ylim(-2,2)\n",
    "plt.show()'''"
   ]
  }
 ],
 "metadata": {
  "kernelspec": {
   "display_name": "Python 3",
   "language": "python",
   "name": "python3"
  },
  "language_info": {
   "codemirror_mode": {
    "name": "ipython",
    "version": 3
   },
   "file_extension": ".py",
   "mimetype": "text/x-python",
   "name": "python",
   "nbconvert_exporter": "python",
   "pygments_lexer": "ipython3",
   "version": "3.6.4"
  }
 },
 "nbformat": 4,
 "nbformat_minor": 1
}
