{
 "cells": [
  {
   "cell_type": "markdown",
   "metadata": {},
   "source": [
    "# Opimization Minimization of Multivariate Functions: UnConstraint and Constraint problems"
   ]
  },
  {
   "cell_type": "code",
   "execution_count": 1,
   "metadata": {},
   "outputs": [],
   "source": [
    "import numpy as np\n",
    "from scipy.optimize import minimize"
   ]
  },
  {
   "cell_type": "code",
   "execution_count": 2,
   "metadata": {},
   "outputs": [],
   "source": [
    "def func(x, sign=1.0):\n",
    "    \"\"\" Objective function \"\"\"\n",
    "    return sign*(2*x[0]*x[1] + 2*x[0] - x[0]**2 - 2*x[1]**2)"
   ]
  },
  {
   "cell_type": "code",
   "execution_count": 3,
   "metadata": {},
   "outputs": [],
   "source": [
    "def func_deriv(x, sign=1.0):\n",
    "    \"\"\" Derivative of objective function \"\"\"\n",
    "    dfdx0 = sign*(-2*x[0] + 2*x[1] + 2)\n",
    "    dfdx1 = sign*(2*x[0] - 4*x[1])\n",
    "    return np.array([ dfdx0, dfdx1 ])"
   ]
  },
  {
   "cell_type": "code",
   "execution_count": 4,
   "metadata": {},
   "outputs": [],
   "source": [
    "def func_uquality(x, sign=1.0):\n",
    "    \"\"\" Objective function \"\"\"\n",
    "    return x[0]**3 - x[1]\n",
    "\n",
    "def func_inequality(x, sign=1.0):\n",
    "    \"\"\" Objective function \"\"\"\n",
    "    return x[1] - 1"
   ]
  },
  {
   "cell_type": "code",
   "execution_count": 5,
   "metadata": {},
   "outputs": [],
   "source": [
    "def func_uquality_deriv(x, sign=1.0):\n",
    "    \"\"\" Objective function \"\"\"\n",
    "    return np.array([3.0*(x[0]**2.0), -1.0])\n",
    "\n",
    "def func_inequality_deriv(x, sign=1.0):\n",
    "    \"\"\" Objective function \"\"\"\n",
    "    return np.array([0.0, 1.0])"
   ]
  },
  {
   "cell_type": "code",
   "execution_count": 6,
   "metadata": {},
   "outputs": [],
   "source": [
    "cons = (\n",
    "    {'type': 'eq','fun' : lambda x: np.array([x[0]**3 - x[1]]),'jac' : lambda x: np.array([3.0*(x[0]**2.0), -1.0])},\n",
    "    {'type': 'ineq','fun' : lambda x: np.array([x[1] - 1]),'jac' : lambda x: np.array([0.0, 1.0])}\n",
    ")\n",
    "\n",
    "cons = (\n",
    "    {'type': 'eq','fun' : lambda x: np.array(func_uquality(x)),'jac' : lambda x: func_uquality_deriv(x)},\n",
    "    {'type': 'ineq','fun' : lambda x: np.array(func_inequality(x)),'jac' : lambda x: func_inequality_deriv(x)}\n",
    ")"
   ]
  },
  {
   "cell_type": "code",
   "execution_count": 7,
   "metadata": {},
   "outputs": [
    {
     "name": "stdout",
     "output_type": "stream",
     "text": [
      "Optimization terminated successfully.    (Exit mode 0)\n",
      "            Current function value: -2.0\n",
      "            Iterations: 4\n",
      "            Function evaluations: 5\n",
      "            Gradient evaluations: 4\n"
     ]
    }
   ],
   "source": [
    "res = minimize(func, [-1.0,1.0], args=(-1.0,), jac=func_deriv,method='SLSQP', options={'disp': True})"
   ]
  },
  {
   "cell_type": "code",
   "execution_count": 8,
   "metadata": {},
   "outputs": [
    {
     "name": "stdout",
     "output_type": "stream",
     "text": [
      "     fun: -2.0\n",
      "     jac: array([-0., -0.])\n",
      " message: 'Optimization terminated successfully.'\n",
      "    nfev: 5\n",
      "     nit: 4\n",
      "    njev: 4\n",
      "  status: 0\n",
      " success: True\n",
      "       x: array([2., 1.])\n"
     ]
    }
   ],
   "source": [
    "print (res)"
   ]
  },
  {
   "cell_type": "code",
   "execution_count": 9,
   "metadata": {},
   "outputs": [
    {
     "name": "stdout",
     "output_type": "stream",
     "text": [
      "[2. 1.]\n",
      " ------------------------ \n",
      "[-0. -0.]\n"
     ]
    }
   ],
   "source": [
    "print (res.x)\n",
    "print (\" ------------------------ \")\n",
    "print (res.jac)"
   ]
  },
  {
   "cell_type": "code",
   "execution_count": 10,
   "metadata": {},
   "outputs": [
    {
     "name": "stdout",
     "output_type": "stream",
     "text": [
      "2.0\n",
      "[0. 0.]\n"
     ]
    }
   ],
   "source": [
    "print (func(res.x, sign=1.0))\n",
    "print (func_deriv(res.x, sign=1.0))"
   ]
  },
  {
   "cell_type": "code",
   "execution_count": 11,
   "metadata": {},
   "outputs": [
    {
     "name": "stdout",
     "output_type": "stream",
     "text": [
      "Optimization terminated successfully.    (Exit mode 0)\n",
      "            Current function value: -1.0000001831052137\n",
      "            Iterations: 9\n",
      "            Function evaluations: 14\n",
      "            Gradient evaluations: 9\n",
      "     fun: -1.0000001831052137\n",
      "     jac: array([-1.99999982,  1.99999982])\n",
      " message: 'Optimization terminated successfully.'\n",
      "    nfev: 14\n",
      "     nit: 9\n",
      "    njev: 9\n",
      "  status: 0\n",
      " success: True\n",
      "       x: array([1.00000009, 1.        ])\n"
     ]
    }
   ],
   "source": [
    "res_Constraint = minimize(func, [-1.0,1.0], args=(-1.0,), jac=func_deriv,constraints=cons, \n",
    "                          method='SLSQP', options={'disp': True})\n",
    "print (res_Constraint)"
   ]
  },
  {
   "cell_type": "code",
   "execution_count": 12,
   "metadata": {},
   "outputs": [
    {
     "name": "stdout",
     "output_type": "stream",
     "text": [
      "[1.00000009 1.        ]\n",
      " ------------------------------------ \n",
      "[-1.99999982  1.99999982]\n"
     ]
    }
   ],
   "source": [
    "print (res_Constraint.x)\n",
    "print (\" ------------------------------------ \")\n",
    "print (res_Constraint.jac)"
   ]
  },
  {
   "cell_type": "code",
   "execution_count": 13,
   "metadata": {},
   "outputs": [
    {
     "name": "stdout",
     "output_type": "stream",
     "text": [
      "1.0000001831052137\n",
      "[ 1.99999982 -1.99999982]\n"
     ]
    }
   ],
   "source": [
    "print (func(res_Constraint.x, sign=1.0))\n",
    "print (func_deriv(res_Constraint.x, sign=1.0))"
   ]
  }
 ],
 "metadata": {
  "kernelspec": {
   "display_name": "Python 3",
   "language": "python",
   "name": "python3"
  },
  "language_info": {
   "codemirror_mode": {
    "name": "ipython",
    "version": 3
   },
   "file_extension": ".py",
   "mimetype": "text/x-python",
   "name": "python",
   "nbconvert_exporter": "python",
   "pygments_lexer": "ipython3",
   "version": "3.6.4"
  }
 },
 "nbformat": 4,
 "nbformat_minor": 1
}
