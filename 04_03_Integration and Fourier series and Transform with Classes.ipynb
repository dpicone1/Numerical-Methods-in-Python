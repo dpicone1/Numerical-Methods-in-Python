{
 "cells": [
  {
   "cell_type": "markdown",
   "metadata": {},
   "source": [
    "# Fourier series of a function f(x), with two classes: one class for the Fourier coefficients and a second class the Fourier series"
   ]
  },
  {
   "cell_type": "markdown",
   "metadata": {},
   "source": [
    "Most of the content of this notebook is from\n",
    "\n",
    "Bruce Shapiro\n",
    "\n",
    "Scientific Computation Python Hacking for Math Junkies\n",
    "\n",
    "http://www.calculuscastle.com/pythonbook.html\n",
    "\n",
    "Chapter 30"
   ]
  },
  {
   "cell_type": "raw",
   "metadata": {},
   "source": [
    "# it is perfect! we can practise integrals with the Fourier Transform!"
   ]
  },
  {
   "cell_type": "code",
   "execution_count": 3,
   "metadata": {},
   "outputs": [],
   "source": [
    "from math import sin, cos, pi\n",
    "import math\n",
    "import scipy.integrate as integ \n",
    "\n",
    "import numpy as np\n",
    "import matplotlib.pyplot as plt\n",
    "%matplotlib inline"
   ]
  },
  {
   "cell_type": "code",
   "execution_count": 4,
   "metadata": {},
   "outputs": [],
   "source": [
    "# This is the function for which I calculate the Fourier Series\n",
    "def f(x):\n",
    "    if x < 1:\n",
    "        return 1\n",
    "    else:\n",
    "        return -1"
   ]
  },
  {
   "cell_type": "code",
   "execution_count": 5,
   "metadata": {},
   "outputs": [
    {
     "name": "stdout",
     "output_type": "stream",
     "text": [
      " -------------------------------------------- \n",
      "[-9.973949083949052e-17, 0.6366197723675814]\n",
      " -------------------------------------------- \n",
      " -------------------------------------------- \n",
      " 0   -1.0000000000    0.0000000000\n",
      " 1    0.6366197724    0.6366197724\n",
      " 2   -0.0000000000    0.6366197724\n",
      " 3   -0.2122065908    0.2122065908\n",
      " 4    0.0000000000    0.0000000000\n",
      " 5    0.1273239545    0.1273239545\n",
      " 6    0.0000000000    0.2122065908\n",
      " 7   -0.0909456818    0.0909456818\n",
      " 8    0.0000000000   -0.0000000000\n",
      " 9    0.0707355303    0.0707355303\n",
      "10    0.0000000000    0.1273239545\n"
     ]
    }
   ],
   "source": [
    "class FuourierCoeff():\n",
    "    def __init__(self, f, L, n):\n",
    "        elle = float(L)\n",
    "        k = float(n)*pi/elle\n",
    "        def ga(x):\n",
    "            return f(x)*cos(k*x)\n",
    "        def gb(x):\n",
    "            return f(x)*sin(k*x)\n",
    "        self.a = 1.0/elle *  integ.quad(ga, 0, 2*elle)[0]\n",
    "        self.b = 1.0/elle *  integ.quad(gb, 0, 2*elle)[0]\n",
    "    def __repr__(self):\n",
    "        return str([self.a, self.b])\n",
    "\n",
    "print (\" -------------------------------------------- \")\n",
    "FC = FuourierCoeff(f, 2, 2)\n",
    "print (FC)\n",
    "print (\" -------------------------------------------- \")\n",
    "\n",
    "\n",
    "print (\" -------------------------------------------- \")\n",
    "FC = [FuourierCoeff(f, 2,j) for j in range(11)]\n",
    "for j in range(11):\n",
    "    print (\"%2d %15.10f %15.10f\" %(j, FC[j].a, FC[j].b))"
   ]
  },
  {
   "cell_type": "code",
   "execution_count": 6,
   "metadata": {},
   "outputs": [
    {
     "data": {
      "text/plain": [
       "[<matplotlib.lines.Line2D at 0x16f4c68d588>]"
      ]
     },
     "execution_count": 6,
     "metadata": {},
     "output_type": "execute_result"
    },
    {
     "data": {
      "image/png": "[encoded data removed]",
      "text/plain": [
       "<Figure size 432x288 with 1 Axes>"
      ]
     },
     "metadata": {
      "needs_background": "light"
     },
     "output_type": "display_data"
    }
   ],
   "source": [
    "class FuourierSeries():\n",
    "    def __init__(self, f, L, n):\n",
    "        coeff= FC = [FuourierCoeff(f, 2, j) for j in range(n+1)]\n",
    "        self.a = [FC.a for FC in coeff]\n",
    "        self.b = [FC.b for FC in coeff]\n",
    "        self.k = [k*math.pi/float(L) for k in range(n+1)]\n",
    "    \n",
    "    def value (self,x):\n",
    "        def dot(A,B):\n",
    "            return sum([a*b for a, b in zip(A,B)])\n",
    "        cosvals = [math.cos(K*x) for K in self.k]\n",
    "        sinvals = [math.sin(K*x) for K in self.k]\n",
    "        cosvals[0] = 0.5\n",
    "        sinvals[0] = 0.0\n",
    "        return dot(self.a, cosvals) + dot(self.b, sinvals)\n",
    "\n",
    "\n",
    "xvals = np.linspace(0, 6, 500)\n",
    "F     = FuourierSeries(f, 2, 25)\n",
    "yvals = [F.value(x) for x in xvals]\n",
    "plt.plot(xvals, yvals, c=\"k\")"
   ]
  }
 ],
 "metadata": {
  "anaconda-cloud": {},
  "kernelspec": {
   "display_name": "Python 3",
   "language": "python",
   "name": "python3"
  },
  "language_info": {
   "codemirror_mode": {
    "name": "ipython",
    "version": 3
   },
   "file_extension": ".py",
   "mimetype": "text/x-python",
   "name": "python",
   "nbconvert_exporter": "python",
   "pygments_lexer": "ipython3",
   "version": "3.6.4"
  }
 },
 "nbformat": 4,
 "nbformat_minor": 1
}
