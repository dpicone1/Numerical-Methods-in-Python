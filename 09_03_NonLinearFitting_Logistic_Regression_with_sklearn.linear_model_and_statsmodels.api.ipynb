{
 "cells": [
  {
   "cell_type": "markdown",
   "metadata": {},
   "source": [
    "# Non Linear Regressions: Logistic Regression\n"
   ]
  },
  {
   "cell_type": "markdown",
   "metadata": {},
   "source": [
    "Most of the content of this notebook is from\n",
    "\n",
    "Bruce Shapiro\n",
    "\n",
    "Source code listings for Scientific Computation Python Hacking for Math Junkies\n",
    "\n",
    "http://www.calculuscastle.com/pythonbook.html\n",
    "\n",
    "Chapter 38"
   ]
  },
  {
   "cell_type": "raw",
   "metadata": {},
   "source": [
    "Logistic Regression are run with \n",
    "1 - sklearn.linear_model and \n",
    "2 - import statsmodels.api \n",
    "Confusion Matrix from sklearn import metrics is also prepared"
   ]
  },
  {
   "cell_type": "code",
   "execution_count": 1,
   "metadata": {},
   "outputs": [],
   "source": [
    "import numpy\n",
    "import numpy as np\n",
    "from matplotlib.pyplot import *\n",
    "import matplotlib.pyplot as plt\n",
    "%matplotlib inline"
   ]
  },
  {
   "cell_type": "markdown",
   "metadata": {},
   "source": [
    "## Data Set"
   ]
  },
  {
   "cell_type": "code",
   "execution_count": 2,
   "metadata": {
    "scrolled": true
   },
   "outputs": [
    {
     "data": {
      "image/png": "[encoded data removed]",
      "text/plain": [
       "<Figure size 432x288 with 1 Axes>"
      ]
     },
     "metadata": {
      "needs_background": "light"
     },
     "output_type": "display_data"
    }
   ],
   "source": [
    "boys  = np.random.normal(149.0488164,  3.7468166, 800)\n",
    "girls = np.random.normal(151.19132534, 3.7468166, 700)\n",
    "\n",
    "plt.hist(boys)\n",
    "plt.hist(girls)\n",
    "plt.show()"
   ]
  },
  {
   "cell_type": "code",
   "execution_count": 3,
   "metadata": {},
   "outputs": [
    {
     "data": {
      "image/png": "[encoded data removed]",
      "text/plain": [
       "<Figure size 432x288 with 2 Axes>"
      ]
     },
     "metadata": {
      "needs_background": "light"
     },
     "output_type": "display_data"
    }
   ],
   "source": [
    "fig,(axleft,axright) = plt.subplots(nrows=1,ncols=2, sharex=True)\n",
    "axleft.hist(boys)\n",
    "axright.hist(girls)\n",
    "plt.show()"
   ]
  },
  {
   "cell_type": "code",
   "execution_count": 4,
   "metadata": {},
   "outputs": [
    {
     "name": "stdout",
     "output_type": "stream",
     "text": [
      "[[149.53145435872437, 0], [149.31218956834567, 0], [149.94735793127043, 0], [151.21801955969377, 0]]\n",
      "800\n",
      "[[146.06797452237694, 1], [158.47343644798514, 1], [147.8601398700248, 1], [150.24611522922777, 1]]\n",
      "700\n",
      "1500\n",
      "[149.53145436 149.31218957]\n",
      "[0. 0.]\n",
      "[[149.53145436   0.        ]\n",
      " [149.31218957   0.        ]\n",
      " [149.94735793   0.        ]\n",
      " [151.21801956   0.        ]]\n",
      "[149.53145436 149.31218957 149.94735793 151.21801956]\n",
      "[0. 0. 0. 0.]\n"
     ]
    }
   ],
   "source": [
    "b = [[x, 0] for x in boys]  # we write, boys  in column 1 and 0 column 2\n",
    "g = [[x, 1] for x in girls] # we write, girls in column 1 and 0 column 2\n",
    "\n",
    "print (b[:4])\n",
    "print (len(b))\n",
    "print (g[:4])\n",
    "print (len(g))\n",
    "\n",
    "bg        = np.array(b + g)\n",
    "print (len(bg))\n",
    "print (bg[0:2,0])\n",
    "print (bg[0:2,1])\n",
    "\n",
    "heights   = bg[:,0]\n",
    "zerosones = bg[:,1]\n",
    "\n",
    "print (bg[:4])\n",
    "print (heights[:4])\n",
    "print (zerosones[:4])"
   ]
  },
  {
   "cell_type": "code",
   "execution_count": 5,
   "metadata": {},
   "outputs": [
    {
     "name": "stdout",
     "output_type": "stream",
     "text": [
      "[[149.53145436   0.        ]\n",
      " [149.31218957   0.        ]\n",
      " [149.94735793   0.        ]\n",
      " ...\n",
      " [150.67364968   1.        ]\n",
      " [152.86359949   1.        ]\n",
      " [155.69557262   1.        ]]\n",
      "149.53145435872437\n",
      "0.0\n"
     ]
    }
   ],
   "source": [
    "print (bg)\n",
    "print (bg[0,0])\n",
    "print (bg[0,1])"
   ]
  },
  {
   "cell_type": "code",
   "execution_count": 6,
   "metadata": {},
   "outputs": [
    {
     "data": {
      "image/png": "[encoded data removed]",
      "text/plain": [
       "<Figure size 432x288 with 1 Axes>"
      ]
     },
     "metadata": {
      "needs_background": "light"
     },
     "output_type": "display_data"
    }
   ],
   "source": [
    "%matplotlib inline\n",
    "plt.scatter(heights, zerosones)\n",
    "plt.show()"
   ]
  },
  {
   "cell_type": "code",
   "execution_count": 7,
   "metadata": {},
   "outputs": [
    {
     "data": {
      "image/png": "[encoded data removed]",
      "text/plain": [
       "<Figure size 432x288 with 1 Axes>"
      ]
     },
     "metadata": {
      "needs_background": "light"
     },
     "output_type": "display_data"
    }
   ],
   "source": [
    "def bindata(xdata, zerosones, m, M, nbins):\n",
    "    Delta   = float(M-m);\n",
    "    N       = nbins + 1\n",
    "    binmins = np.linspace(m,M,N)\n",
    "    zeros, ones = N*[0], N*[0]\n",
    "    binvals = [int(nbins*(x-m)/Delta) for x in xdata]\n",
    "    for flag, b in zip(zerosones, binvals):\n",
    "        if flag > 0:\n",
    "            ones[b]  +=1\n",
    "        else:\n",
    "            zeros[b] +=1\n",
    "    sizes = [x + y for x,y in zip(ones, zeros)]\n",
    "    proportions = [float(x)/float(y) if y > 0 else 0 for x,y in zip(ones, sizes)]\n",
    "    return (binmins, proportions, sizes)\n",
    "\n",
    "xv, yv, sv = bindata(heights,zerosones, 135, 165, 15)\n",
    "%matplotlib inline\n",
    "plt.scatter(xv, yv, s = sv, c = \"white\", edgecolor = \"magenta\")\n",
    "plt.xlabel(\"Heights, cm\")\n",
    "plt.ylabel(\"Proportion of Girls\")\n",
    "plt.show()     "
   ]
  },
  {
   "cell_type": "markdown",
   "metadata": {},
   "source": [
    "## logistic regression with sklearn.linear_model"
   ]
  },
  {
   "cell_type": "code",
   "execution_count": 8,
   "metadata": {},
   "outputs": [
    {
     "name": "stdout",
     "output_type": "stream",
     "text": [
      "136.22681777246552\n",
      "163.2047734207287\n"
     ]
    },
    {
     "name": "stderr",
     "output_type": "stream",
     "text": [
      "C:\\Users\\User\\Anaconda3\\lib\\site-packages\\sklearn\\cross_validation.py:41: DeprecationWarning: This module was deprecated in version 0.18 in favor of the model_selection module into which all the refactored classes and functions are moved. Also note that the interface of the new CV iterators are different from that of this module. This module will be removed in 0.20.\n",
      "  \"This module will be removed in 0.20.\", DeprecationWarning)\n"
     ]
    }
   ],
   "source": [
    "\n",
    "from sklearn.linear_model import LogisticRegression\n",
    "from sklearn.cross_validation import train_test_split\n",
    "m = min(heights)\n",
    "y = np.array(zerosones)\n",
    "X = np.array([[x-m] for x in heights])\n",
    "print (min(heights))\n",
    "print (max(heights))"
   ]
  },
  {
   "cell_type": "code",
   "execution_count": 9,
   "metadata": {},
   "outputs": [
    {
     "data": {
      "text/plain": [
       "LogisticRegression(C=1.0, class_weight=None, dual=False, fit_intercept=True,\n",
       "          intercept_scaling=1, max_iter=100, multi_class='ovr', n_jobs=1,\n",
       "          penalty='l2', random_state=None, solver='liblinear', tol=0.0001,\n",
       "          verbose=0, warm_start=False)"
      ]
     },
     "execution_count": 9,
     "metadata": {},
     "output_type": "execute_result"
    }
   ],
   "source": [
    "x_train, x_test, y_train, y_test = train_test_split(X, y, test_size = 0.25)\n",
    "LR = LogisticRegression()\n",
    "LR.fit(x_train, y_train)"
   ]
  },
  {
   "cell_type": "code",
   "execution_count": 10,
   "metadata": {},
   "outputs": [
    {
     "name": "stdout",
     "output_type": "stream",
     "text": [
      "R^2=  0.632 a= 0.11281396094709863 b=  -1.6753273305288658\n",
      " ---------------------------------- \n",
      "[0.11281396]\n",
      "0.11281396094709863\n",
      "[-1.67532733]\n",
      "-1.6753273305288658\n"
     ]
    }
   ],
   "source": [
    "R2 = LR.score(x_test, y_test)\n",
    "a  = LR.coef_[0][0]\n",
    "b  = LR.intercept_[0]\n",
    "print (\"R^2= \", R2, \"a=\", a, \"b= \", b)\n",
    "\n",
    "print (\" ---------------------------------- \")\n",
    "print (LR.coef_[0])\n",
    "print (LR.coef_[0][0])\n",
    "print (LR.intercept_)\n",
    "print (LR.intercept_[0])\n"
   ]
  },
  {
   "cell_type": "code",
   "execution_count": 11,
   "metadata": {},
   "outputs": [
    {
     "data": {
      "image/png": "[encoded data removed]",
      "text/plain": [
       "<Figure size 432x288 with 1 Axes>"
      ]
     },
     "metadata": {
      "needs_background": "light"
     },
     "output_type": "display_data"
    }
   ],
   "source": [
    "from math import e\n",
    "def flog(x, a, b):\n",
    "    z = a*x + b\n",
    "    return 1.0/(1.0+e**(-z))\n",
    "\n",
    "xvals = np.linspace(135, 165, 100)\n",
    "yvals = [flog(x-m, a, b) for x in xvals]\n",
    "\n",
    "%matplotlib inline\n",
    "plt.scatter(xv, yv, s = sv, c = \"white\", edgecolor = \"magenta\")\n",
    "plt.scatter(heights, zerosones)\n",
    "plt.xlabel(\"Heights, cm\")\n",
    "plt.ylabel(\"Proportion of Girls\")\n",
    "plt.xlim(133, 167)\n",
    "plt.ylim(-0.1, 1.2)\n",
    "plt.plot(xvals, yvals, c=\"red\")\n",
    "plt.show()"
   ]
  },
  {
   "cell_type": "markdown",
   "metadata": {},
   "source": [
    "## Confusion matrix with sklearn "
   ]
  },
  {
   "cell_type": "code",
   "execution_count": 12,
   "metadata": {},
   "outputs": [
    {
     "name": "stdout",
     "output_type": "stream",
     "text": [
      "             precision    recall  f1-score   support\n",
      "\n",
      "        0.0       0.64      0.74      0.69       204\n",
      "        1.0       0.62      0.50      0.55       171\n",
      "\n",
      "avg / total       0.63      0.63      0.63       375\n",
      "\n",
      " ----------- \n",
      "[[151  53]\n",
      " [ 85  86]]\n",
      " \n",
      " - My test - \n",
      "[[0.63983051 0.74019608]\n",
      " [0.61870504 0.50292398]]\n",
      " ---------------------- \n",
      "0.7401960784313726\n",
      "151\n",
      "151\n",
      "53\n"
     ]
    }
   ],
   "source": [
    "# High precision relates to a low false positive rate, \n",
    "# and high recall relates to a low false negative rate. \n",
    "# High scores for both show that the classifier is returning accurate results (high precision), \n",
    "# as well as returning a majority of all positive results (high recall).\n",
    "\n",
    "# A system with high recall but low precision returns many results, but most of its predicted labels \n",
    "# are incorrect when compared to the training labels. A system with high precision but low recall is just the opposite,\n",
    "# returning very few results, but most of its predicted labels are correct when compared to the training labels. \n",
    "# An ideal system with high precision and high recall will return many results, with all results labeled correctly.\n",
    "\n",
    "from sklearn import metrics\n",
    "predictions = LR.predict(x_test)\n",
    "print (metrics.classification_report(y_test, predictions))\n",
    "confusionMatrix = metrics.confusion_matrix(y_test, predictions)\n",
    "\n",
    "print (\" ----------- \")\n",
    "print (confusionMatrix)\n",
    "\n",
    "m00 = confusionMatrix[0][0] / float(confusionMatrix[0][0] + confusionMatrix[1][0])\n",
    "m10 = confusionMatrix[1][1] / float(confusionMatrix[0][1] + confusionMatrix[1][1])\n",
    "m01 = confusionMatrix[0][0] / float(confusionMatrix[0][0] + confusionMatrix[0][1])\n",
    "m11 = confusionMatrix[1][1] / float(confusionMatrix[1][0] + confusionMatrix[1][1])\n",
    "print (\" \")\n",
    "print (\" - My test - \")\n",
    "domarr = np.array([[m00, m01],[m10, m11]])\n",
    "print (domarr)\n",
    "\n",
    "print (\" ---------------------- \")\n",
    "print (m01)\n",
    "print (confusionMatrix[0][0] )\n",
    "print (confusionMatrix[0][0] )\n",
    "print (confusionMatrix[0][1])"
   ]
  },
  {
   "cell_type": "code",
   "execution_count": 13,
   "metadata": {},
   "outputs": [
    {
     "data": {
      "image/png": "[encoded data removed]",
      "text/plain": [
       "<Figure size 288x288 with 2 Axes>"
      ]
     },
     "metadata": {
      "needs_background": "light"
     },
     "output_type": "display_data"
    }
   ],
   "source": [
    "plt.matshow(confusionMatrix)\n",
    "plt.title(\"Test\")\n",
    "plt.colorbar(); plt.ylabel(\"true label\"); plt.xlabel(\"predicted label\")\n",
    "plt.show()"
   ]
  },
  {
   "cell_type": "markdown",
   "metadata": {},
   "source": [
    "## logistic regression with statsmodels.api"
   ]
  },
  {
   "cell_type": "raw",
   "metadata": {},
   "source": [
    "There is a msg error when using chisqprob\n",
    "\n",
    "AttributeError: module 'scipy.stats' has no attribute 'chisqprob'"
   ]
  },
  {
   "cell_type": "raw",
   "metadata": {},
   "source": [
    "However, there is a simple workaround by assigning the missing function back into the scipy.stats namespace as shown above, i.e."
   ]
  },
  {
   "cell_type": "code",
   "execution_count": 14,
   "metadata": {},
   "outputs": [],
   "source": [
    "from scipy import stats\n",
    "stats.chisqprob = lambda chisq, df: stats.chi2.sf(chisq, df)"
   ]
  },
  {
   "cell_type": "code",
   "execution_count": 15,
   "metadata": {},
   "outputs": [
    {
     "name": "stderr",
     "output_type": "stream",
     "text": [
      "C:\\Users\\User\\Anaconda3\\lib\\site-packages\\statsmodels\\compat\\pandas.py:56: FutureWarning: The pandas.core.datetools module is deprecated and will be removed in a future version. Please use the pandas.tseries module instead.\n",
      "  from pandas.core import datetools\n"
     ]
    },
    {
     "name": "stdout",
     "output_type": "stream",
     "text": [
      "Optimization terminated successfully.\n",
      "         Current function value: 0.660327\n",
      "         Iterations: 7\n",
      "         Function evaluations: 12\n",
      "         Gradient evaluations: 12\n",
      " ----------------------------------- \n",
      " logistic regression with stasmodels \n",
      "                           Logit Regression Results                           \n",
      "==============================================================================\n",
      "Dep. Variable:                      y   No. Observations:                 1500\n",
      "Model:                          Logit   Df Residuals:                     1498\n",
      "Method:                           MLE   Df Model:                            1\n",
      "Date:                Tue, 14 Jan 2020   Pseudo R-squ.:                 0.04428\n",
      "Time:                        11:20:16   Log-Likelihood:                -990.49\n",
      "converged:                       True   LL-Null:                       -1036.4\n",
      "                                        LLR p-value:                 9.645e-22\n",
      "==============================================================================\n",
      "                 coef    std err          z      P>|z|      [0.025      0.975]\n",
      "------------------------------------------------------------------------------\n",
      "const         -1.9451      0.205     -9.466      0.000      -2.348      -1.542\n",
      "x1             0.1308      0.014      9.163      0.000       0.103       0.159\n",
      "==============================================================================\n",
      " ----------------------------------- \n",
      " ----------------------------------- \n",
      " logistic regression with sklearn.linear_model \n",
      "R^2=  0.632  --  a (constant) = 0.11281396094709863  --  b (Beta) =  -1.6753273305288658\n",
      " ----------------------------------- \n"
     ]
    }
   ],
   "source": [
    "import statsmodels.api as sm\n",
    "\n",
    "# unlike when using logistic regression with sklearn.linear_model,\n",
    "# when using logistic regression with stasmodels, one has to add 1's into the matrix X\n",
    "\n",
    "YVALS   = np.array([u for u in zerosones])      # the zeros and ones = Ys\n",
    "XVALS   = np.array([[1, u-m] for u in heights]) # the matrix X - 1 and Heights (less m)\n",
    "\n",
    "model   = sm.Logit(YVALS, XVALS)\n",
    "results = model.fit(method=\"bfgs\")\n",
    "\n",
    "print (\" ----------------------------------- \")\n",
    "print (\" logistic regression with stasmodels \")\n",
    "print (results.summary())\n",
    "print (\" ----------------------------------- \")\n",
    "\n",
    "print (\" ----------------------------------- \")\n",
    "print (\" logistic regression with sklearn.linear_model \")\n",
    "print (\"R^2= \", R2, \" -- \", \"a (constant) =\", a, \" -- \", \"b (Beta) = \", b)\n",
    "print (\" ----------------------------------- \")"
   ]
  },
  {
   "cell_type": "code",
   "execution_count": 16,
   "metadata": {},
   "outputs": [
    {
     "name": "stdout",
     "output_type": "stream",
     "text": [
      "a-Constant  0.12549971201439103 b-beta =  -1.8665165947236955\n"
     ]
    }
   ],
   "source": [
    "# in this case, the test data set size is 0 !, all data is used to fitting!!\n",
    "x_train, x_test, y_train, y_test = train_test_split(X, y, test_size = 0)\n",
    "LR = LogisticRegression()\n",
    "LR.fit(x_train, y_train)\n",
    "a  = LR.coef_[0][0]\n",
    "b  = LR.intercept_[0]\n",
    "print (\"a-Constant \", a, \"b-beta = \", b)"
   ]
  }
 ],
 "metadata": {
  "anaconda-cloud": {},
  "kernelspec": {
   "display_name": "Python 3",
   "language": "python",
   "name": "python3"
  },
  "language_info": {
   "codemirror_mode": {
    "name": "ipython",
    "version": 3
   },
   "file_extension": ".py",
   "mimetype": "text/x-python",
   "name": "python",
   "nbconvert_exporter": "python",
   "pygments_lexer": "ipython3",
   "version": "3.6.4"
  }
 },
 "nbformat": 4,
 "nbformat_minor": 1
}
