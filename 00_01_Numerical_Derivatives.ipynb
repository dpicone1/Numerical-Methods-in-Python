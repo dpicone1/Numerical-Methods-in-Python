{
 "cells": [
  {
   "cell_type": "markdown",
   "metadata": {},
   "source": [
    "## First and Second derivatives"
   ]
  },
  {
   "cell_type": "code",
   "execution_count": 1,
   "metadata": {},
   "outputs": [],
   "source": [
    "def f(x): \n",
    "    return x*x-5.0*x"
   ]
  },
  {
   "cell_type": "code",
   "execution_count": 2,
   "metadata": {},
   "outputs": [
    {
     "name": "stdout",
     "output_type": "stream",
     "text": [
      "1.0\n",
      "1.0\n"
     ]
    }
   ],
   "source": [
    "def D(f , h=1e-6): # first derivative of f\n",
    "    return lambda x,f=f,h=h: (f(x+h)-f(x-h))/2/h\n",
    "\n",
    "def DD(f, h=1e-6): # second derivative of f\n",
    "    return lambda x,f=f,h=h: (f(x+h)-2.0*f(x)+f(x-h))/(h*h)\n",
    "\n",
    "print(1e-6*1000000)\n",
    "print(1e-1*10)"
   ]
  },
  {
   "cell_type": "code",
   "execution_count": 3,
   "metadata": {},
   "outputs": [
    {
     "name": "stdout",
     "output_type": "stream",
     "text": [
      "-4.0\n",
      "-2.9999999995311555\n",
      "2.000177801164682\n",
      "1.999733711954832\n",
      "0.0004440892098500626\n"
     ]
    }
   ],
   "source": [
    "x = 1.0\n",
    "print (f(x)) \n",
    "f1 = D(f)  # first derivative \n",
    "print (f1(x)) \n",
    "f2 = DD(f) # second derivative \n",
    "print (f2(x)) \n",
    "f22= D(f1) # second derivative \n",
    "print (f22(x)) \n",
    "print (f2(x) - f22(x))"
   ]
  }
 ],
 "metadata": {
  "kernelspec": {
   "display_name": "Python 3",
   "language": "python",
   "name": "python3"
  },
  "language_info": {
   "codemirror_mode": {
    "name": "ipython",
    "version": 3
   },
   "file_extension": ".py",
   "mimetype": "text/x-python",
   "name": "python",
   "nbconvert_exporter": "python",
   "pygments_lexer": "ipython3",
   "version": "3.6.4"
  }
 },
 "nbformat": 4,
 "nbformat_minor": 2
}
