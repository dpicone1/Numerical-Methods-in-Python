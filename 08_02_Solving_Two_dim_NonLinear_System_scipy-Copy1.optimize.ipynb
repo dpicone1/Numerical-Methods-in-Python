{
 "cells": [
  {
   "cell_type": "markdown",
   "metadata": {},
   "source": [
    "# Solving two dim non-linear system with root from scipy.optimize"
   ]
  },
  {
   "cell_type": "code",
   "execution_count": 3,
   "metadata": {},
   "outputs": [],
   "source": [
    "import numpy as np\n",
    "from scipy.optimize import root"
   ]
  },
  {
   "cell_type": "code",
   "execution_count": 4,
   "metadata": {},
   "outputs": [],
   "source": [
    "import matplotlib.pyplot as plt"
   ]
  },
  {
   "cell_type": "markdown",
   "metadata": {},
   "source": [
    "### Root finding for solving two dimensional non-linear system, with Levenberg-Marquardt solver¶"
   ]
  },
  {
   "cell_type": "code",
   "execution_count": 6,
   "metadata": {},
   "outputs": [
    {
     "name": "stdout",
     "output_type": "stream",
     "text": [
      "   cov_x: array([[ 0.87470958, -0.02852752],\n",
      "       [-0.02852752,  0.01859874]])\n",
      "    fjac: array([[ 7.52318843, -0.73161761],\n",
      "       [ 0.24535902, -1.06922242]])\n",
      "     fun: array([0., 0.])\n",
      "    ipvt: array([2, 1], dtype=int32)\n",
      " message: 'The relative error between two consecutive iterates is at most 0.000000'\n",
      "    nfev: 8\n",
      "    njev: 7\n",
      "     qtf: array([9.53474074e-13, 1.20388645e-13])\n",
      "  status: 2\n",
      " success: True\n",
      "       x: array([6.50409711, 0.90841421])\n"
     ]
    }
   ],
   "source": [
    "# ********************************************\n",
    "# Consider now a set of non-linear equations\n",
    "# ********************************************\n",
    "\n",
    "# x*cos(y) = 4\n",
    "# x*y - y  = 5\n",
    "\n",
    "# We define the objective function so that \n",
    "# the Jacobian is retunrned.\n",
    "# To do so we set the jac parameter to TRUE.\n",
    "# The Levenberg-Marquardt solver is set with method='lm' \n",
    "def func2(x):\n",
    "    f  = [x[0] * np.cos(x[1]) - 4, x[1]*x[0] - x[1] - 5]\n",
    "    df = np.array(\n",
    "        [[np.cos(x[1]), -x[0] * np.sin(x[1])],\n",
    "        [x[1], x[0] - 1]]\n",
    "                 )\n",
    "    return f, df\n",
    "\n",
    "sol = root(func2, [1, 1], jac=True, method='lm')\n",
    "print (sol)"
   ]
  },
  {
   "cell_type": "code",
   "execution_count": 7,
   "metadata": {},
   "outputs": [
    {
     "name": "stdout",
     "output_type": "stream",
     "text": [
      "[6.50409711 0.90841421]\n"
     ]
    }
   ],
   "source": [
    "print (sol.x)"
   ]
  },
  {
   "cell_type": "code",
   "execution_count": 9,
   "metadata": {},
   "outputs": [
    {
     "name": "stdout",
     "output_type": "stream",
     "text": [
      "([0.0, 0.0], array([[ 0.61499697, -5.12867226],\n",
      "       [ 0.90841421,  5.50409711]]))\n"
     ]
    }
   ],
   "source": [
    "# Now we print both function and the Jacobian\n",
    "print (func2(sol.x)) "
   ]
  },
  {
   "cell_type": "code",
   "execution_count": 10,
   "metadata": {},
   "outputs": [
    {
     "name": "stdout",
     "output_type": "stream",
     "text": [
      "   cov_x: array([[ 0.87470958, -0.02852752],\n",
      "       [-0.02852752,  0.01859874]])\n",
      "    fjac: array([[ 7.52318843, -0.73161761],\n",
      "       [ 0.24535902, -1.06922242]])\n",
      "     fun: array([0., 0.])\n",
      "    ipvt: array([2, 1], dtype=int32)\n",
      " message: 'The relative error between two consecutive iterates is at most 0.000000'\n",
      "    nfev: 8\n",
      "    njev: 7\n",
      "     qtf: array([9.53474074e-13, 1.20388645e-13])\n",
      "  status: 2\n",
      " success: True\n",
      "       x: array([6.50409711, 0.90841421])\n"
     ]
    }
   ],
   "source": [
    " # the function\n",
    "def funz(x):\n",
    "    f = [x[0] * np.cos(x[1]) - 4, x[1]*x[0] - x[1] - 5]\n",
    "    return f\n",
    "# the gradient\n",
    "def Gradfunz(x):\n",
    "    df = np.array([[np.cos(x[1]), -x[0] * np.sin(x[1])],[x[1], x[0] - 1]])\n",
    "    return df\n",
    "# it returns both the function and the gradient\n",
    "def func3(x):\n",
    "    return funz(x), Gradfunz(x)\n",
    "\n",
    "sol3 = root(func3, [1, 1], jac=True, method='lm')\n",
    "print (sol3) # the output"
   ]
  },
  {
   "cell_type": "code",
   "execution_count": 11,
   "metadata": {},
   "outputs": [
    {
     "name": "stdout",
     "output_type": "stream",
     "text": [
      "[6.50409711 0.90841421]\n",
      "[0.0, 0.0]\n",
      "[[ 0.61499697 -5.12867226]\n",
      " [ 0.90841421  5.50409711]]\n",
      " -------------------------------------------- \n",
      "[[ 7.52318843 -0.73161761]\n",
      " [ 0.24535902 -1.06922242]]\n"
     ]
    }
   ],
   "source": [
    "print (sol3.x)\n",
    "print (funz(sol3.x))\n",
    "print (Gradfunz(sol3.x))\n",
    "print (\" -------------------------------------------- \")\n",
    "print (sol3.fjac)"
   ]
  },
  {
   "cell_type": "code",
   "execution_count": 13,
   "metadata": {},
   "outputs": [
    {
     "name": "stdout",
     "output_type": "stream",
     "text": [
      "  status: 1\n",
      " success: True\n",
      "     qtf: array([  6.25677398e-08,   2.40104775e-08])\n",
      "    nfev: 17\n",
      "       r: array([-1.0907073 , -1.7621827 , -7.37420598])\n",
      "     fun: array([  3.73212572e-12,   1.61701763e-11])\n",
      "       x: array([ 6.50409711,  0.90841421])\n",
      " message: 'The solution converged.'\n",
      "    fjac: array([[-0.56248005, -0.82681085],\n",
      "       [ 0.82681085, -0.56248005]])\n"
     ]
    }
   ],
   "source": [
    "def funz(x):\n",
    "    f = [x[0] * np.cos(x[1]) - 4, x[1]*x[0] - x[1] - 5]\n",
    "    return f\n",
    "\n",
    "\n",
    "sol3 = root(funz, [1, 1])\n",
    "print (sol3)"
   ]
  },
  {
   "cell_type": "code",
   "execution_count": 12,
   "metadata": {},
   "outputs": [
    {
     "name": "stdout",
     "output_type": "stream",
     "text": [
      "[6.50409711 0.90841421]\n",
      "[0.0, 0.0]\n",
      "[[ 0.61499697 -5.12867226]\n",
      " [ 0.90841421  5.50409711]]\n"
     ]
    }
   ],
   "source": [
    "print (sol3.x)\n",
    "print (funz(sol3.x))\n",
    "print (Gradfunz(sol3.x))"
   ]
  },
  {
   "cell_type": "code",
   "execution_count": 13,
   "metadata": {},
   "outputs": [
    {
     "name": "stdout",
     "output_type": "stream",
     "text": [
      "0:  |F(x)| = 803.614; step 1; tol 0.000257947\n",
      "1:  |F(x)| = 345.904; step 1; tol 0.166747\n",
      "2:  |F(x)| = 139.157; step 1; tol 0.145661\n",
      "3:  |F(x)| = 27.3702; step 1; tol 0.0348167\n",
      "4:  |F(x)| = 1.03344; step 1; tol 0.0012831\n",
      "5:  |F(x)| = 0.0403495; step 1; tol 0.00137197\n",
      "6:  |F(x)| = 0.0034584; step 1; tol 0.00661176\n",
      "7:  |F(x)| = 0.000151398; step 1; tol 0.00172478\n",
      "8:  |F(x)| = 7.72009e-06; step 1; tol 0.00234016\n",
      "Residual: 4.42488e-07\n"
     ]
    }
   ],
   "source": [
    "import numpy as np\n",
    "from scipy.optimize import root\n",
    "from numpy import cosh, zeros_like, mgrid, zeros\n",
    "\n",
    "# parameters\n",
    "nx, ny = 75, 75\n",
    "hx, hy = 1./(nx-1), 1./(ny-1)\n",
    "\n",
    "P_left, P_right = 0, 0\n",
    "P_top, P_bottom = 1, 0\n",
    "\n",
    "def residual(P):\n",
    "    d2x = zeros_like(P)\n",
    "    d2y = zeros_like(P)\n",
    "\n",
    "    d2x[1:-1] = (P[2:]   - 2*P[1:-1] + P[:-2]) / hx/hx\n",
    "    d2x[0]    = (P[1]    - 2*P[0]    + P_left)/hx/hx\n",
    "    d2x[-1]   = (P_right - 2*P[-1]   + P[-2])/hx/hx\n",
    "\n",
    "    d2y[:,1:-1] = (P[:,2:] - 2*P[:,1:-1] + P[:,:-2])/hy/hy\n",
    "    d2y[:,0]    = (P[:,1]  - 2*P[:,0]    + P_bottom)/hy/hy\n",
    "    d2y[:,-1]   = (P_top   - 2*P[:,-1]   + P[:,-2])/hy/hy\n",
    "\n",
    "    return d2x + d2y + 5*cosh(P).mean()**2\n",
    "\n",
    "# solve\n",
    "guess = zeros((nx, ny), float)\n",
    "sol = root(residual, guess, method='krylov', options={'disp': True})\n",
    "#sol = root(residual, guess, method='broyden2', options={'disp': True, 'max_rank': 50})\n",
    "#sol = root(residual, guess, method='anderson', options={'disp': True, 'M': 10})\n",
    "print('Residual: %g' % abs(residual(sol.x)).max())\n"
   ]
  },
  {
   "cell_type": "code",
   "execution_count": 14,
   "metadata": {},
   "outputs": [
    {
     "data": {
      "image/png": "[encoded data removed]",
      "text/plain": [
       "<Figure size 432x288 with 2 Axes>"
      ]
     },
     "metadata": {
      "needs_background": "light"
     },
     "output_type": "display_data"
    }
   ],
   "source": [
    "# visualize\n",
    "import matplotlib.pyplot as plt\n",
    "%matplotlib inline\n",
    "\n",
    "x, y = mgrid[0:1:(nx*1j), 0:1:(ny*1j)]\n",
    "plt.pcolor(x, y, sol.x)\n",
    "plt.colorbar()\n",
    "plt.show()\n"
   ]
  },
  {
   "cell_type": "code",
   "execution_count": 9,
   "metadata": {},
   "outputs": [
    {
     "name": "stdout",
     "output_type": "stream",
     "text": [
      "[[ 0.00353016  0.00641199  0.00890225 ...,  0.2171539   0.30800119\n",
      "   0.5031512 ]\n",
      " [ 0.00641131  0.01191821  0.01677778 ...,  0.39121712  0.51040234\n",
      "   0.70330624]\n",
      " [ 0.00889954  0.01677439  0.02384266 ...,  0.52043197  0.63778745\n",
      "   0.79837408]\n",
      " ..., \n",
      " [ 0.00889954  0.01677439  0.02384266 ...,  0.52043197  0.63778745\n",
      "   0.79837408]\n",
      " [ 0.00641131  0.01191821  0.01677778 ...,  0.39121712  0.51040234\n",
      "   0.70330624]\n",
      " [ 0.00353016  0.00641199  0.00890225 ...,  0.2171539   0.30800119\n",
      "   0.5031512 ]]\n"
     ]
    }
   ],
   "source": [
    "print (sol.x)"
   ]
  },
  {
   "cell_type": "code",
   "execution_count": 10,
   "metadata": {},
   "outputs": [
    {
     "name": "stdout",
     "output_type": "stream",
     "text": [
      "[[ -1.67510974e-08   4.56750406e-08  -9.43141121e-09 ...,  -4.96416686e-09\n",
      "   -1.28336834e-08   2.75274177e-08]\n",
      " [  4.37045244e-08  -3.58331560e-08   2.50612651e-08 ...,  -1.04844018e-08\n",
      "   -3.94769897e-08  -1.60594338e-08]\n",
      " [ -5.92116844e-09   1.83568458e-08  -2.65793636e-08 ...,  -2.24177112e-08\n",
      "   -5.07464248e-08  -1.26925128e-08]\n",
      " ..., \n",
      " [ -6.58536781e-09   1.71820895e-08  -2.81471921e-08 ...,  -2.57569495e-08\n",
      "   -5.07774613e-08  -1.40561864e-08]\n",
      " [  4.39114620e-08  -3.67109481e-08   2.43805234e-08 ...,  -1.12543743e-08\n",
      "   -4.10689465e-08  -1.60823985e-08]\n",
      " [ -1.69043739e-08   4.58667726e-08  -1.06095186e-08 ...,  -5.74644599e-09\n",
      "   -1.15191225e-08   2.80417369e-08]]\n"
     ]
    }
   ],
   "source": [
    "print (residual(sol.x))"
   ]
  },
  {
   "cell_type": "code",
   "execution_count": 15,
   "metadata": {},
   "outputs": [
    {
     "name": "stdout",
     "output_type": "stream",
     "text": [
      "1.4208543076387992\n"
     ]
    }
   ],
   "source": [
    "print (cosh(sol.x).mean()**2)"
   ]
  }
 ],
 "metadata": {
  "kernelspec": {
   "display_name": "Python 3",
   "language": "python",
   "name": "python3"
  },
  "language_info": {
   "codemirror_mode": {
    "name": "ipython",
    "version": 3
   },
   "file_extension": ".py",
   "mimetype": "text/x-python",
   "name": "python",
   "nbconvert_exporter": "python",
   "pygments_lexer": "ipython3",
   "version": "3.6.4"
  }
 },
 "nbformat": 4,
 "nbformat_minor": 1
}
