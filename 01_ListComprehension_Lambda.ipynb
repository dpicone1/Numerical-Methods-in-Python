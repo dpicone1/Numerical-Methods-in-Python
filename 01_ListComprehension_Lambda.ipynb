{
 "cells": [
  {
   "cell_type": "markdown",
   "metadata": {},
   "source": [
    "# Loops, range, and list comprehension"
   ]
  },
  {
   "cell_type": "raw",
   "metadata": {},
   "source": [
    "This notebook is divided into three paragraphs containing examples on how to use:\n",
    "\n",
    "Paragraph 01 - \n",
    "loops,\n",
    "range()\n",
    "zip()\n",
    "sum()\n",
    "\n",
    "Paragraph 02 - \n",
    "List Comprehension, which can be defined as:\n",
    "a list comprehension \"S\" is the set of all y = f(x), such that x is taken from the set Q\n",
    "\n",
    "Paragraph 03 -\n",
    "a list comprehension together with Lambda\n",
    "\n",
    "You always need to loop over a range of values! \n",
    "Sometimes you also need to run a dot product between two vectors, so sum and zip will help.\n",
    "And the way python deals with list comprehension is just amazing!!"
   ]
  },
  {
   "cell_type": "markdown",
   "metadata": {},
   "source": [
    "## Paragraph 01"
   ]
  },
  {
   "cell_type": "code",
   "execution_count": 1,
   "metadata": {},
   "outputs": [
    {
     "name": "stdout",
     "output_type": "stream",
     "text": [
      "0\n",
      "1\n",
      "2\n",
      "3\n",
      "4\n",
      "5\n",
      "6\n",
      "7\n",
      "8\n",
      "9\n"
     ]
    }
   ],
   "source": [
    "for i in range(10):\n",
    "    print (i)"
   ]
  },
  {
   "cell_type": "code",
   "execution_count": 2,
   "metadata": {},
   "outputs": [
    {
     "name": "stdout",
     "output_type": "stream",
     "text": [
      "1\n",
      "4\n",
      "9\n"
     ]
    }
   ],
   "source": [
    "x = [1,2,3]\n",
    "for i in x:\n",
    "    print (i*i)"
   ]
  },
  {
   "cell_type": "code",
   "execution_count": 3,
   "metadata": {},
   "outputs": [
    {
     "name": "stdout",
     "output_type": "stream",
     "text": [
      "20\n"
     ]
    }
   ],
   "source": [
    "x = [1,2,3]\n",
    "y = [2,3,4]\n",
    "n = len(x)\n",
    "s = 0\n",
    "for i in range(n):\n",
    "    s +=x[i]*y[i]\n",
    "print (s)"
   ]
  },
  {
   "cell_type": "code",
   "execution_count": 4,
   "metadata": {},
   "outputs": [
    {
     "name": "stdout",
     "output_type": "stream",
     "text": [
      "20\n"
     ]
    }
   ],
   "source": [
    "s = 0\n",
    "for i,j in zip(x,y):\n",
    "    s+=i*j\n",
    "print (s)"
   ]
  },
  {
   "cell_type": "code",
   "execution_count": 5,
   "metadata": {},
   "outputs": [
    {
     "name": "stdout",
     "output_type": "stream",
     "text": [
      "20\n"
     ]
    }
   ],
   "source": [
    "print (sum([i*j for i,j in zip(x,y)]))"
   ]
  },
  {
   "cell_type": "code",
   "execution_count": 6,
   "metadata": {},
   "outputs": [
    {
     "name": "stdout",
     "output_type": "stream",
     "text": [
      "20\n"
     ]
    }
   ],
   "source": [
    "import numpy as np\n",
    "print (np.dot(x,y))"
   ]
  },
  {
   "cell_type": "markdown",
   "metadata": {},
   "source": [
    "## 02 - List Comprehension\n",
    "\n",
    "S is the set of all y = f(x), such that x is taken from the set Q"
   ]
  },
  {
   "cell_type": "code",
   "execution_count": 7,
   "metadata": {},
   "outputs": [
    {
     "name": "stdout",
     "output_type": "stream",
     "text": [
      "[0, 2, 4, 6, 8, 10, 12, 14, 16, 18]\n",
      "[0, 2, 4, 6, 8, 10, 12, 14, 16, 18]\n"
     ]
    }
   ],
   "source": [
    "def f(x):\n",
    "    return 2*x\n",
    "S = [f(x) for x in range(10)]\n",
    "print (S)\n",
    "\n",
    "# or better as\n",
    "Q = range(10)\n",
    "S = [f(x) for x in Q]\n",
    "print (S)"
   ]
  },
  {
   "cell_type": "code",
   "execution_count": 8,
   "metadata": {},
   "outputs": [
    {
     "name": "stdout",
     "output_type": "stream",
     "text": [
      "[[0, 0, 0], [0, 0, 0]]\n",
      "[[0, 1, 2], [2, 3, 4]]\n"
     ]
    }
   ],
   "source": [
    "import numpy as np\n",
    "n = 3\n",
    "m = 2\n",
    "\n",
    "def g(x,y):\n",
    "    return x + 2*y\n",
    "\n",
    "def ff(xx):\n",
    "    x = xx[:,0]\n",
    "    y = xx[:,1]\n",
    "    return x + 2*y\n",
    "\n",
    "Q = range(n)\n",
    "K = range(m)\n",
    "print ([[0 for i in Q] for j in K])\n",
    "print ([[g(i,j) for i in Q] for j in K])"
   ]
  },
  {
   "cell_type": "code",
   "execution_count": 9,
   "metadata": {},
   "outputs": [
    {
     "name": "stdout",
     "output_type": "stream",
     "text": [
      "2\n",
      "3\n",
      "[[0 0]\n",
      " [0 1]\n",
      " [1 0]\n",
      " [1 1]\n",
      " [2 0]\n",
      " [2 1]]\n",
      "[0 1 0 1 0 1]\n",
      "[0 0 1 1 2 2]\n"
     ]
    }
   ],
   "source": [
    "Q = np.array(Q)\n",
    "K = np.array(K)\n",
    "print (len(K))\n",
    "print (len(Q))\n",
    "\n",
    "vv = np.array([[i,j] for i in Q for j in K])\n",
    "print (vv)\n",
    "\n",
    "print (vv[:,1])\n",
    "print (vv[:,0])"
   ]
  },
  {
   "cell_type": "code",
   "execution_count": 10,
   "metadata": {},
   "outputs": [
    {
     "name": "stdout",
     "output_type": "stream",
     "text": [
      "[0 2 1 3 2 4]\n",
      "[0 2 1 3 2 4]\n"
     ]
    }
   ],
   "source": [
    "print (g(vv[:,0], vv[:,1]))\n",
    "print (ff(vv))"
   ]
  },
  {
   "cell_type": "code",
   "execution_count": 11,
   "metadata": {},
   "outputs": [
    {
     "name": "stdout",
     "output_type": "stream",
     "text": [
      "12\n",
      "12\n"
     ]
    }
   ],
   "source": [
    "print (sum(g(vv[:,0], vv[:,1])))\n",
    "print (sum(ff(vv)))"
   ]
  },
  {
   "cell_type": "markdown",
   "metadata": {},
   "source": [
    "## 03 - List comprehension with lambda and %timeit"
   ]
  },
  {
   "cell_type": "code",
   "execution_count": 12,
   "metadata": {},
   "outputs": [
    {
     "name": "stdout",
     "output_type": "stream",
     "text": [
      "500.20788428755253\n",
      "100.7330600210871\n",
      "-1.0658141036401503e-17\n",
      "1.0000000000000002\n"
     ]
    }
   ],
   "source": [
    "import numpy as np\n",
    "mydata = 100*np.random.randn(10000) + 500\n",
    "\n",
    "av = np.mean(mydata)\n",
    "st = np.std(mydata)\n",
    "print (av)\n",
    "print (st)\n",
    "\n",
    "stvar = [(ii - av)/st for ii in mydata]\n",
    "print (np.mean(stvar))\n",
    "print (np.std(stvar))"
   ]
  },
  {
   "cell_type": "code",
   "execution_count": 13,
   "metadata": {},
   "outputs": [
    {
     "name": "stdout",
     "output_type": "stream",
     "text": [
      "-1.0658141036401503e-17\n",
      "1.0000000000000002\n",
      "-1.0658141036401503e-17\n",
      "1.0000000000000002\n"
     ]
    }
   ],
   "source": [
    "stvar3 = [lambda x: (x - av)/st for x in mydata]\n",
    "# You cannot run a mean and st on stvar3, \n",
    "#print (np.mean(stvar3))\n",
    "#print (np.std(stvar3))\n",
    "\n",
    "# so either you try this way, by using a map.\n",
    "# NOTE - THIS IS FOR python 3. In python yu did NOT need to use list(map()) below\n",
    "stvar2 = list(map(lambda x: (x - av)/st, mydata))\n",
    "print (np.mean(stvar2))\n",
    "print (np.std(stvar2))\n",
    "\n",
    "# or this way, lambda first and then use the function ff()\n",
    "ff = lambda x: (x - av)/st\n",
    "stvar3 = ff(mydata)\n",
    "print (np.mean(stvar3))\n",
    "print (np.std(stvar3))"
   ]
  },
  {
   "cell_type": "code",
   "execution_count": 14,
   "metadata": {},
   "outputs": [
    {
     "name": "stdout",
     "output_type": "stream",
     "text": [
      "43.1 ms ± 901 µs per loop (mean ± std. dev. of 7 runs, 10 loops each)\n",
      "52.3 ms ± 3.11 ms per loop (mean ± std. dev. of 7 runs, 10 loops each)\n",
      "2.18 ms ± 65.6 µs per loop (mean ± std. dev. of 7 runs, 100 loops each)\n",
      "1.85 ms ± 271 µs per loop (mean ± std. dev. of 7 runs, 100 loops each)\n"
     ]
    }
   ],
   "source": [
    "# and now check out the fastest way of running mean and st.dev on a vector of N(0,1)\n",
    "# The winner is ff4!!!\n",
    "xx = 100*np.random.randn(100000) + 500\n",
    "\n",
    "def ff1(x):    \n",
    "    av = np.mean(x)\n",
    "    st = np.std(x)\n",
    "    stvar = [(ii - av)/st for ii in x]\n",
    "    return [np.mean(stvar), np.std(stvar)]\n",
    "\n",
    "def ff2(x):    \n",
    "    av = np.mean(x)\n",
    "    st = np.std(x)\n",
    "    stvar = list(map(lambda x: (x - av)/st, x))\n",
    "    return [np.mean(stvar), np.std(stvar)]\n",
    "\n",
    "def ff3(x):    \n",
    "    av = np.mean(x)\n",
    "    st = np.std(x)\n",
    "    ff = lambda x: (x - av)/st\n",
    "    stvar = ff(xx)\n",
    "    return [np.mean(stvar), np.std(stvar)]\n",
    "\n",
    "def ff4(x):    \n",
    "    av = np.mean(x)\n",
    "    st = np.std(x)\n",
    "    def ff(x):\n",
    "        return (x - av)/st\n",
    "    stvar = ff(x)\n",
    "    return [np.mean(stvar), np.std(stvar)]\n",
    "\n",
    "\n",
    "%timeit ff1(xx)\n",
    "%timeit ff2(xx)\n",
    "%timeit ff3(xx)\n",
    "%timeit ff4(xx)"
   ]
  }
 ],
 "metadata": {
  "anaconda-cloud": {},
  "kernelspec": {
   "display_name": "Python 3",
   "language": "python",
   "name": "python3"
  },
  "language_info": {
   "codemirror_mode": {
    "name": "ipython",
    "version": 3
   },
   "file_extension": ".py",
   "mimetype": "text/x-python",
   "name": "python",
   "nbconvert_exporter": "python",
   "pygments_lexer": "ipython3",
   "version": "3.6.4"
  }
 },
 "nbformat": 4,
 "nbformat_minor": 1
}
