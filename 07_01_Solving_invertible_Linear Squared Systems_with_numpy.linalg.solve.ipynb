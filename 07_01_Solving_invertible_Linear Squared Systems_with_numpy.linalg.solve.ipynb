{
 "cells": [
  {
   "cell_type": "markdown",
   "metadata": {},
   "source": [
    "# Linear Systems (invertible) with numpy.linalg.solve "
   ]
  },
  {
   "cell_type": "code",
   "execution_count": 1,
   "metadata": {},
   "outputs": [
    {
     "name": "stdout",
     "output_type": "stream",
     "text": [
      "[0.46511628 1.39534884 0.58139535]\n",
      "[ 5. 10. 15.]\n"
     ]
    }
   ],
   "source": [
    "import numpy as np\n",
    "A = np.array([[1,2,3],[4,5,2],[2,8,5]])\n",
    "b = np.array([5, 10, 15])\n",
    "\n",
    "x = np.linalg.solve(A,b) # THIS IS THE FASTEST WAY\n",
    "print x\n",
    "print A.dot(x)"
   ]
  },
  {
   "cell_type": "code",
   "execution_count": 2,
   "metadata": {},
   "outputs": [
    {
     "name": "stdout",
     "output_type": "stream",
     "text": [
      "[0.46511628 1.39534884 0.58139535]\n",
      "[ 5. 10. 15.]\n"
     ]
    }
   ],
   "source": [
    "Ainv = np.linalg.inv(A)\n",
    "\n",
    "xx = Ainv.dot(b)          # THIS IS NOT SO FAST AS ABOVE\n",
    "print xx\n",
    "print A.dot(xx)"
   ]
  },
  {
   "cell_type": "code",
   "execution_count": 4,
   "metadata": {},
   "outputs": [
    {
     "name": "stdout",
     "output_type": "stream",
     "text": [
      "The slowest run took 11.92 times longer than the fastest. This could mean that an intermediate result is being cached.\n",
      "100000 loops, best of 3: 9.98 µs per loop\n",
      "The slowest run took 8.54 times longer than the fastest. This could mean that an intermediate result is being cached.\n",
      "10000 loops, best of 3: 30.2 µs per loop\n"
     ]
    }
   ],
   "source": [
    "# Test which is FAST\n",
    "def solvere(A, b):\n",
    "    return np.linalg.solve(A,b)\n",
    "def solvereInv(A, b):\n",
    "    Ainv = np.linalg.inv(A)\n",
    "    return Ainv.dot(b)\n",
    "\n",
    "%timeit solvere(A, b)    # This is the Fastest!\n",
    "%timeit solvereInv(A, b) # This is NOT the Fastest!"
   ]
  },
  {
   "cell_type": "code",
   "execution_count": 5,
   "metadata": {},
   "outputs": [
    {
     "name": "stdout",
     "output_type": "stream",
     "text": [
      "1 loop, best of 3: 389 ms per loop\n",
      "1 loop, best of 3: 1.25 s per loop\n"
     ]
    }
   ],
   "source": [
    "AA = np.random.rand(3000,3000)\n",
    "bb = np.random.rand(3000)\n",
    "%timeit solvere(AA, bb)\n",
    "%timeit solvereInv(AA, bb)"
   ]
  }
 ],
 "metadata": {
  "anaconda-cloud": {},
  "kernelspec": {
   "display_name": "Python 3",
   "language": "python",
   "name": "python3"
  },
  "language_info": {
   "codemirror_mode": {
    "name": "ipython",
    "version": 3
   },
   "file_extension": ".py",
   "mimetype": "text/x-python",
   "name": "python",
   "nbconvert_exporter": "python",
   "pygments_lexer": "ipython3",
   "version": "3.6.4"
  }
 },
 "nbformat": 4,
 "nbformat_minor": 1
}
