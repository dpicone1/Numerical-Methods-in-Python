{
 "cells": [
  {
   "cell_type": "markdown",
   "metadata": {},
   "source": [
    "# Eigenvalues and Eigenvectors and PCA"
   ]
  },
  {
   "cell_type": "markdown",
   "metadata": {},
   "source": [
    "## Eigenvalues and Eigenvectors"
   ]
  },
  {
   "cell_type": "code",
   "execution_count": 1,
   "metadata": {},
   "outputs": [
    {
     "name": "stdout",
     "output_type": "stream",
     "text": [
      "[[ 1 -1]\n",
      " [ 0  1]\n",
      " [-1  0]]\n",
      "[[ 1  0 -1]\n",
      " [-1  1  0]]\n",
      "[[ 2 -1]\n",
      " [-1  2]]\n",
      "[[ 2 -1 -1]\n",
      " [-1  1  0]\n",
      " [-1  0  1]]\n"
     ]
    }
   ],
   "source": [
    "import numpy as np\n",
    "A = np.array([[1,-1],[0,1],[-1,0]])\n",
    "print (A)\n",
    "AT = A.T\n",
    "print (AT)\n",
    "C = AT.dot(A)\n",
    "print (C)\n",
    "\n",
    "C2 = A.dot(AT)\n",
    "print (C2)"
   ]
  },
  {
   "cell_type": "code",
   "execution_count": 2,
   "metadata": {},
   "outputs": [
    {
     "name": "stdout",
     "output_type": "stream",
     "text": [
      "[[ 0.70710678  0.70710678]\n",
      " [-0.70710678  0.70710678]]\n",
      "[3. 1.]\n",
      "[ 3. -0.  1.]\n",
      "[[ 0.8165 -0.5774  0.    ]\n",
      " [-0.4082 -0.5774 -0.7071]\n",
      " [-0.4082 -0.5774  0.7071]]\n"
     ]
    }
   ],
   "source": [
    "eigenvalues, eigenvectors  = np.linalg.eig(C)\n",
    "print (eigenvectors)\n",
    "print (eigenvalues)\n",
    "\n",
    "# using C2, I find that there are only 2 non zero eigenvalues\n",
    "eigenvalues2, eigenvectors2  = np.linalg.eig(C2)\n",
    "print (np.matrix.round(eigenvalues2,4))\n",
    "print (np.matrix.round(eigenvectors2,4))"
   ]
  },
  {
   "cell_type": "code",
   "execution_count": 3,
   "metadata": {},
   "outputs": [
    {
     "name": "stdout",
     "output_type": "stream",
     "text": [
      "[[3. 0.]\n",
      " [0. 1.]]\n",
      "[2 1 0]\n",
      "(1.3443892368835102+0j) (-0.1721946184417553-2.1055503310879122j) (-0.1721946184417553+2.1055503310879122j)\n",
      "[-0.17219462+2.10555033j -0.17219462-2.10555033j  1.34438924+0.        j]\n",
      "[2 1 0]\n",
      "(1.3443892368835102+0j) (-0.1721946184417553-2.1055503310879122j) (-0.1721946184417553+2.1055503310879122j)\n",
      "[-0.17219462+2.10555033j -0.17219462-2.10555033j  1.34438924+0.        j]\n"
     ]
    }
   ],
   "source": [
    "Lambda = np.diag(eigenvalues)\n",
    "print (Lambda)\n",
    "\n",
    "# from 18_SparseMatrices and Sorting Eigenvalues\n",
    "import scipy.sparse as sp\n",
    "import scipy.sparse.linalg\n",
    "\n",
    "ADom = np.array([[1,-1, 5],[0,1, 2],[-1,0, -1]])\n",
    "eigenv1, eigenvec2  = np.linalg.eig(ADom)\n",
    "\n",
    "# in ascending order\n",
    "idx = np.real(eigenv1).argsort()[::-1]\n",
    "print (idx)\n",
    "print (eigenv1[idx[0]], eigenv1[idx[1]], eigenv1[idx[2]])\n",
    "print (eigenv1)\n",
    "\n",
    "# in descending order\n",
    "idx = np.real(eigenv1).argsort()[::-1]\n",
    "print (idx)\n",
    "print (eigenv1[idx[0]], eigenv1[idx[1]], eigenv1[idx[2]])\n",
    "print (eigenv1)"
   ]
  },
  {
   "cell_type": "code",
   "execution_count": 5,
   "metadata": {},
   "outputs": [
    {
     "name": "stdout",
     "output_type": "stream",
     "text": [
      "[ 2.12132034 -2.12132034]\n",
      "[ 2.12132034 -2.12132034]\n"
     ]
    }
   ],
   "source": [
    "print (C.dot(eigenvectors[:,0]))\n",
    "print (eigenvalues[0]*eigenvectors[:,0])"
   ]
  },
  {
   "cell_type": "code",
   "execution_count": 6,
   "metadata": {},
   "outputs": [
    {
     "name": "stdout",
     "output_type": "stream",
     "text": [
      "[0.70710678 0.70710678]\n",
      "[0.70710678 0.70710678]\n"
     ]
    }
   ],
   "source": [
    "print (C.dot(eigenvectors[:,1]))\n",
    "print (eigenvalues[1]*eigenvectors[:,1])"
   ]
  },
  {
   "cell_type": "code",
   "execution_count": 7,
   "metadata": {},
   "outputs": [
    {
     "name": "stdout",
     "output_type": "stream",
     "text": [
      "[[ 2.12132034  0.70710678]\n",
      " [-2.12132034  0.70710678]]\n",
      "[[ 2.12132034  0.70710678]\n",
      " [-2.12132034  0.70710678]]\n"
     ]
    }
   ],
   "source": [
    "print( C.dot(eigenvectors))\n",
    "print (eigenvectors.dot(Lambda))"
   ]
  },
  {
   "cell_type": "code",
   "execution_count": 9,
   "metadata": {},
   "outputs": [
    {
     "name": "stdout",
     "output_type": "stream",
     "text": [
      "[[ 2.12132034  2.12132034]\n",
      " [-0.70710678  0.70710678]]\n"
     ]
    }
   ],
   "source": [
    "# this is wrong, SO DO not USE IT\n",
    "print (Lambda.dot(eigenvectors))"
   ]
  },
  {
   "cell_type": "code",
   "execution_count": 10,
   "metadata": {},
   "outputs": [
    {
     "name": "stdout",
     "output_type": "stream",
     "text": [
      "0.9999999999999999\n",
      "0.9999999999999999\n"
     ]
    }
   ],
   "source": [
    "# All eigenvectors are orthonormal \n",
    "print (np.linalg.norm(eigenvectors[:,0]))\n",
    "print (np.linalg.norm(eigenvectors[:,1]))"
   ]
  },
  {
   "cell_type": "code",
   "execution_count": 11,
   "metadata": {},
   "outputs": [
    {
     "name": "stdout",
     "output_type": "stream",
     "text": [
      "[[1. 0.]\n",
      " [0. 1.]]\n"
     ]
    }
   ],
   "source": [
    "# U * U.T is the identity\n",
    "print (eigenvectors.dot(eigenvectors.T))"
   ]
  },
  {
   "cell_type": "code",
   "execution_count": 12,
   "metadata": {},
   "outputs": [
    {
     "name": "stdout",
     "output_type": "stream",
     "text": [
      "[[ 0.70710678 -0.70710678]\n",
      " [ 0.70710678  0.70710678]]\n",
      "[[ 0.70710678 -0.70710678]\n",
      " [ 0.70710678  0.70710678]]\n"
     ]
    }
   ],
   "source": [
    "# Transpose and Inverse are the same\n",
    "print (np.linalg.inv(eigenvectors))\n",
    "print (eigenvectors.T)"
   ]
  },
  {
   "cell_type": "markdown",
   "metadata": {},
   "source": [
    "## Principal Components "
   ]
  },
  {
   "cell_type": "code",
   "execution_count": 13,
   "metadata": {},
   "outputs": [
    {
     "name": "stdout",
     "output_type": "stream",
     "text": [
      " A \n",
      "[[ 1 -1]\n",
      " [ 0  1]\n",
      " [-1  0]]\n",
      " P \n",
      "[[ 1.41421356  0.        ]\n",
      " [-0.70710678  0.70710678]\n",
      " [-0.70710678 -0.70710678]]\n",
      "Note: there are three vectors as this A is a 3x2 matrix. Each row is a 2-dim vector\n"
     ]
    }
   ],
   "source": [
    "# The principal components are: \n",
    "# Before Rotation\n",
    "print (\" A \")\n",
    "print (A)\n",
    "# Now we rotate\n",
    "P = A.dot(eigenvectors)\n",
    "print (\" P \")\n",
    "print (P)\n",
    "# and the A is rotated on different axis\n",
    "print (\"Note: there are three vectors as this A is a 3x2 matrix. Each row is a 2-dim vector\")"
   ]
  },
  {
   "cell_type": "code",
   "execution_count": 14,
   "metadata": {},
   "outputs": [
    {
     "name": "stdout",
     "output_type": "stream",
     "text": [
      "[[3.00000000e+00 2.23711432e-17]\n",
      " [2.23711432e-17 1.00000000e+00]]\n"
     ]
    }
   ],
   "source": [
    "# If i do the following I recover the eigenvalues\n",
    "print (P.T.dot(P))"
   ]
  },
  {
   "cell_type": "code",
   "execution_count": 15,
   "metadata": {},
   "outputs": [
    {
     "name": "stdout",
     "output_type": "stream",
     "text": [
      "0.7071067811865475\n",
      "0.7853981633974484\n",
      "-0.7853981633974483\n",
      "0.7853981633974484\n",
      "45.00000000000001 degrees\n"
     ]
    }
   ],
   "source": [
    "# the eigenvector element [0,0] is \n",
    "print (eigenvectors[0,0])\n",
    "# We extract theta from cos(theta) =  eigenvector[0,0]\n",
    "print (np.arccos(eigenvectors[0,0]))\n",
    "print (-np.pi/4.0) # This is what the note says\n",
    "import math as ma\n",
    "print (ma.acos(eigenvectors[0,0]))\n",
    "# and in degrees\n",
    "print (ma.degrees(ma.acos(eigenvectors[0,0])), \"degrees\")"
   ]
  },
  {
   "cell_type": "code",
   "execution_count": 16,
   "metadata": {},
   "outputs": [],
   "source": [
    "import matplotlib.pyplot as plt\n",
    "%matplotlib inline"
   ]
  },
  {
   "cell_type": "code",
   "execution_count": 17,
   "metadata": {},
   "outputs": [
    {
     "data": {
      "image/png": "[encoded data removed]",
      "text/plain": [
       "<Figure size 432x288 with 2 Axes>"
      ]
     },
     "metadata": {
      "needs_background": "light"
     },
     "output_type": "display_data"
    }
   ],
   "source": [
    "xData_T = P[:,0]\n",
    "yData_T = P[:,1]\n",
    "\n",
    "xData = A[:,0]\n",
    "yData = A[:,1]\n",
    "\n",
    "fig,(axleft,axright) = plt.subplots(nrows=1,ncols=2, sharex=True)\n",
    "axleft.scatter(xData, yData,  color=\"r\")\n",
    "axleft.set_ylim(-1.5,1.5)\n",
    "axright.scatter(xData_T, yData_T,   color=\"b\")\n",
    "axright.set_ylim(-1.5,1.5)\n",
    "plt.show()\n",
    "\n",
    "# look at the point <1,-1> \n",
    "# which after translating (multiplying by the eigenvectors matrix) \n",
    "# becomes <1.41421356,0>"
   ]
  }
 ],
 "metadata": {
  "kernelspec": {
   "display_name": "Python 3",
   "language": "python",
   "name": "python3"
  },
  "language_info": {
   "codemirror_mode": {
    "name": "ipython",
    "version": 3
   },
   "file_extension": ".py",
   "mimetype": "text/x-python",
   "name": "python",
   "nbconvert_exporter": "python",
   "pygments_lexer": "ipython3",
   "version": "3.6.4"
  }
 },
 "nbformat": 4,
 "nbformat_minor": 1
}
