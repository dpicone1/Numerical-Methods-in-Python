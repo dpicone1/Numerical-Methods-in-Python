{
 "cells": [
  {
   "cell_type": "markdown",
   "metadata": {},
   "source": [
    "# Eigenvalues and Eigenvectors"
   ]
  },
  {
   "cell_type": "raw",
   "metadata": {},
   "source": [
    "sometimes you may need to sort the eigenvalues (and eigenvector) according to their size"
   ]
  },
  {
   "cell_type": "code",
   "execution_count": 2,
   "metadata": {},
   "outputs": [],
   "source": [
    "import sympy\n",
    "import numpy as np\n",
    "from scipy import linalg as la"
   ]
  },
  {
   "cell_type": "code",
   "execution_count": 4,
   "metadata": {},
   "outputs": [
    {
     "name": "stdout",
     "output_type": "stream",
     "text": [
      "[[ 3. -4.]\n",
      " [-4.  2.]]\n",
      " ---------------------------- \n",
      "[ 6.53112887+0.j -1.53112887+0.j]\n",
      "[[ 0.74967818  0.66180256]\n",
      " [-0.66180256  0.74967818]]\n",
      "[1 0]\n",
      "[0 1]\n",
      "6.531128874149275\n",
      "-1.531128874149275\n",
      "-1.531128874149275\n",
      "6.531128874149275\n"
     ]
    }
   ],
   "source": [
    "A = np.array([[3.0, -4.0], [-4.0, 2.0]])\n",
    "print (A)\n",
    "print (\" ---------------------------- \")\n",
    "evals, evecs = la.eig(A)\n",
    "print (evals )\n",
    "print (evecs)\n",
    "print (np.real(evals).argsort())\n",
    "n  = len(evals)\n",
    "print (np.real(evals).argsort()[::-1][:n])\n",
    "idx = np.real(evals).argsort()\n",
    "idx2= np.real(evals).argsort()[::-1][:n]\n",
    "for i in idx2:\n",
    "    print  (np.real(evals[i]))\n",
    "    \n",
    "for i in idx:\n",
    "    print  (np.real(evals[i]))"
   ]
  },
  {
   "cell_type": "code",
   "execution_count": 7,
   "metadata": {},
   "outputs": [
    {
     "name": "stdout",
     "output_type": "stream",
     "text": [
      "[[1. 3.]\n",
      " [2. 2.]]\n",
      " ----------------------------- \n",
      "[-1.+0.j  4.+0.j]\n",
      "[[-0.83205029 -0.70710678]\n",
      " [ 0.5547002  -0.70710678]]\n",
      " ----------------------------- \n",
      "4.0\n",
      "-1.0\n",
      " ----------------------------- \n",
      "-1.0\n",
      "4.0\n"
     ]
    }
   ],
   "source": [
    "A = np.array([[1.0, 3], [2, 2.0]])\n",
    "print (A)\n",
    "print (\" ----------------------------- \")\n",
    "evals, evecs = la.eig(A)\n",
    "print (evals )\n",
    "print (evecs)\n",
    "print (\" ----------------------------- \")\n",
    "\n",
    "n  = len(evals)\n",
    "idx = np.real(evals).argsort()\n",
    "idx2= np.real(evals).argsort()[::-1][:n]\n",
    "for i in idx2:\n",
    "    print  (np.real(evals[i]))\n",
    "print (\" ----------------------------- \")\n",
    "    \n",
    "for i in idx:\n",
    "    print  (np.real(evals[i]))"
   ]
  }
 ],
 "metadata": {
  "kernelspec": {
   "display_name": "Python 3",
   "language": "python",
   "name": "python3"
  },
  "language_info": {
   "codemirror_mode": {
    "name": "ipython",
    "version": 3
   },
   "file_extension": ".py",
   "mimetype": "text/x-python",
   "name": "python",
   "nbconvert_exporter": "python",
   "pygments_lexer": "ipython3",
   "version": "3.6.4"
  }
 },
 "nbformat": 4,
 "nbformat_minor": 1
}
