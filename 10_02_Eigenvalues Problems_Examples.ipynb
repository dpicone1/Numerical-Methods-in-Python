{
 "cells": [
  {
   "cell_type": "markdown",
   "metadata": {},
   "source": [
    "# Eigenvalues and Eigenvectors"
   ]
  },
  {
   "cell_type": "markdown",
   "metadata": {},
   "source": [
    "Linear Algebra - Linear Equation Systems \n",
    "\n",
    "a) Symbolic and numeric\n",
    "\n",
    "b) Rectangular systems \n",
    "\n",
    "c) Underdetermined (fat matrices)\n",
    "\n",
    "d) Overdetermined  (long skinny matrices for least squares)\n",
    "\n",
    "Eigenvalue problems\n",
    "\n",
    "Optimization - NonLinear Equations\n",
    "\n",
    "a) Univariate (Bisection, Newton, Optimization Methods)\n",
    "\n",
    "b) Multivariate (Jacobian and Hessian matrices)"
   ]
  },
  {
   "cell_type": "code",
   "execution_count": 2,
   "metadata": {},
   "outputs": [],
   "source": [
    "from scipy import linalg as la\n",
    "from scipy import optimize as op\n",
    "import sympy\n",
    "sympy.init_printing()\n",
    "import numpy as np"
   ]
  },
  {
   "cell_type": "code",
   "execution_count": 3,
   "metadata": {},
   "outputs": [],
   "source": [
    "import matplotlib.pyplot as plt\n",
    "%matplotlib inline\n",
    "\n",
    "import matplotlib as mpl\n",
    "mpl.rcParams[\"font.family\"] = \"serif\"\n",
    "mpl.rcParams[\"font.size\"] = \"12\""
   ]
  },
  {
   "cell_type": "code",
   "execution_count": 4,
   "metadata": {},
   "outputs": [],
   "source": [
    "from __future__ import division"
   ]
  },
  {
   "cell_type": "markdown",
   "metadata": {},
   "source": [
    "## Eigenvalue examples"
   ]
  },
  {
   "cell_type": "code",
   "execution_count": 5,
   "metadata": {},
   "outputs": [
    {
     "data": {
      "text/plain": [
       "array([[0.8, 0.3],\n",
       "       [0.2, 0.7]])"
      ]
     },
     "execution_count": 5,
     "metadata": {},
     "output_type": "execute_result"
    }
   ],
   "source": [
    "A = np.array([[0.8, 0.3], [0.2, 0.7]])\n",
    "A"
   ]
  },
  {
   "cell_type": "code",
   "execution_count": 6,
   "metadata": {},
   "outputs": [
    {
     "name": "stdout",
     "output_type": "stream",
     "text": [
      "[1. +0.j 0.5+0.j]\n",
      "[[ 0.83205029 -0.70710678]\n",
      " [ 0.5547002   0.70710678]]\n"
     ]
    }
   ],
   "source": [
    "evals, evecs = la.eig(A)\n",
    "print (evals) \n",
    "print (evecs)"
   ]
  },
  {
   "cell_type": "code",
   "execution_count": 7,
   "metadata": {},
   "outputs": [
    {
     "name": "stdout",
     "output_type": "stream",
     "text": [
      "[0.83205029 0.5547002 ]\n",
      "[0.83205029+0.j 0.5547002 +0.j]\n",
      "[-0.35355339  0.35355339]\n",
      "[-0.35355339+0.j  0.35355339+0.j]\n"
     ]
    }
   ],
   "source": [
    "# A*eigenvector[1] = eigenvalue(1) * eigenvector[1]\n",
    "# A*eigenvector[2] = eigenvalue(2) * eigenvector[2]\n",
    "print (A.dot(evecs[:,0]))\n",
    "print (evals[0]*evecs[:,0])\n",
    "\n",
    "print (A.dot(evecs[:,1]))\n",
    "print (evals[1]*evecs[:,1])"
   ]
  },
  {
   "cell_type": "code",
   "execution_count": 8,
   "metadata": {},
   "outputs": [],
   "source": [
    "A = np.array([[1, 3, 5], [3, 5, 3], [5, 3, 9]])"
   ]
  },
  {
   "cell_type": "code",
   "execution_count": 9,
   "metadata": {},
   "outputs": [],
   "source": [
    "evals, evecs = la.eig(A)"
   ]
  },
  {
   "cell_type": "code",
   "execution_count": 10,
   "metadata": {},
   "outputs": [
    {
     "data": {
      "text/plain": [
       "array([13.35310908+0.j, -1.75902942+0.j,  3.40592034+0.j])"
      ]
     },
     "execution_count": 10,
     "metadata": {},
     "output_type": "execute_result"
    }
   ],
   "source": [
    "evals"
   ]
  },
  {
   "cell_type": "code",
   "execution_count": 11,
   "metadata": {},
   "outputs": [
    {
     "data": {
      "text/plain": [
       "array([[ 0.42663918,  0.90353276, -0.04009445],\n",
       "       [ 0.43751227, -0.24498225, -0.8651975 ],\n",
       "       [ 0.79155671, -0.35158534,  0.49982569]])"
      ]
     },
     "execution_count": 11,
     "metadata": {},
     "output_type": "execute_result"
    }
   ],
   "source": [
    "evecs"
   ]
  },
  {
   "cell_type": "code",
   "execution_count": 12,
   "metadata": {},
   "outputs": [
    {
     "name": "stdout",
     "output_type": "stream",
     "text": [
      "[ 5.69695953  5.842149   10.5697431 ]\n",
      "[ 5.69695953+0.j  5.842149  +0.j 10.5697431 +0.j]\n",
      "[-1.5893407   0.43093099  0.61844896]\n",
      "[-1.5893407 +0.j  0.43093099-0.j  0.61844896-0.j]\n"
     ]
    }
   ],
   "source": [
    "print (A.dot(evecs[:,0]))\n",
    "print (evals[0]*evecs[:,0])\n",
    "\n",
    "print (A.dot(evecs[:,1]))\n",
    "print (evals[1]*evecs[:,1])"
   ]
  },
  {
   "cell_type": "code",
   "execution_count": 13,
   "metadata": {},
   "outputs": [
    {
     "name": "stdout",
     "output_type": "stream",
     "text": [
      "[-1.75902942  3.40592034 13.35310908]\n",
      "[13.35310908+0.j -1.75902942+0.j  3.40592034+0.j]\n",
      " ------------- \n",
      "[ 5.69695953  5.842149   10.5697431 ]\n",
      "[ 5.69695953+0.j  5.842149  +0.j 10.5697431 +0.j]\n",
      "[ 5.69695953  5.842149   10.5697431 ]\n",
      "[ 5.69695953  5.842149   10.5697431 ]\n"
     ]
    }
   ],
   "source": [
    "print (la.eigvalsh(A))\n",
    "print (evals)\n",
    "print (\" ------------- \")\n",
    "print (A.dot(evecs[:,0]))\n",
    "print (evals[0]*evecs[:,0])\n",
    "\n",
    "print (A.dot(evecs[:,0]))\n",
    "print (la.eigvalsh(A)[2]*evecs[:,0])\n"
   ]
  },
  {
   "cell_type": "code",
   "execution_count": 15,
   "metadata": {},
   "outputs": [
    {
     "name": "stdout",
     "output_type": "stream",
     "text": [
      "1.0000000000000002\n",
      "-1.6653345369377348e-16\n"
     ]
    }
   ],
   "source": [
    "# The eigenvectors are orthonormal\n",
    "print (np.dot(evecs[:,0], evecs[:,0]))\n",
    "print (np.dot(evecs[:,0], evecs[:,1]))"
   ]
  },
  {
   "cell_type": "code",
   "execution_count": 16,
   "metadata": {},
   "outputs": [
    {
     "name": "stdout",
     "output_type": "stream",
     "text": [
      "[0.42663918 0.43751227 0.79155671]\n",
      "[ 0.90353276 -0.24498225 -0.35158534]\n"
     ]
    }
   ],
   "source": [
    "# eigenvector 1 is \n",
    "print (evecs[:,0])\n",
    "# eigenvector 2 is\n",
    "print (evecs[:,1])\n"
   ]
  },
  {
   "cell_type": "code",
   "execution_count": 17,
   "metadata": {},
   "outputs": [
    {
     "name": "stdout",
     "output_type": "stream",
     "text": [
      "-1.6653345369377348e-16\n",
      "-1.6653345369377348e-16\n"
     ]
    }
   ],
   "source": [
    "# do not have to Transform to use np.dot(,)\n",
    "print (np.dot(evecs[:,0], evecs[:,1]))\n",
    "print (np.dot(evecs[:,0].T, evecs[:,1]))"
   ]
  }
 ],
 "metadata": {
  "anaconda-cloud": {},
  "kernelspec": {
   "display_name": "Python 3",
   "language": "python",
   "name": "python3"
  },
  "language_info": {
   "codemirror_mode": {
    "name": "ipython",
    "version": 3
   },
   "file_extension": ".py",
   "mimetype": "text/x-python",
   "name": "python",
   "nbconvert_exporter": "python",
   "pygments_lexer": "ipython3",
   "version": "3.6.4"
  }
 },
 "nbformat": 4,
 "nbformat_minor": 1
}
