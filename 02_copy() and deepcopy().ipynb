{
 "cells": [
  {
   "cell_type": "markdown",
   "metadata": {},
   "source": [
    "# copy() and deepcopy()¶"
   ]
  },
  {
   "cell_type": "raw",
   "metadata": {},
   "source": [
    "x = y is a shallow copy, like a pointer. Be CAREFULL!!\n",
    "Better to use \n",
    "copy(),  which is not a skin deep copy and works only for top objects\n",
    "and\n",
    "deepcopy()\n",
    "If in doubt, use deepcopy()"
   ]
  },
  {
   "cell_type": "code",
   "execution_count": 1,
   "metadata": {},
   "outputs": [
    {
     "name": "stdout",
     "output_type": "stream",
     "text": [
      "[1, 2, 3]\n",
      "[1, 2, 3]\n",
      "[1000, 2, 3]\n",
      "[1000, 2, 3]\n",
      "[1, 2, 3]\n",
      "[1000, 2, 3]\n"
     ]
    }
   ],
   "source": [
    "# x = y is a shallow copy, like a pointer. Be CAREFULL!!\n",
    "# Better to use \n",
    "# copy(),     which is not a skin deep copy and works only for top objects\n",
    "# deepcopy(), to be always sure, use deepcopy()\n",
    "import copy as cp\n",
    "x = [1,2,3]\n",
    "y = x\n",
    "print (x)\n",
    "print (y)\n",
    "y[0] = 1000\n",
    "print (x)\n",
    "print (y)\n",
    "x = [1,2,3]\n",
    "y = cp.deepcopy(x)\n",
    "y[0] = 1000\n",
    "print (x)\n",
    "print (y)"
   ]
  }
 ],
 "metadata": {
  "anaconda-cloud": {},
  "kernelspec": {
   "display_name": "Python 3",
   "language": "python",
   "name": "python3"
  },
  "language_info": {
   "codemirror_mode": {
    "name": "ipython",
    "version": 3
   },
   "file_extension": ".py",
   "mimetype": "text/x-python",
   "name": "python",
   "nbconvert_exporter": "python",
   "pygments_lexer": "ipython3",
   "version": "3.6.4"
  }
 },
 "nbformat": 4,
 "nbformat_minor": 1
}
