{
 "cells": [
  {
   "cell_type": "markdown",
   "metadata": {},
   "source": [
    "# More opimization practising"
   ]
  },
  {
   "cell_type": "code",
   "execution_count": 1,
   "metadata": {},
   "outputs": [],
   "source": [
    "import numpy as np\n",
    "from scipy.optimize import minimize"
   ]
  },
  {
   "cell_type": "code",
   "execution_count": 2,
   "metadata": {},
   "outputs": [],
   "source": [
    "def func(x, sign=1.0):\n",
    "    \"\"\" Objective function \"\"\"\n",
    "    return sign*(12*x[0] + 24*x[1])\n",
    "\n",
    "def func2(x, sign=1.0):\n",
    "    \"\"\" Objective function \"\"\"\n",
    "    return sign*(12*x[0] + 30*x[1])"
   ]
  },
  {
   "cell_type": "code",
   "execution_count": 3,
   "metadata": {},
   "outputs": [],
   "source": [
    "def func_inequality(x, sign=1.0):\n",
    "    \"\"\" Objective function \"\"\"\n",
    "    return np.array([40.0*x[0]+20*x[1] - 480, 16.0*x[0]+48*x[1] - 480])"
   ]
  },
  {
   "cell_type": "code",
   "execution_count": 4,
   "metadata": {},
   "outputs": [],
   "source": [
    "cons = ({'type': 'ineq','fun' : lambda x: np.array(func_inequality(x))})"
   ]
  },
  {
   "cell_type": "code",
   "execution_count": 5,
   "metadata": {},
   "outputs": [
    {
     "name": "stdout",
     "output_type": "stream",
     "text": [
      "Optimization terminated successfully.    (Exit mode 0)\n",
      "            Current function value: 273.5999999999143\n",
      "            Iterations: 2\n",
      "            Function evaluations: 8\n",
      "            Gradient evaluations: 2\n",
      "     fun: 273.5999999999143\n",
      "     jac: array([12., 24.])\n",
      " message: 'Optimization terminated successfully.'\n",
      "    nfev: 8\n",
      "     nit: 2\n",
      "    njev: 2\n",
      "  status: 0\n",
      " success: True\n",
      "       x: array([8.4, 7.2])\n"
     ]
    }
   ],
   "source": [
    "res_Constraint = minimize(func, [-1.0,1.0], args=(1.0,), constraints=cons, method='SLSQP', options={'disp': True})\n",
    "print (res_Constraint)"
   ]
  },
  {
   "cell_type": "code",
   "execution_count": 6,
   "metadata": {},
   "outputs": [
    {
     "name": "stdout",
     "output_type": "stream",
     "text": [
      "[8.4 7.2]\n",
      "[12. 24.]\n",
      "273.5999999999143\n"
     ]
    }
   ],
   "source": [
    "print (res_Constraint.x)\n",
    "print (res_Constraint.jac)\n",
    "print (func(res_Constraint.x, sign=1.0))"
   ]
  },
  {
   "cell_type": "code",
   "execution_count": 7,
   "metadata": {},
   "outputs": [
    {
     "name": "stdout",
     "output_type": "stream",
     "text": [
      "Optimization terminated successfully.    (Exit mode 0)\n",
      "            Current function value: 316.79999999996244\n",
      "            Iterations: 2\n",
      "            Function evaluations: 8\n",
      "            Gradient evaluations: 2\n",
      "[8.4 7.2]\n",
      "[12. 30.]\n",
      "316.79999999996244\n"
     ]
    }
   ],
   "source": [
    "res_Constraint = minimize(func2, [-1.0,1.0], args=(1.0,), constraints=cons, method='SLSQP', options={'disp': True})\n",
    "print (res_Constraint.x)\n",
    "print (res_Constraint.jac)\n",
    "print (func2(res_Constraint.x, sign=1.0))"
   ]
  }
 ],
 "metadata": {
  "kernelspec": {
   "display_name": "Python 3",
   "language": "python",
   "name": "python3"
  },
  "language_info": {
   "codemirror_mode": {
    "name": "ipython",
    "version": 3
   },
   "file_extension": ".py",
   "mimetype": "text/x-python",
   "name": "python",
   "nbconvert_exporter": "python",
   "pygments_lexer": "ipython3",
   "version": "3.6.4"
  }
 },
 "nbformat": 4,
 "nbformat_minor": 1
}
