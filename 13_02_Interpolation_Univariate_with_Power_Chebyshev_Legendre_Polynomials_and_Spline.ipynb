{
 "cells": [
  {
   "cell_type": "markdown",
   "metadata": {},
   "source": [
    "# Univariate Interpolation, with different polynomial types"
   ]
  },
  {
   "cell_type": "markdown",
   "metadata": {},
   "source": [
    "Most of the content of this notebook is from\n",
    "\n",
    "Robert Johansson\n",
    "\n",
    "Source code listings for [Numerical Python - A Practical Techniques Approach for Industry](http://www.apress.com/9781484205549) (ISBN 978-1-484205-54-9).\n",
    "\n",
    "Chapter 7\n",
    "\n",
    "I changed and tested the code, so you will find differences from the original work of Mr. Johansson"
   ]
  },
  {
   "cell_type": "raw",
   "metadata": {},
   "source": [
    "Different Polynomial Types to Univariate Interpolation\n",
    "1 - Power     basis interp -  with a high degree shows the typical wiggly behaviour\n",
    "2 - Chebyshev basis interp -  with a high degree shows the typical wiggly behaviour\n",
    "3 - Legendre  basis interp -  \n",
    "4 - Spline    basis interp - The best with a low (3) degree"
   ]
  },
  {
   "cell_type": "code",
   "execution_count": 1,
   "metadata": {},
   "outputs": [],
   "source": [
    "import matplotlib as mpl\n",
    "mpl.rcParams[\"font.family\"] = \"serif\"\n",
    "mpl.rcParams[\"font.size\"] = \"12\""
   ]
  },
  {
   "cell_type": "code",
   "execution_count": 2,
   "metadata": {},
   "outputs": [],
   "source": [
    "import numpy as np\n",
    "from numpy import polynomial as P\n",
    "from scipy import interpolate\n",
    "from scipy import linalg"
   ]
  },
  {
   "cell_type": "code",
   "execution_count": 3,
   "metadata": {},
   "outputs": [],
   "source": [
    "import matplotlib.pyplot as plt\n",
    "%matplotlib inline"
   ]
  },
  {
   "cell_type": "markdown",
   "metadata": {},
   "source": [
    "# Power Polynomials"
   ]
  },
  {
   "cell_type": "code",
   "execution_count": 4,
   "metadata": {},
   "outputs": [
    {
     "name": "stdout",
     "output_type": "stream",
     "text": [
      "poly([1. 2. 3.])\n",
      "poly([0.33333333+0.j 0.66666666+0.j 1.        +0.j])\n"
     ]
    }
   ],
   "source": [
    "# You can define a polynomial object with the followings:\n",
    "# 1 - with the coeffecients: P.Polynomial([1,2,3]) which is 1 + 2x + 3x^2\n",
    "# 2 - with the roots:        P.Polynomial.fromroots([-0.33333333-0.47140452j, -0.33333333+0.47140452j])\n",
    "print (P.Polynomial([1,2,3]))\n",
    "print (P.Polynomial.fromroots([-0.33333333-0.47140452j, -0.33333333+0.47140452j]))"
   ]
  },
  {
   "cell_type": "code",
   "execution_count": 5,
   "metadata": {},
   "outputs": [],
   "source": [
    "# Poxer Basis Polynomial\n",
    "# a representation of the polynomial 1 + 2x + 3x^2\n",
    "p1 = P.Polynomial([1,2,3])"
   ]
  },
  {
   "cell_type": "code",
   "execution_count": 6,
   "metadata": {},
   "outputs": [
    {
     "data": {
      "text/plain": [
       "Polynomial([1., 2., 3.], domain=[-1,  1], window=[-1,  1])"
      ]
     },
     "execution_count": 6,
     "metadata": {},
     "output_type": "execute_result"
    }
   ],
   "source": [
    "p1"
   ]
  },
  {
   "cell_type": "code",
   "execution_count": 7,
   "metadata": {},
   "outputs": [
    {
     "name": "stdout",
     "output_type": "stream",
     "text": [
      "poly([1. 2. 3.])\n",
      "10.75\n",
      "10.75\n",
      "2.0\n",
      "6.0\n"
     ]
    }
   ],
   "source": [
    "print (p1)\n",
    "print (p1(1.5))\n",
    "print (1+2*1.5+3*1.5**2)\n",
    "print (p1(-1))\n",
    "print (p1(1))"
   ]
  },
  {
   "cell_type": "code",
   "execution_count": 8,
   "metadata": {},
   "outputs": [],
   "source": [
    "# a representation of the polynomial -1 + x^2, which we can read from below\n",
    "p2 = P.Polynomial.fromroots([-1, 1])"
   ]
  },
  {
   "cell_type": "code",
   "execution_count": 9,
   "metadata": {},
   "outputs": [
    {
     "data": {
      "text/plain": [
       "Polynomial([-1.,  0.,  1.], domain=[-1.,  1.], window=[-1.,  1.])"
      ]
     },
     "execution_count": 9,
     "metadata": {},
     "output_type": "execute_result"
    }
   ],
   "source": [
    "p2"
   ]
  },
  {
   "cell_type": "code",
   "execution_count": 10,
   "metadata": {},
   "outputs": [
    {
     "data": {
      "text/plain": [
       "array([-0.33333333-0.47140452j, -0.33333333+0.47140452j])"
      ]
     },
     "execution_count": 10,
     "metadata": {},
     "output_type": "execute_result"
    }
   ],
   "source": [
    "p1.roots()"
   ]
  },
  {
   "cell_type": "code",
   "execution_count": 11,
   "metadata": {},
   "outputs": [
    {
     "name": "stdout",
     "output_type": "stream",
     "text": [
      "-2.7755575615628914e-16j\n",
      "2.7755575615628914e-16j\n"
     ]
    }
   ],
   "source": [
    "print (p1(p1.roots()[0]))\n",
    "print (p1(p1.roots()[1]))"
   ]
  },
  {
   "cell_type": "code",
   "execution_count": 12,
   "metadata": {},
   "outputs": [
    {
     "data": {
      "text/plain": [
       "array([-1.,  1.])"
      ]
     },
     "execution_count": 12,
     "metadata": {},
     "output_type": "execute_result"
    }
   ],
   "source": [
    "p2.roots()"
   ]
  },
  {
   "cell_type": "code",
   "execution_count": 13,
   "metadata": {},
   "outputs": [
    {
     "name": "stdout",
     "output_type": "stream",
     "text": [
      "0.0\n",
      "0.0\n"
     ]
    }
   ],
   "source": [
    "print (p2(-1))\n",
    "print (p2(1))"
   ]
  },
  {
   "cell_type": "code",
   "execution_count": 14,
   "metadata": {},
   "outputs": [
    {
     "name": "stdout",
     "output_type": "stream",
     "text": [
      "[1. 2. 3.]\n",
      "[-1.  0.  1.]\n"
     ]
    }
   ],
   "source": [
    "print (p1.coef)\n",
    "print (p2.coef)"
   ]
  },
  {
   "cell_type": "code",
   "execution_count": 15,
   "metadata": {},
   "outputs": [
    {
     "data": {
      "text/plain": [
       "array([-1,  1])"
      ]
     },
     "execution_count": 15,
     "metadata": {},
     "output_type": "execute_result"
    }
   ],
   "source": [
    "p1.domain"
   ]
  },
  {
   "cell_type": "code",
   "execution_count": 16,
   "metadata": {},
   "outputs": [
    {
     "data": {
      "text/plain": [
       "array([-1,  1])"
      ]
     },
     "execution_count": 16,
     "metadata": {},
     "output_type": "execute_result"
    }
   ],
   "source": [
    "p1.window"
   ]
  },
  {
   "cell_type": "code",
   "execution_count": 17,
   "metadata": {},
   "outputs": [],
   "source": [
    "#p1([1.5, 2.5, 3.5])"
   ]
  },
  {
   "cell_type": "code",
   "execution_count": 18,
   "metadata": {},
   "outputs": [
    {
     "data": {
      "text/plain": [
       "Polynomial([0., 2., 4.], domain=[-1.,  1.], window=[-1.,  1.])"
      ]
     },
     "execution_count": 18,
     "metadata": {},
     "output_type": "execute_result"
    }
   ],
   "source": [
    "p1+p2"
   ]
  },
  {
   "cell_type": "code",
   "execution_count": 19,
   "metadata": {},
   "outputs": [
    {
     "data": {
      "text/plain": [
       "Polynomial([-0.2,  0. ,  0.2], domain=[-1.,  1.], window=[-1.,  1.])"
      ]
     },
     "execution_count": 19,
     "metadata": {},
     "output_type": "execute_result"
    }
   ],
   "source": [
    "p2 / 5"
   ]
  },
  {
   "cell_type": "code",
   "execution_count": 20,
   "metadata": {},
   "outputs": [
    {
     "data": {
      "text/plain": [
       "Polynomial([-6., 11., -6.,  1.], domain=[-1.,  1.], window=[-1.,  1.])"
      ]
     },
     "execution_count": 20,
     "metadata": {},
     "output_type": "execute_result"
    }
   ],
   "source": [
    "P.Polynomial.fromroots([1, 2, 3])"
   ]
  },
  {
   "cell_type": "code",
   "execution_count": 21,
   "metadata": {},
   "outputs": [],
   "source": [
    "p1 = P.Polynomial.fromroots([1, 2, 3])"
   ]
  },
  {
   "cell_type": "code",
   "execution_count": 22,
   "metadata": {},
   "outputs": [
    {
     "data": {
      "text/plain": [
       "Polynomial([-6., 11., -6.,  1.], domain=[-1.,  1.], window=[-1.,  1.])"
      ]
     },
     "execution_count": 22,
     "metadata": {},
     "output_type": "execute_result"
    }
   ],
   "source": [
    "p1"
   ]
  },
  {
   "cell_type": "code",
   "execution_count": 23,
   "metadata": {},
   "outputs": [],
   "source": [
    "p2 = P.Polynomial.fromroots([2])"
   ]
  },
  {
   "cell_type": "code",
   "execution_count": 24,
   "metadata": {},
   "outputs": [
    {
     "data": {
      "text/plain": [
       "Polynomial([-2.,  1.], domain=[-1.,  1.], window=[-1.,  1.])"
      ]
     },
     "execution_count": 24,
     "metadata": {},
     "output_type": "execute_result"
    }
   ],
   "source": [
    "p2"
   ]
  },
  {
   "cell_type": "code",
   "execution_count": 25,
   "metadata": {},
   "outputs": [],
   "source": [
    "p3 = p1 // p2"
   ]
  },
  {
   "cell_type": "code",
   "execution_count": 26,
   "metadata": {},
   "outputs": [
    {
     "data": {
      "text/plain": [
       "Polynomial([ 3., -4.,  1.], domain=[-1.,  1.], window=[-1.,  1.])"
      ]
     },
     "execution_count": 26,
     "metadata": {},
     "output_type": "execute_result"
    }
   ],
   "source": [
    "p3"
   ]
  },
  {
   "cell_type": "code",
   "execution_count": 27,
   "metadata": {},
   "outputs": [
    {
     "data": {
      "text/plain": [
       "array([1., 3.])"
      ]
     },
     "execution_count": 27,
     "metadata": {},
     "output_type": "execute_result"
    }
   ],
   "source": [
    "p3.roots()"
   ]
  },
  {
   "cell_type": "code",
   "execution_count": 28,
   "metadata": {},
   "outputs": [
    {
     "data": {
      "text/plain": [
       "Polynomial([-2.,  1.], domain=[-1.,  1.], window=[-1.,  1.])"
      ]
     },
     "execution_count": 28,
     "metadata": {},
     "output_type": "execute_result"
    }
   ],
   "source": [
    "p2"
   ]
  },
  {
   "cell_type": "markdown",
   "metadata": {},
   "source": [
    "# Chebyshev  Polynomials"
   ]
  },
  {
   "cell_type": "code",
   "execution_count": 29,
   "metadata": {},
   "outputs": [
    {
     "name": "stdout",
     "output_type": "stream",
     "text": [
      "cheb([1. 2. 3.])\n",
      "cheb([0.16666666 0.33333333 0.5       ])\n"
     ]
    }
   ],
   "source": [
    "# You can define a polynomial object with the followings:\n",
    "# 1 - with the coeffecients: P.Chebyshev([1,2,3]) which is 1 + 2x + 3x^2\n",
    "# 2 - with the roots:        P.Chebyshev([-0.76759188,  0.43425855])\n",
    "print (P.Chebyshev([1,2,3]))\n",
    "print (P.Chebyshev.fromroots([-0.76759188,  0.43425855]))"
   ]
  },
  {
   "cell_type": "code",
   "execution_count": 30,
   "metadata": {},
   "outputs": [],
   "source": [
    "c1 = P.Chebyshev([1, 2, 3])"
   ]
  },
  {
   "cell_type": "code",
   "execution_count": 31,
   "metadata": {},
   "outputs": [
    {
     "data": {
      "text/plain": [
       "Chebyshev([1., 2., 3.], domain=[-1,  1], window=[-1,  1])"
      ]
     },
     "execution_count": 31,
     "metadata": {},
     "output_type": "execute_result"
    }
   ],
   "source": [
    "c1"
   ]
  },
  {
   "cell_type": "code",
   "execution_count": 32,
   "metadata": {},
   "outputs": [
    {
     "data": {
      "text/plain": [
       "array([-0.76759188,  0.43425855])"
      ]
     },
     "execution_count": 32,
     "metadata": {},
     "output_type": "execute_result"
    }
   ],
   "source": [
    "c1.roots()"
   ]
  },
  {
   "cell_type": "code",
   "execution_count": 33,
   "metadata": {},
   "outputs": [],
   "source": [
    "c = P.Chebyshev.fromroots([-1, 1])"
   ]
  },
  {
   "cell_type": "code",
   "execution_count": 34,
   "metadata": {},
   "outputs": [
    {
     "data": {
      "text/plain": [
       "Chebyshev([-0.5,  0. ,  0.5], domain=[-1.,  1.], window=[-1.,  1.])"
      ]
     },
     "execution_count": 34,
     "metadata": {},
     "output_type": "execute_result"
    }
   ],
   "source": [
    "c"
   ]
  },
  {
   "cell_type": "markdown",
   "metadata": {},
   "source": [
    "# Legendre Polynomial"
   ]
  },
  {
   "cell_type": "code",
   "execution_count": 35,
   "metadata": {},
   "outputs": [
    {
     "name": "stdout",
     "output_type": "stream",
     "text": [
      "leg([-0.66666667  0.          0.66666667])\n",
      "leg([-0.66666667  0.          0.66666667])\n"
     ]
    }
   ],
   "source": [
    "# You can define a polynomial object with the followings:\n",
    "# 1 - with the coeffecients: P.Legendre([-1,1]) \n",
    "# 2 - with the roots:        P.Legendre([-0.33333333-0.47140452j, -0.33333333+0.47140452j])\n",
    "print (P.Legendre([-0.66666667,  0.        ,  0.66666667]))\n",
    "print (P.Legendre.fromroots([-1,1]))"
   ]
  },
  {
   "cell_type": "code",
   "execution_count": 36,
   "metadata": {},
   "outputs": [],
   "source": [
    "l = P.Legendre.fromroots([-1, 1])"
   ]
  },
  {
   "cell_type": "code",
   "execution_count": 37,
   "metadata": {},
   "outputs": [
    {
     "data": {
      "text/plain": [
       "Legendre([-0.66666667,  0.        ,  0.66666667], domain=[-1.,  1.], window=[-1.,  1.])"
      ]
     },
     "execution_count": 37,
     "metadata": {},
     "output_type": "execute_result"
    }
   ],
   "source": [
    "l"
   ]
  },
  {
   "cell_type": "code",
   "execution_count": 38,
   "metadata": {},
   "outputs": [
    {
     "name": "stdout",
     "output_type": "stream",
     "text": [
      "[-1.  1.]\n"
     ]
    }
   ],
   "source": [
    "print (l.roots())"
   ]
  },
  {
   "cell_type": "markdown",
   "metadata": {},
   "source": [
    "# Polynomial interpolation"
   ]
  },
  {
   "cell_type": "code",
   "execution_count": 39,
   "metadata": {},
   "outputs": [],
   "source": [
    "x = np.array([1, 2, 3, 4])\n",
    "y = np.array([1, 3, 5, 4])"
   ]
  },
  {
   "cell_type": "code",
   "execution_count": 40,
   "metadata": {},
   "outputs": [
    {
     "name": "stdout",
     "output_type": "stream",
     "text": [
      "3\n"
     ]
    }
   ],
   "source": [
    "deg = len(x) - 1\n",
    "print (deg)"
   ]
  },
  {
   "cell_type": "code",
   "execution_count": 41,
   "metadata": {},
   "outputs": [],
   "source": [
    "import numpy.linalg"
   ]
  },
  {
   "cell_type": "code",
   "execution_count": 42,
   "metadata": {},
   "outputs": [
    {
     "name": "stdout",
     "output_type": "stream",
     "text": [
      "[[ 1.  1.  1.  1.]\n",
      " [ 1.  2.  4.  8.]\n",
      " [ 1.  3.  9. 27.]\n",
      " [ 1.  4. 16. 64.]]\n",
      "100.0\n",
      "4\n"
     ]
    }
   ],
   "source": [
    "A = P.polynomial.polyvander(x, deg)\n",
    "print (A)\n",
    "print (np.dot(A[:,1], A[:,2]))\n",
    "print (numpy.linalg.matrix_rank(A))"
   ]
  },
  {
   "cell_type": "code",
   "execution_count": 43,
   "metadata": {},
   "outputs": [],
   "source": [
    "c = numpy.linalg.solve(A, y)"
   ]
  },
  {
   "cell_type": "code",
   "execution_count": 44,
   "metadata": {},
   "outputs": [
    {
     "data": {
      "text/plain": [
       "array([ 2. , -3.5,  3. , -0.5])"
      ]
     },
     "execution_count": 44,
     "metadata": {},
     "output_type": "execute_result"
    }
   ],
   "source": [
    "c"
   ]
  },
  {
   "cell_type": "code",
   "execution_count": 45,
   "metadata": {},
   "outputs": [],
   "source": [
    "f1 = P.Polynomial(c)"
   ]
  },
  {
   "cell_type": "code",
   "execution_count": 46,
   "metadata": {},
   "outputs": [
    {
     "name": "stdout",
     "output_type": "stream",
     "text": [
      "4.187499999999998\n",
      "4.999999999999999\n"
     ]
    }
   ],
   "source": [
    "print (f1(2.5))\n",
    "print (f1(3))"
   ]
  },
  {
   "cell_type": "code",
   "execution_count": 47,
   "metadata": {},
   "outputs": [
    {
     "name": "stdout",
     "output_type": "stream",
     "text": [
      "[[  1.   1.   1.   1.]\n",
      " [  1.   2.   7.  26.]\n",
      " [  1.   3.  17.  99.]\n",
      " [  1.   4.  31. 244.]]\n",
      "190.0\n",
      "4\n"
     ]
    }
   ],
   "source": [
    "A = P.chebyshev.chebvander(x, deg)\n",
    "print (A)\n",
    "print (np.dot(A[:,1], A[:,2]))\n",
    "print (numpy.linalg.matrix_rank(A))"
   ]
  },
  {
   "cell_type": "code",
   "execution_count": 48,
   "metadata": {},
   "outputs": [],
   "source": [
    "c = numpy.linalg.solve(A, y)"
   ]
  },
  {
   "cell_type": "code",
   "execution_count": 49,
   "metadata": {},
   "outputs": [
    {
     "data": {
      "text/plain": [
       "array([ 3.5  , -3.875,  1.5  , -0.125])"
      ]
     },
     "execution_count": 49,
     "metadata": {},
     "output_type": "execute_result"
    }
   ],
   "source": [
    "c"
   ]
  },
  {
   "cell_type": "code",
   "execution_count": 50,
   "metadata": {},
   "outputs": [],
   "source": [
    "f2 = P.Chebyshev(c)"
   ]
  },
  {
   "cell_type": "code",
   "execution_count": 51,
   "metadata": {},
   "outputs": [
    {
     "name": "stdout",
     "output_type": "stream",
     "text": [
      "4.187499999999999\n",
      "5.0\n"
     ]
    }
   ],
   "source": [
    "print (f2(2.5))\n",
    "print (f2(3))"
   ]
  },
  {
   "cell_type": "code",
   "execution_count": 52,
   "metadata": {},
   "outputs": [
    {
     "data": {
      "image/png": "[encoded data removed]",
      "text/plain": [
       "<Figure size 576x288 with 1 Axes>"
      ]
     },
     "metadata": {
      "needs_background": "light"
     },
     "output_type": "display_data"
    }
   ],
   "source": [
    "xx = np.linspace(x.min(), x.max(), 100)\n",
    "\n",
    "fig, ax = plt.subplots(1, 1, figsize=(8, 4))\n",
    "\n",
    "ax.plot(xx, f1(xx), 'b'  , lw=2, label='Power Poly basis interp.')\n",
    "ax.plot(xx, f2(xx), 'r--', lw=2, label='Chebyshev Poly basis interp.')\n",
    "ax.scatter(x, y, label='data points')\n",
    "\n",
    "ax.legend(loc=4)\n",
    "ax.set_xticks(x)\n",
    "ax.set_ylabel(r\"$y$\", fontsize=18)\n",
    "ax.set_xlabel(r\"$x$\", fontsize=18)\n",
    "fig.tight_layout()\n"
   ]
  },
  {
   "cell_type": "code",
   "execution_count": 53,
   "metadata": {},
   "outputs": [
    {
     "name": "stdout",
     "output_type": "stream",
     "text": [
      "poly([ 4.1875  3.1875 -1.6875 -1.6875])\n",
      "cheb([ 3.34375   1.921875 -0.84375  -0.421875])\n",
      "leg([ 3.625  2.175 -1.125 -0.675])\n"
     ]
    }
   ],
   "source": [
    "f1b = P.Polynomial.fit(x, y, deg)\n",
    "f2b = P.Chebyshev.fit(x, y, deg)\n",
    "f3b = P.Legendre.fit(x, y, deg)\n",
    "\n",
    "print (f1b)\n",
    "print (f2b)\n",
    "print (f3b)"
   ]
  },
  {
   "cell_type": "code",
   "execution_count": 54,
   "metadata": {},
   "outputs": [
    {
     "name": "stdout",
     "output_type": "stream",
     "text": [
      "4659.738424140432\n",
      "1171.0126859149525\n"
     ]
    }
   ],
   "source": [
    "print (np.linalg.cond(P.chebyshev.chebvander(x, deg)))\n",
    "print (np.linalg.cond(P.polynomial.polyvander(x, deg)))"
   ]
  },
  {
   "cell_type": "code",
   "execution_count": 55,
   "metadata": {},
   "outputs": [
    {
     "name": "stdout",
     "output_type": "stream",
     "text": [
      "1.8542033440472903\n",
      "8.011561047197162\n"
     ]
    }
   ],
   "source": [
    "print (np.linalg.cond(P.chebyshev.chebvander((2*x-5)/3.0, deg)))\n",
    "print (np.linalg.cond(P.polynomial.polyvander((2*x-5)/3.0, deg)))"
   ]
  },
  {
   "cell_type": "code",
   "execution_count": 56,
   "metadata": {},
   "outputs": [
    {
     "data": {
      "text/plain": [
       "array([-1.        , -0.33333333,  0.33333333,  1.        ])"
      ]
     },
     "execution_count": 56,
     "metadata": {},
     "output_type": "execute_result"
    }
   ],
   "source": [
    "(2 * x - 5)/3.0"
   ]
  },
  {
   "cell_type": "code",
   "execution_count": 57,
   "metadata": {},
   "outputs": [],
   "source": [
    "f1 = P.Polynomial.fit(x, y, 1)\n",
    "f2 = P.Polynomial.fit(x, y, 2)\n",
    "f3 = P.Polynomial.fit(x, y, 3)"
   ]
  },
  {
   "cell_type": "code",
   "execution_count": 58,
   "metadata": {},
   "outputs": [
    {
     "data": {
      "image/png": "[encoded data removed]",
      "text/plain": [
       "<Figure size 576x288 with 1 Axes>"
      ]
     },
     "metadata": {
      "needs_background": "light"
     },
     "output_type": "display_data"
    }
   ],
   "source": [
    "xx = np.linspace(x.min(), x.max(), 100)\n",
    "\n",
    "fig, ax = plt.subplots(1, 1, figsize=(8, 4))\n",
    "\n",
    "ax.plot(xx, f1(xx), 'r', lw=2, label='1st order')\n",
    "ax.plot(xx, f2(xx), 'g', lw=2, label='2nd order')\n",
    "ax.plot(xx, f3(xx), 'b', lw=2, label='3rd order')\n",
    "ax.plot(xx, f2b(xx), 'y', lw=2, label='Chebyshev')\n",
    "ax.plot(xx, f3b(xx), 'm', lw=2, label='Lagendre')\n",
    "ax.scatter(x, y, label='data points')\n",
    "ax.legend(loc=4)\n",
    "ax.set_xticks(x)\n",
    "ax.set_ylabel(r\"$y$\", fontsize=18)\n",
    "ax.set_xlabel(r\"$x$\", fontsize=18);"
   ]
  },
  {
   "cell_type": "markdown",
   "metadata": {},
   "source": [
    "## Runge problem with Chebyshev and Power Polynomials"
   ]
  },
  {
   "cell_type": "code",
   "execution_count": 59,
   "metadata": {},
   "outputs": [],
   "source": [
    "def runge(x):\n",
    "    return 1/(1 + 25 * x**2)"
   ]
  },
  {
   "cell_type": "code",
   "execution_count": 60,
   "metadata": {},
   "outputs": [
    {
     "name": "stdout",
     "output_type": "stream",
     "text": [
      "poly([ 9.57213877e-01  1.75111219e-13 -1.52674461e+01 -6.53665799e-12\n",
      "  1.24636817e+02  7.48456025e-11 -5.07215504e+02 -3.82202901e-10\n",
      "  1.03616040e+03  9.05989156e-10 -1.00823965e+03 -9.71769581e-10\n",
      "  3.69006630e+02  3.79214565e-10])\n"
     ]
    }
   ],
   "source": [
    "def runge_interpolate(n):\n",
    "    x = np.linspace(-1, 1, n+1)\n",
    "    p = P.Polynomial.fit(x, runge(x), deg=n)\n",
    "    return x, p\n",
    "print (runge_interpolate(13)[1])"
   ]
  },
  {
   "cell_type": "code",
   "execution_count": 61,
   "metadata": {},
   "outputs": [
    {
     "name": "stdout",
     "output_type": "stream",
     "text": [
      "cheb([ 3.79206790e-03  2.77498653e-15 -5.86417887e-01  1.91274194e-15\n",
      "  1.92289678e-02  9.56666048e-17 -6.58884310e-02 -1.59429042e-15\n",
      "  2.94637654e-01 -2.39027046e-15  1.92930149e-01 -1.85895527e-15\n",
      "  1.80179018e-01 -9.45060633e-16])\n"
     ]
    }
   ],
   "source": [
    "def runge_interpolate_Chebyshev(n):\n",
    "    x = np.linspace(-1, 1, n+1)\n",
    "    p = P.Chebyshev.fit(x, runge(x), deg=n)\n",
    "    return x, p\n",
    "print (runge_interpolate_Chebyshev(13)[1])"
   ]
  },
  {
   "cell_type": "code",
   "execution_count": 62,
   "metadata": {},
   "outputs": [],
   "source": [
    "xx = np.linspace(-1, 1, 250)"
   ]
  },
  {
   "cell_type": "code",
   "execution_count": 63,
   "metadata": {},
   "outputs": [
    {
     "data": {
      "image/png": "[encoded data removed]",
      "text/plain": [
       "<Figure size 576x288 with 1 Axes>"
      ]
     },
     "metadata": {
      "needs_background": "light"
     },
     "output_type": "display_data"
    }
   ],
   "source": [
    "# Different Degree Power Polynomial\n",
    "fig, ax = plt.subplots(1, 1, figsize=(8, 4))\n",
    "\n",
    "ax.plot(xx, runge(xx), 'k', lw=2, label=\"Runge's function\")\n",
    "\n",
    "n = 6\n",
    "x, p = runge_interpolate(n)\n",
    "ax.plot(x, runge(x), 'bo')\n",
    "ax.plot(xx, p(xx), 'b', label='interp. order %d' % n)\n",
    "\n",
    "n = 13\n",
    "x, p = runge_interpolate(n)\n",
    "ax.plot(x, runge(x), 'ro')\n",
    "ax.plot(xx, p(xx), 'r', label='interp. order %d' % n)\n",
    "\n",
    "n = 14\n",
    "x, p = runge_interpolate(n)\n",
    "ax.plot(x, runge(x), 'go')\n",
    "ax.plot(xx, p(xx), 'g', label='interp. order %d' % n)\n",
    "\n",
    "ax.legend(loc=8)\n",
    "ax.set_xlim(-1.1, 1.1)\n",
    "ax.set_ylim(-1, 2)\n",
    "ax.set_xticks([-1, -0.5, 0, 0.5, 1])\n",
    "ax.set_ylabel(r\"$y$\", fontsize=18)\n",
    "ax.set_xlabel(r\"$x$\", fontsize=18)\n",
    "\n",
    "fig.tight_layout()\n"
   ]
  },
  {
   "cell_type": "code",
   "execution_count": 64,
   "metadata": {},
   "outputs": [
    {
     "data": {
      "image/png": "[encoded data removed]",
      "text/plain": [
       "<Figure size 576x288 with 1 Axes>"
      ]
     },
     "metadata": {
      "needs_background": "light"
     },
     "output_type": "display_data"
    }
   ],
   "source": [
    "# Different Degree Chebyshev Polynomial\n",
    "fig, ax = plt.subplots(1, 1, figsize=(8, 4))\n",
    "\n",
    "ax.plot(xx, runge(xx), 'k', lw=2, label=\"Runge's function\")\n",
    "\n",
    "n = 6\n",
    "x, p = runge_interpolate_Chebyshev(n)\n",
    "ax.plot(x, runge(x), 'bo')\n",
    "ax.plot(xx, p(xx), 'b', label='interp. order %d' % n)\n",
    "\n",
    "n = 13\n",
    "x, p = runge_interpolate_Chebyshev(n)\n",
    "ax.plot(x, runge(x), 'ro')\n",
    "ax.plot(xx, p(xx), 'r', label='interp. order %d' % n)\n",
    "\n",
    "n = 14\n",
    "x, p = runge_interpolate_Chebyshev(n)\n",
    "ax.plot(x, runge(x), 'go')\n",
    "ax.plot(xx, p(xx), 'g', label='interp. order %d' % n)\n",
    "\n",
    "ax.legend(loc=8)\n",
    "ax.set_xlim(-1.1, 1.1)\n",
    "ax.set_ylim(-1, 2)\n",
    "ax.set_xticks([-1, -0.5, 0, 0.5, 1])\n",
    "ax.set_ylabel(r\"$y$\", fontsize=18)\n",
    "ax.set_xlabel(r\"$x$\", fontsize=18)\n",
    "\n",
    "fig.tight_layout()"
   ]
  },
  {
   "cell_type": "markdown",
   "metadata": {},
   "source": [
    "# Runge problem with Spline interpolation"
   ]
  },
  {
   "cell_type": "markdown",
   "metadata": {},
   "source": [
    "Spline Interpolation on the runge(x) function"
   ]
  },
  {
   "cell_type": "code",
   "execution_count": 65,
   "metadata": {},
   "outputs": [],
   "source": [
    "x = np.linspace(-1, 1, 11)"
   ]
  },
  {
   "cell_type": "code",
   "execution_count": 66,
   "metadata": {},
   "outputs": [],
   "source": [
    "x_random = np.random.randn(11)/50.0\n",
    "y_r = runge(x + x_random)\n",
    "y   = runge(x)"
   ]
  },
  {
   "cell_type": "code",
   "execution_count": 67,
   "metadata": {},
   "outputs": [],
   "source": [
    "# interpolate.interp1d is the spline\n",
    "f  = interpolate.interp1d(x, y, kind=3)\n",
    "f5 = interpolate.interp1d(x, y, kind=5)\n",
    "f_random3  = interpolate.interp1d(x, y_r, kind=3)"
   ]
  },
  {
   "cell_type": "code",
   "execution_count": 68,
   "metadata": {},
   "outputs": [],
   "source": [
    "xx = np.linspace(-1, 1, 100)"
   ]
  },
  {
   "cell_type": "code",
   "execution_count": 69,
   "metadata": {},
   "outputs": [
    {
     "name": "stdout",
     "output_type": "stream",
     "text": [
      "[0.03846154 0.04064473 0.04269833 0.04466077 0.04657046 0.04846583\n",
      " 0.0503853  0.05236729 0.05445023 0.05667254 0.05907263 0.06168895\n",
      " 0.06455989 0.0677239  0.07121938 0.07508477 0.07935849 0.08407895\n",
      " 0.08928458 0.09501381 0.10130506 0.10819803 0.11573526 0.12395968\n",
      " 0.1329142  0.14264175 0.15318525 0.16458763 0.1768918  0.19014069\n",
      " 0.20438    0.21987131 0.23724204 0.25715507 0.28027328 0.30725953\n",
      " 0.33877671 0.37548769 0.41805534 0.46714254 0.52337635 0.58599169\n",
      " 0.65241497 0.7199518  0.78590774 0.84758836 0.90229925 0.94734599\n",
      " 0.98003415 0.9976693  0.9976693  0.98003415 0.94734599 0.90229925\n",
      " 0.84758836 0.78590774 0.7199518  0.65241497 0.58599169 0.52337635\n",
      " 0.46714254 0.41805534 0.37548769 0.33877671 0.30725953 0.28027328\n",
      " 0.25715507 0.23724204 0.21987131 0.20438    0.19014069 0.1768918\n",
      " 0.16458763 0.15318525 0.14264175 0.1329142  0.12395968 0.11573526\n",
      " 0.10819803 0.10130506 0.09501381 0.08928458 0.08407895 0.07935849\n",
      " 0.07508477 0.07121938 0.0677239  0.06455989 0.06168895 0.05907263\n",
      " 0.05667254 0.05445023 0.05236729 0.0503853  0.04846583 0.04657046\n",
      " 0.04466077 0.04269833 0.04064473 0.03846154]\n"
     ]
    }
   ],
   "source": [
    "print (f(xx))"
   ]
  },
  {
   "cell_type": "code",
   "execution_count": 70,
   "metadata": {},
   "outputs": [
    {
     "data": {
      "image/png": "[encoded data removed]",
      "text/plain": [
       "<Figure size 576x288 with 1 Axes>"
      ]
     },
     "metadata": {
      "needs_background": "light"
     },
     "output_type": "display_data"
    }
   ],
   "source": [
    "fig, ax = plt.subplots(figsize=(8, 4))\n",
    "\n",
    "ax.plot(xx, runge(xx), 'k', lw=1, label=\"Runge's function\")\n",
    "ax.plot(x, y_r, 'bo', label='sample points+rand')\n",
    "ax.plot(x, y, 'ro', label='sample points')\n",
    "ax.plot(xx, f(xx), 'r--', lw=2, label='spline order 3')\n",
    "ax.plot(xx, f5(xx), 'm--', lw=2, label='spline order 5')\n",
    "ax.plot(xx, f_random3(xx), 'b--', lw=2, label='spline order 3+rand')\n",
    "\n",
    "\n",
    "ax.legend()\n",
    "ax.set_ylim(0, 1.1)\n",
    "ax.set_xticks([-1, -0.5, 0, 0.5, 1])\n",
    "ax.set_ylabel(r\"$y$\", fontsize=18)\n",
    "ax.set_xlabel(r\"$x$\", fontsize=18)\n",
    "\n",
    "fig.tight_layout()"
   ]
  },
  {
   "cell_type": "markdown",
   "metadata": {},
   "source": [
    "# Spline Interpolation on new dataset"
   ]
  },
  {
   "cell_type": "code",
   "execution_count": 71,
   "metadata": {},
   "outputs": [],
   "source": [
    "x = np.array([0, 1, 2, 3, 4, 5, 6, 7])"
   ]
  },
  {
   "cell_type": "code",
   "execution_count": 72,
   "metadata": {},
   "outputs": [],
   "source": [
    "y = np.array([3, 4, 3.5, 2, 1, 1.5, 1.25, 0.9])"
   ]
  },
  {
   "cell_type": "code",
   "execution_count": 73,
   "metadata": {},
   "outputs": [],
   "source": [
    "xx = np.linspace(x.min(), x.max(), 100)"
   ]
  },
  {
   "cell_type": "code",
   "execution_count": 74,
   "metadata": {},
   "outputs": [
    {
     "data": {
      "image/png": "[encoded data removed]",
      "text/plain": [
       "<Figure size 576x288 with 1 Axes>"
      ]
     },
     "metadata": {
      "needs_background": "light"
     },
     "output_type": "display_data"
    }
   ],
   "source": [
    "fig, ax = plt.subplots(figsize=(8, 4))\n",
    "\n",
    "ax.scatter(x, y)\n",
    "\n",
    "for n in [1, 2, 3, 5, 7]:\n",
    "    f = interpolate.interp1d(x, y, kind=n)\n",
    "    ax.plot(xx, f(xx), label='order %d' % n)\n",
    "\n",
    "ax.legend()\n",
    "ax.set_ylabel(r\"$y$\", fontsize=18)\n",
    "ax.set_xlabel(r\"$x$\", fontsize=18)\n",
    "\n",
    "fig.tight_layout()"
   ]
  }
 ],
 "metadata": {
  "kernelspec": {
   "display_name": "Python 3",
   "language": "python",
   "name": "python3"
  },
  "language_info": {
   "codemirror_mode": {
    "name": "ipython",
    "version": 3
   },
   "file_extension": ".py",
   "mimetype": "text/x-python",
   "name": "python",
   "nbconvert_exporter": "python",
   "pygments_lexer": "ipython3",
   "version": "3.6.4"
  }
 },
 "nbformat": 4,
 "nbformat_minor": 1
}
