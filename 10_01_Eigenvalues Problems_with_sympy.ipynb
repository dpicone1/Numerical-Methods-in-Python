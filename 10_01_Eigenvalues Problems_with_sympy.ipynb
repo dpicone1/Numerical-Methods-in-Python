{
 "cells": [
  {
   "cell_type": "markdown",
   "metadata": {},
   "source": [
    "# Eigenvalues and Eigenvectors"
   ]
  },
  {
   "cell_type": "markdown",
   "metadata": {},
   "source": [
    "Linear Algebra - Linear Equation Systems \n",
    "\n",
    "a) Symbolic and numeric\n",
    "\n",
    "b) Rectangular systems \n",
    "\n",
    "c) Underdetermined (fat matrices)\n",
    "\n",
    "d) Overdetermined  (long skinny matrices for least squares)\n",
    "\n",
    "Eigenvalue problems\n",
    "\n",
    "Optimization - NonLinear Equations\n",
    "\n",
    "a) Univariate (Bisection, Newton, Optimization Methods)\n",
    "\n",
    "b) Multivariate (Jacobian and Hessian matrices)"
   ]
  },
  {
   "cell_type": "code",
   "execution_count": 1,
   "metadata": {},
   "outputs": [],
   "source": [
    "from scipy import linalg as la\n",
    "from scipy import optimize as op\n",
    "import sympy\n",
    "sympy.init_printing()\n",
    "import numpy as np"
   ]
  },
  {
   "cell_type": "code",
   "execution_count": 2,
   "metadata": {},
   "outputs": [],
   "source": [
    "import matplotlib.pyplot as plt\n",
    "%matplotlib inline\n",
    "\n",
    "import matplotlib as mpl\n",
    "mpl.rcParams[\"font.family\"] = \"serif\"\n",
    "mpl.rcParams[\"font.size\"] = \"12\""
   ]
  },
  {
   "cell_type": "code",
   "execution_count": 3,
   "metadata": {},
   "outputs": [],
   "source": [
    "from __future__ import division"
   ]
  },
  {
   "cell_type": "code",
   "execution_count": 4,
   "metadata": {},
   "outputs": [],
   "source": [
    "eps, delta = sympy.symbols(\"epsilon, delta\")"
   ]
  },
  {
   "cell_type": "code",
   "execution_count": 5,
   "metadata": {},
   "outputs": [],
   "source": [
    "H = sympy.Matrix([[eps, delta], [delta, -eps]])"
   ]
  },
  {
   "cell_type": "code",
   "execution_count": 6,
   "metadata": {},
   "outputs": [],
   "source": [
    "eval1, eval2 = H.eigenvals()"
   ]
  },
  {
   "cell_type": "code",
   "execution_count": 7,
   "metadata": {},
   "outputs": [
    {
     "data": {
      "image/png": "[encoded data removed]",
      "text/latex": [
       "$$\\left ( - \\sqrt{\\delta^{2} + \\epsilon^{2}}, \\quad \\sqrt{\\delta^{2} + \\epsilon^{2}}\\right )$$"
      ],
      "text/plain": [
       "⎛    _________     _________⎞\n",
       "⎜   ╱  2    2     ╱  2    2 ⎟\n",
       "⎝-╲╱  δ  + ε  , ╲╱  δ  + ε  ⎠"
      ]
     },
     "execution_count": 7,
     "metadata": {},
     "output_type": "execute_result"
    }
   ],
   "source": [
    "eval1, eval2"
   ]
  },
  {
   "cell_type": "code",
   "execution_count": 8,
   "metadata": {},
   "outputs": [
    {
     "data": {
      "text/latex": [
       "$$\\left [ \\left ( - \\sqrt{\\delta^{2} + \\epsilon^{2}}, \\quad 1, \\quad \\left [ \\left[\\begin{matrix}- \\frac{\\delta}{\\epsilon + \\sqrt{\\delta^{2} + \\epsilon^{2}}}\\\\1\\end{matrix}\\right]\\right ]\\right ), \\quad \\left ( \\sqrt{\\delta^{2} + \\epsilon^{2}}, \\quad 1, \\quad \\left [ \\left[\\begin{matrix}- \\frac{\\delta}{\\epsilon - \\sqrt{\\delta^{2} + \\epsilon^{2}}}\\\\1\\end{matrix}\\right]\\right ]\\right )\\right ]$$"
      ],
      "text/plain": [
       "⎡⎛                  ⎡⎡      -δ        ⎤⎤⎞  ⎛                 ⎡⎡      -δ       \n",
       "⎢⎜    _________     ⎢⎢────────────────⎥⎥⎟  ⎜   _________     ⎢⎢───────────────\n",
       "⎢⎜   ╱  2    2      ⎢⎢       _________⎥⎥⎟  ⎜  ╱  2    2      ⎢⎢       ________\n",
       "⎢⎜-╲╱  δ  + ε  , 1, ⎢⎢      ╱  2    2 ⎥⎥⎟, ⎜╲╱  δ  + ε  , 1, ⎢⎢      ╱  2    2\n",
       "⎢⎜                  ⎢⎢ε + ╲╱  δ  + ε  ⎥⎥⎟  ⎜                 ⎢⎢ε - ╲╱  δ  + ε \n",
       "⎢⎜                  ⎢⎢                ⎥⎥⎟  ⎜                 ⎢⎢               \n",
       "⎣⎝                  ⎣⎣       1        ⎦⎦⎠  ⎝                 ⎣⎣       1       \n",
       "\n",
       " ⎤⎤⎞⎤\n",
       "─⎥⎥⎟⎥\n",
       "_⎥⎥⎟⎥\n",
       " ⎥⎥⎟⎥\n",
       " ⎥⎥⎟⎥\n",
       " ⎥⎥⎟⎥\n",
       " ⎦⎦⎠⎦"
      ]
     },
     "execution_count": 8,
     "metadata": {},
     "output_type": "execute_result"
    }
   ],
   "source": [
    "H.eigenvects()"
   ]
  },
  {
   "cell_type": "code",
   "execution_count": 9,
   "metadata": {},
   "outputs": [],
   "source": [
    "(eval1, _, evec1), (eval2, _, evec2) = H.eigenvects()"
   ]
  },
  {
   "cell_type": "code",
   "execution_count": 10,
   "metadata": {},
   "outputs": [
    {
     "data": {
      "text/latex": [
       "$$\\left[\\begin{matrix}0\\end{matrix}\\right]$$"
      ],
      "text/plain": [
       "[0]"
      ]
     },
     "execution_count": 10,
     "metadata": {},
     "output_type": "execute_result"
    }
   ],
   "source": [
    "sympy.simplify(evec1[0].T * evec2[0])"
   ]
  },
  {
   "cell_type": "code",
   "execution_count": 11,
   "metadata": {},
   "outputs": [
    {
     "data": {
      "text/latex": [
       "$$\\left[\\begin{matrix}- \\frac{\\delta}{\\epsilon + \\sqrt{\\delta^{2} + \\epsilon^{2}}}\\\\1\\end{matrix}\\right]$$"
      ],
      "text/plain": [
       "⎡      -δ        ⎤\n",
       "⎢────────────────⎥\n",
       "⎢       _________⎥\n",
       "⎢      ╱  2    2 ⎥\n",
       "⎢ε + ╲╱  δ  + ε  ⎥\n",
       "⎢                ⎥\n",
       "⎣       1        ⎦"
      ]
     },
     "execution_count": 11,
     "metadata": {},
     "output_type": "execute_result"
    }
   ],
   "source": [
    "evec1[0]"
   ]
  },
  {
   "cell_type": "code",
   "execution_count": 12,
   "metadata": {},
   "outputs": [
    {
     "data": {
      "text/latex": [
       "$$\\left [ \\left[\\begin{matrix}- \\frac{\\delta}{\\epsilon + \\sqrt{\\delta^{2} + \\epsilon^{2}}}\\\\1\\end{matrix}\\right]\\right ]$$"
      ],
      "text/plain": [
       "⎡⎡      -δ        ⎤⎤\n",
       "⎢⎢────────────────⎥⎥\n",
       "⎢⎢       _________⎥⎥\n",
       "⎢⎢      ╱  2    2 ⎥⎥\n",
       "⎢⎢ε + ╲╱  δ  + ε  ⎥⎥\n",
       "⎢⎢                ⎥⎥\n",
       "⎣⎣       1        ⎦⎦"
      ]
     },
     "execution_count": 12,
     "metadata": {},
     "output_type": "execute_result"
    }
   ],
   "source": [
    "evec1"
   ]
  },
  {
   "cell_type": "code",
   "execution_count": 13,
   "metadata": {},
   "outputs": [
    {
     "data": {
      "text/latex": [
       "$$\\left [ \\left[\\begin{matrix}- \\frac{\\delta}{\\epsilon - \\sqrt{\\delta^{2} + \\epsilon^{2}}}\\\\1\\end{matrix}\\right]\\right ]$$"
      ],
      "text/plain": [
       "⎡⎡      -δ        ⎤⎤\n",
       "⎢⎢────────────────⎥⎥\n",
       "⎢⎢       _________⎥⎥\n",
       "⎢⎢      ╱  2    2 ⎥⎥\n",
       "⎢⎢ε - ╲╱  δ  + ε  ⎥⎥\n",
       "⎢⎢                ⎥⎥\n",
       "⎣⎣       1        ⎦⎦"
      ]
     },
     "execution_count": 13,
     "metadata": {},
     "output_type": "execute_result"
    }
   ],
   "source": [
    "evec2"
   ]
  },
  {
   "cell_type": "code",
   "execution_count": 14,
   "metadata": {},
   "outputs": [
    {
     "data": {
      "image/png": "[encoded data removed]",
      "text/latex": [
       "$$- \\sqrt{\\delta^{2} + \\epsilon^{2}}$$"
      ],
      "text/plain": [
       "    _________\n",
       "   ╱  2    2 \n",
       "-╲╱  δ  + ε  "
      ]
     },
     "execution_count": 14,
     "metadata": {},
     "output_type": "execute_result"
    }
   ],
   "source": [
    "eval1"
   ]
  },
  {
   "cell_type": "code",
   "execution_count": 15,
   "metadata": {},
   "outputs": [
    {
     "data": {
      "image/png": "[encoded data removed]",
      "text/latex": [
       "$$\\sqrt{\\delta^{2} + \\epsilon^{2}}$$"
      ],
      "text/plain": [
       "   _________\n",
       "  ╱  2    2 \n",
       "╲╱  δ  + ε  "
      ]
     },
     "execution_count": 15,
     "metadata": {},
     "output_type": "execute_result"
    }
   ],
   "source": [
    "eval2"
   ]
  }
 ],
 "metadata": {
  "anaconda-cloud": {},
  "kernelspec": {
   "display_name": "Python 3",
   "language": "python",
   "name": "python3"
  },
  "language_info": {
   "codemirror_mode": {
    "name": "ipython",
    "version": 3
   },
   "file_extension": ".py",
   "mimetype": "text/x-python",
   "name": "python",
   "nbconvert_exporter": "python",
   "pygments_lexer": "ipython3",
   "version": "3.6.4"
  }
 },
 "nbformat": 4,
 "nbformat_minor": 1
}
