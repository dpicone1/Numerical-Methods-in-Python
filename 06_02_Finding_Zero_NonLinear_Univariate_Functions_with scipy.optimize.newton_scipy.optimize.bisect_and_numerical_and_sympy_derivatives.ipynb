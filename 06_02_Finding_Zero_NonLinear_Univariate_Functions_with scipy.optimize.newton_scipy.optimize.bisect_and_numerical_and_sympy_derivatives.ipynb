{
 "cells": [
  {
   "cell_type": "markdown",
   "metadata": {},
   "source": [
    "# Finding Zeros with Newton algo, with analytic, central differences and sympy.symbols derivatives"
   ]
  },
  {
   "cell_type": "code",
   "execution_count": 2,
   "metadata": {
    "collapsed": true
   },
   "outputs": [],
   "source": [
    "import numpy as np\n",
    "import scipy\n",
    "import scipy.optimize\n",
    "import matplotlib.pyplot as plt\n",
    "%matplotlib inline"
   ]
  },
  {
   "cell_type": "code",
   "execution_count": 3,
   "metadata": {},
   "outputs": [],
   "source": [
    "# f(x) ---------------------------------------\n",
    "def f(x):   \n",
    "    y = x + 2*scipy.cos(x)\n",
    "    return y"
   ]
  },
  {
   "cell_type": "code",
   "execution_count": 4,
   "metadata": {},
   "outputs": [
    {
     "name": "stdout",
     "output_type": "stream",
     "text": [
      "-1.02986652932\n",
      "-1.0298665293222757\n"
     ]
    },
    {
     "data": {
      "image/png": "[encoded data removed]",
      "text/plain": [
       "<matplotlib.figure.Figure at 0x103f8320>"
      ]
     },
     "metadata": {},
     "output_type": "display_data"
    }
   ],
   "source": [
    "# starting interval [-2, 2]\n",
    "print (scipy.optimize.bisect(f, -2, 2) )\n",
    "\n",
    "#Newton Raphson method with starting point at x0 = 2. \n",
    "print (scipy.optimize.newton(f,  2)  ) \n",
    "\n",
    "xvals = np.linspace(-10, 10,1000)\n",
    "yvals = [f(x) for x in xvals]\n",
    "plt.plot(xvals,yvals)\n",
    "plt.show()"
   ]
  },
  {
   "cell_type": "code",
   "execution_count": 5,
   "metadata": {
    "collapsed": true
   },
   "outputs": [],
   "source": [
    "def f2(x):   \n",
    "    y = x*scipy.cos(x**3 -5)\n",
    "    return y\n",
    "\n",
    "# Numerical derivative - central difference approximation\n",
    "def df2(x):   \n",
    "    deltax = 0.001\n",
    "    return (f2(x+deltax) - f2(x-deltax))/(2.0*deltax)\n",
    "\n",
    "# scipy derivative   \n",
    "from scipy.misc import derivative\n",
    "def ddf2(x):   \n",
    "    return derivative(f2, x, dx=1e-6)\n",
    "\n",
    "# Analytic derivative\n",
    "# To calculate it use Symbol from sympy\n",
    "# from sympy import *\n",
    "# xx = Symbol('xx')\n",
    "# print diff(xx*cos(xx**3 -5), xx, 1)\n",
    "# this is the output of print\n",
    "def dddf2(x):   \n",
    "    y = -3*x**3*scipy.sin(x**3 - 5) + scipy.cos(x**3 - 5)\n",
    "    return y"
   ]
  },
  {
   "cell_type": "code",
   "execution_count": 7,
   "metadata": {},
   "outputs": [
    {
     "name": "stdout",
     "output_type": "stream",
     "text": [
      " the f2(x)derivatives: 1 - analytic, 2 - central differences and 3 - sympy.symbols derivatives \n",
      "-4.376578700170941\n",
      "-4.376872690170508\n",
      "-4.376872690037258\n",
      " ----------------------------------- \n"
     ]
    },
    {
     "data": {
      "image/png": "[encoded data removed]",
      "text/plain": [
       "<matplotlib.figure.Figure at 0x10589cc0>"
      ]
     },
     "metadata": {},
     "output_type": "display_data"
    }
   ],
   "source": [
    "print \" the f2(x)derivatives: 1 - analytic, 2 - central differences and 3 - sympy.symbols derivatives \"\n",
    "print( df2(2))\n",
    "print (ddf2(2))\n",
    "print (dddf2(2))\n",
    "\n",
    "xvals = np.linspace(0, 2,1000)\n",
    "yvals = [f2(x) for x in xvals]\n",
    "plt.plot(xvals,yvals)\n",
    "plt.show()"
   ]
  },
  {
   "cell_type": "code",
   "execution_count": 12,
   "metadata": {},
   "outputs": [
    {
     "name": "stdout",
     "output_type": "stream",
     "text": [
      "0.660088004499495\n",
      "4.650197214194901e-16\n",
      "-0.8628354534827144\n",
      "-0.8628330587993871\n",
      "-0.8628330588459283\n",
      "0.6600880045\n",
      "0.660088004499495\n",
      "0.6600880044994953\n"
     ]
    }
   ],
   "source": [
    "# Newton Raphson method with starting point at x0 = 0.5 \n",
    "val = scipy.optimize.newton(f2,  0.5)\n",
    "# Remember, this is - finding a zero! \n",
    "# At the zero, that is the point x where f(x) = 0, the df(x)/x must NOT necessarely = 0! \n",
    "print (val)\n",
    "print (f2(val))\n",
    "print (df2(val))\n",
    "print (ddf2(val))\n",
    "print (dddf2(val))\n",
    "\n",
    "print (scipy.optimize.bisect(f2, 0.5, 1) )\n",
    "print (scipy.optimize.newton(f2, 0.5))\n",
    "print (scipy.optimize.newton(f2, 0.5, fprime=df2))"
   ]
  },
  {
   "cell_type": "code",
   "execution_count": 13,
   "metadata": {},
   "outputs": [
    {
     "name": "stdout",
     "output_type": "stream",
     "text": [
      "10000 loops, best of 3: 29.1 µs per loop\n",
      "10000 loops, best of 3: 48.8 µs per loop\n",
      "10000 loops, best of 3: 53 µs per loop\n",
      "10000 loops, best of 3: 140 µs per loop\n",
      "10000 loops, best of 3: 50.1 µs per loop\n"
     ]
    }
   ],
   "source": [
    "from scipy import optimize\n",
    "# ---------------------------------------------\n",
    "# this is the fastest. So maybe we do NOT need to calculate and pass the derivative\n",
    "%timeit optimize.newton(f2,  0.5) \n",
    "# ---------------------------------------------\n",
    "%timeit optimize.bisect(f2, 0.5, 1) \n",
    "%timeit optimize.newton(f2, 0.5, fprime=df2)\n",
    "%timeit optimize.newton(f2, 0.5, fprime=ddf2)\n",
    "%timeit optimize.newton(f2, 0.5, fprime=dddf2)"
   ]
  }
 ],
 "metadata": {
  "anaconda-cloud": {},
  "kernelspec": {
   "display_name": "Python 3",
   "language": "python",
   "name": "python3"
  },
  "language_info": {
   "codemirror_mode": {
    "name": "ipython",
    "version": 3
   },
   "file_extension": ".py",
   "mimetype": "text/x-python",
   "name": "python",
   "nbconvert_exporter": "python",
   "pygments_lexer": "ipython3",
   "version": "3.6.4"
  }
 },
 "nbformat": 4,
 "nbformat_minor": 1
}
