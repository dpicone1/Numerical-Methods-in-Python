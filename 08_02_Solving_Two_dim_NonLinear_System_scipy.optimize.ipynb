{
 "cells": [
  {
   "cell_type": "markdown",
   "metadata": {},
   "source": [
    "# Solving two dim non-linear system with root from scipy.optimize"
   ]
  },
  {
   "cell_type": "code",
   "execution_count": 3,
   "metadata": {},
   "outputs": [],
   "source": [
    "import numpy as np\n",
    "from scipy.optimize import root"
   ]
  },
  {
   "cell_type": "code",
   "execution_count": 4,
   "metadata": {},
   "outputs": [],
   "source": [
    "import matplotlib.pyplot as plt"
   ]
  },
  {
   "cell_type": "markdown",
   "metadata": {},
   "source": [
    "### Root finding for solving two dimensional non-linear system, with Levenberg-Marquardt solver¶"
   ]
  },
  {
   "cell_type": "code",
   "execution_count": 6,
   "metadata": {},
   "outputs": [
    {
     "name": "stdout",
     "output_type": "stream",
     "text": [
      "   cov_x: array([[ 0.87470958, -0.02852752],\n",
      "       [-0.02852752,  0.01859874]])\n",
      "    fjac: array([[ 7.52318843, -0.73161761],\n",
      "       [ 0.24535902, -1.06922242]])\n",
      "     fun: array([0., 0.])\n",
      "    ipvt: array([2, 1], dtype=int32)\n",
      " message: 'The relative error between two consecutive iterates is at most 0.000000'\n",
      "    nfev: 8\n",
      "    njev: 7\n",
      "     qtf: array([9.53474074e-13, 1.20388645e-13])\n",
      "  status: 2\n",
      " success: True\n",
      "       x: array([6.50409711, 0.90841421])\n"
     ]
    }
   ],
   "source": [
    "# ********************************************\n",
    "# Consider now a set of non-linear equations\n",
    "# ********************************************\n",
    "\n",
    "# x*cos(y) = 4\n",
    "# x*y - y  = 5\n",
    "\n",
    "# We define the objective function so that \n",
    "# the Jacobian is retunrned.\n",
    "# To do so we set the jac parameter to TRUE.\n",
    "# The Levenberg-Marquardt solver is set with method='lm' \n",
    "def func2(x):\n",
    "    f  = [x[0] * np.cos(x[1]) - 4, x[1]*x[0] - x[1] - 5]\n",
    "    df = np.array(\n",
    "        [[np.cos(x[1]), -x[0] * np.sin(x[1])],\n",
    "        [x[1], x[0] - 1]]\n",
    "                 )\n",
    "    return f, df\n",
    "\n",
    "sol = root(func2, [1, 1], jac=True, method='lm')\n",
    "print (sol)"
   ]
  },
  {
   "cell_type": "code",
   "execution_count": 7,
   "metadata": {},
   "outputs": [
    {
     "name": "stdout",
     "output_type": "stream",
     "text": [
      "[6.50409711 0.90841421]\n"
     ]
    }
   ],
   "source": [
    "print (sol.x)"
   ]
  },
  {
   "cell_type": "code",
   "execution_count": 9,
   "metadata": {},
   "outputs": [
    {
     "name": "stdout",
     "output_type": "stream",
     "text": [
      "([0.0, 0.0], array([[ 0.61499697, -5.12867226],\n",
      "       [ 0.90841421,  5.50409711]]))\n"
     ]
    }
   ],
   "source": [
    "# Now we print both function and the Jacobian\n",
    "print (func2(sol.x)) "
   ]
  },
  {
   "cell_type": "code",
   "execution_count": 10,
   "metadata": {},
   "outputs": [
    {
     "name": "stdout",
     "output_type": "stream",
     "text": [
      "   cov_x: array([[ 0.87470958, -0.02852752],\n",
      "       [-0.02852752,  0.01859874]])\n",
      "    fjac: array([[ 7.52318843, -0.73161761],\n",
      "       [ 0.24535902, -1.06922242]])\n",
      "     fun: array([0., 0.])\n",
      "    ipvt: array([2, 1], dtype=int32)\n",
      " message: 'The relative error between two consecutive iterates is at most 0.000000'\n",
      "    nfev: 8\n",
      "    njev: 7\n",
      "     qtf: array([9.53474074e-13, 1.20388645e-13])\n",
      "  status: 2\n",
      " success: True\n",
      "       x: array([6.50409711, 0.90841421])\n"
     ]
    }
   ],
   "source": [
    " # the function\n",
    "def funz(x):\n",
    "    f = [x[0] * np.cos(x[1]) - 4, x[1]*x[0] - x[1] - 5]\n",
    "    return f\n",
    "# the gradient\n",
    "def Gradfunz(x):\n",
    "    df = np.array([[np.cos(x[1]), -x[0] * np.sin(x[1])],[x[1], x[0] - 1]])\n",
    "    return df\n",
    "# it returns both the function and the gradient\n",
    "def func3(x):\n",
    "    return funz(x), Gradfunz(x)\n",
    "\n",
    "sol3 = root(func3, [1, 1], jac=True, method='lm')\n",
    "print (sol3) # the output"
   ]
  },
  {
   "cell_type": "code",
   "execution_count": 11,
   "metadata": {},
   "outputs": [
    {
     "name": "stdout",
     "output_type": "stream",
     "text": [
      "[6.50409711 0.90841421]\n",
      "[0.0, 0.0]\n",
      "[[ 0.61499697 -5.12867226]\n",
      " [ 0.90841421  5.50409711]]\n",
      " -------------------------------------------- \n",
      "[[ 7.52318843 -0.73161761]\n",
      " [ 0.24535902 -1.06922242]]\n"
     ]
    }
   ],
   "source": [
    "print (sol3.x)\n",
    "print (funz(sol3.x))\n",
    "print (Gradfunz(sol3.x))\n",
    "print (\" -------------------------------------------- \")\n",
    "print (sol3.fjac)"
   ]
  },
  {
   "cell_type": "code",
   "execution_count": 13,
   "metadata": {},
   "outputs": [
    {
     "name": "stdout",
     "output_type": "stream",
     "text": [
      "  status: 1\n",
      " success: True\n",
      "     qtf: array([  6.25677398e-08,   2.40104775e-08])\n",
      "    nfev: 17\n",
      "       r: array([-1.0907073 , -1.7621827 , -7.37420598])\n",
      "     fun: array([  3.73212572e-12,   1.61701763e-11])\n",
      "       x: array([ 6.50409711,  0.90841421])\n",
      " message: 'The solution converged.'\n",
      "    fjac: array([[-0.56248005, -0.82681085],\n",
      "       [ 0.82681085, -0.56248005]])\n"
     ]
    }
   ],
   "source": [
    "def funz(x):\n",
    "    f = [x[0] * np.cos(x[1]) - 4, x[1]*x[0] - x[1] - 5]\n",
    "    return f\n",
    "\n",
    "\n",
    "sol3 = root(funz, [1, 1])\n",
    "print (sol3)"
   ]
  },
  {
   "cell_type": "code",
   "execution_count": 12,
   "metadata": {},
   "outputs": [
    {
     "name": "stdout",
     "output_type": "stream",
     "text": [
      "[6.50409711 0.90841421]\n",
      "[0.0, 0.0]\n",
      "[[ 0.61499697 -5.12867226]\n",
      " [ 0.90841421  5.50409711]]\n"
     ]
    }
   ],
   "source": [
    "print (sol3.x)\n",
    "print (funz(sol3.x))\n",
    "print (Gradfunz(sol3.x))"
   ]
  }
 ],
 "metadata": {
  "kernelspec": {
   "display_name": "Python 3",
   "language": "python",
   "name": "python3"
  },
  "language_info": {
   "codemirror_mode": {
    "name": "ipython",
    "version": 3
   },
   "file_extension": ".py",
   "mimetype": "text/x-python",
   "name": "python",
   "nbconvert_exporter": "python",
   "pygments_lexer": "ipython3",
   "version": "3.6.4"
  }
 },
 "nbformat": 4,
 "nbformat_minor": 1
}
