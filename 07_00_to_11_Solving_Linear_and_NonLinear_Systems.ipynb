{
 "cells": [
  {
   "cell_type": "markdown",
   "metadata": {},
   "source": [
    "# Solving linear and non linear equations"
   ]
  },
  {
   "cell_type": "markdown",
   "metadata": {},
   "source": [
    "# Linear Algebra - Linear Equation Systems"
   ]
  },
  {
   "cell_type": "markdown",
   "metadata": {},
   "source": [
    "$$\n",
    "y = 4/3 -2/3 x  \n",
    "$$\n",
    "\n",
    "$$\n",
    "y = 3/4 - 5/4 x  \n",
    "$$"
   ]
  },
  {
   "cell_type": "markdown",
   "metadata": {},
   "source": [
    "a 2 by 2 system, which might be invertible (as we can calculate the inverse), can have some stability problems. Now we analyse stability problems "
   ]
  },
  {
   "cell_type": "markdown",
   "metadata": {},
   "source": [
    "# Optimization - Non Linear Equation Systems"
   ]
  },
  {
   "cell_type": "markdown",
   "metadata": {},
   "source": [
    "$$\n",
    "y = x^3 + 2 x^2  - 1\n",
    "$$\n",
    "\n",
    "$$\n",
    "y = -x^2 + 1\n",
    "$$"
   ]
  },
  {
   "cell_type": "markdown",
   "metadata": {},
   "source": [
    "## Nonlinear equations\n",
    "Univariate case: the best way is with scipy.optimize"
   ]
  },
  {
   "cell_type": "markdown",
   "metadata": {},
   "source": [
    "Multivariate case: the best way is with scipy.fsolve"
   ]
  },
  {
   "cell_type": "raw",
   "metadata": {},
   "source": [
    "Finding the zeros of a univariate function or of a system can be solved with one of the following methods, depending whether the funcIn general when trying to s\n",
    "Linear Algebra - Linear Equation Systems \n",
    "\n",
    "a) Symbolic and numeric\n",
    "\n",
    "b) Rectangular systems \n",
    "\n",
    "c) Underdetermined (fat matrices)\n",
    "\n",
    "d) Overdetermined  (long skinny matrices for least squares)\n",
    "\n",
    "Eigenvalue problems\n",
    "\n",
    "Optimization - NonLinear Equations\n",
    "\n",
    "a) Univariate (Bisection, Newton, Optimization Methods)\n",
    "\n",
    "b) Multivariate (Jacobian and Hessian matrices)"
   ]
  }
 ],
 "metadata": {
  "anaconda-cloud": {},
  "kernelspec": {
   "display_name": "Python 3",
   "language": "python",
   "name": "python3"
  },
  "language_info": {
   "codemirror_mode": {
    "name": "ipython",
    "version": 3
   },
   "file_extension": ".py",
   "mimetype": "text/x-python",
   "name": "python",
   "nbconvert_exporter": "python",
   "pygments_lexer": "ipython3",
   "version": "3.6.4"
  }
 },
 "nbformat": 4,
 "nbformat_minor": 1
}
