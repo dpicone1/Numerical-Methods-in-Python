{
 "cells": [
  {
   "cell_type": "markdown",
   "metadata": {},
   "source": [
    "# Zeros finding for one variable function with a decorator"
   ]
  },
  {
   "cell_type": "markdown",
   "metadata": {},
   "source": [
    "### Root finding for one variable function"
   ]
  },
  {
   "cell_type": "code",
   "execution_count": 2,
   "metadata": {},
   "outputs": [],
   "source": [
    "import numpy as np\n",
    "from scipy.optimize import root"
   ]
  },
  {
   "cell_type": "markdown",
   "metadata": {},
   "source": [
    "The function of which we want to  find the zero"
   ]
  },
  {
   "cell_type": "code",
   "execution_count": 3,
   "metadata": {},
   "outputs": [],
   "source": [
    "def func(x):\n",
    "    return x + 2 * np.cos(x)"
   ]
  },
  {
   "cell_type": "markdown",
   "metadata": {},
   "source": [
    "In the root object in scipy.optimize I can pass:\n",
    "\n",
    "a) either directly the function \n",
    "\n",
    "b) or use a decorator, where I pass the value to \"match\" and then the function returns the function \"func\""
   ]
  },
  {
   "cell_type": "code",
   "execution_count": 4,
   "metadata": {},
   "outputs": [
    {
     "name": "stdout",
     "output_type": "stream",
     "text": [
      "[-1.02986653]\n"
     ]
    }
   ],
   "source": [
    "# a)\n",
    "sol = root(func, 0.3)\n",
    "print (sol.x)"
   ]
  },
  {
   "cell_type": "code",
   "execution_count": 12,
   "metadata": {},
   "outputs": [
    {
     "name": "stdout",
     "output_type": "stream",
     "text": [
      "[-1.02986653]\n"
     ]
    }
   ],
   "source": [
    "#b)\n",
    "def wrapper(price):\n",
    "    def f(s):\n",
    "        return s + 2 * np.cos(s) - price\n",
    "    return f\n",
    "\n",
    "# and the result is the same as per a)\n",
    "f1 = wrapper(0)\n",
    "sol = root(f1, 0.3)\n",
    "print (sol.x)"
   ]
  },
  {
   "cell_type": "code",
   "execution_count": 9,
   "metadata": {},
   "outputs": [
    {
     "name": "stdout",
     "output_type": "stream",
     "text": [
      "[-0.6235829]\n"
     ]
    }
   ],
   "source": [
    "# However, if I wanted to find the root at a value, say = 1, I find the decorator easier to use\n",
    "f1 = wrapper(1)\n",
    "sol = root(f1, 0.3)\n",
    "print (sol.x)"
   ]
  },
  {
   "cell_type": "markdown",
   "metadata": {},
   "source": [
    "The decorator is flexible enough to pass different values"
   ]
  },
  {
   "cell_type": "code",
   "execution_count": 10,
   "metadata": {},
   "outputs": [
    {
     "name": "stdout",
     "output_type": "stream",
     "text": [
      "[-1.02986653]\n",
      "[-1.02986653]\n"
     ]
    }
   ],
   "source": [
    "def wrapper(price, b):\n",
    "    def f(s):\n",
    "        return s + 2 * np.cos(s) - price + np.exp(-b)\n",
    "    return f\n",
    "\n",
    "f = wrapper(1, 0)\n",
    "sol = root(f, 0.3)\n",
    "print (sol.x)\n",
    "\n",
    "sol = root(func, 0.3)\n",
    "print (sol.x)"
   ]
  },
  {
   "cell_type": "markdown",
   "metadata": {},
   "source": [
    "I can also select a different function to return in the decorator"
   ]
  },
  {
   "cell_type": "code",
   "execution_count": 13,
   "metadata": {},
   "outputs": [
    {
     "name": "stdout",
     "output_type": "stream",
     "text": [
      "[-1.02986653]\n",
      "[-6.66133815e-16]\n",
      "[-1.17012095]\n",
      "[-6.43929354e-15]\n"
     ]
    }
   ],
   "source": [
    "def wrapper(price,selection):\n",
    "    def f_1(x):\n",
    "        return x + 2 * np.cos(x) - price\n",
    "    def f_2(x):\n",
    "        return x + 3 * np.cos(x) - price\n",
    "    if selection ==1:\n",
    "        return f_1 \n",
    "    else:\n",
    "        return f_2\n",
    "\n",
    "f = wrapper(0, 1)\n",
    "sol = root(f, 0.3)\n",
    "print (sol.x)\n",
    "print (sol.fun)\n",
    "\n",
    "f = wrapper(0, 2)\n",
    "sol = root(f, 0.3)\n",
    "print (sol.x)\n",
    "print (sol.fun)"
   ]
  }
 ],
 "metadata": {
  "kernelspec": {
   "display_name": "Python 3",
   "language": "python",
   "name": "python3"
  },
  "language_info": {
   "codemirror_mode": {
    "name": "ipython",
    "version": 3
   },
   "file_extension": ".py",
   "mimetype": "text/x-python",
   "name": "python",
   "nbconvert_exporter": "python",
   "pygments_lexer": "ipython3",
   "version": "3.6.4"
  }
 },
 "nbformat": 4,
 "nbformat_minor": 1
}
