{
 "cells": [
  {
   "cell_type": "markdown",
   "metadata": {},
   "source": [
    "# Single Value Decomposition SVD"
   ]
  },
  {
   "cell_type": "raw",
   "metadata": {},
   "source": [
    "In this notebook, we are just running some code to get familiar with SVD "
   ]
  },
  {
   "cell_type": "raw",
   "metadata": {},
   "source": [
    "I guess you know, in Python you can calculate the inverse of a matrix, by\n",
    "1 - call the standard linalg.pinv(A) \n",
    "or with\n",
    "2 - SVD the matrix "
   ]
  },
  {
   "cell_type": "code",
   "execution_count": 1,
   "metadata": {},
   "outputs": [
    {
     "name": "stdout",
     "output_type": "stream",
     "text": [
      "Inverse computed by lingal.pinv()\n",
      " [[ 0.01777656  0.08778887  0.02434022 -0.00341857]\n",
      " [-0.03972378  0.04997949 -0.0313141   0.02686996]\n",
      " [-0.01668262 -0.09777109  0.06946534  0.08013127]\n",
      " [-0.06632025 -0.0198277   0.06303842 -0.02570764]]\n",
      "Inverse computed using SVD\n",
      " [[ 0.01777656  0.08778887  0.02434022 -0.00341857]\n",
      " [-0.03972378  0.04997949 -0.0313141   0.02686996]\n",
      " [-0.01668262 -0.09777109  0.06946534  0.08013127]\n",
      " [-0.06632025 -0.0198277   0.06303842 -0.02570764]]\n",
      "They are just fine\n",
      "But remember the correct order, otherwise you will be mistaken, like shown below \n",
      "Inverse computed using WRONG SVD\n",
      " [[ 0.02771983  0.04676482  0.03006423  0.03407497]\n",
      " [-0.00446829 -0.05312341 -0.01850258  0.07344101]\n",
      " [-0.00508804 -0.12298525  0.07802458  0.03169207]\n",
      " [-0.07587113 -0.00476899  0.05512039  0.01601603]]\n"
     ]
    }
   ],
   "source": [
    "from numpy import *\n",
    "\n",
    "# generating a random system Ax=b\n",
    "A = floor(random.rand(4,4)*20-10) # generating A\n",
    "b = floor(random.rand(4,1)*20-10) # generating b\n",
    "\n",
    "U,s,V = linalg.svd(A) # SVD decomposition of A\n",
    "\n",
    "# computing the inverse using pinv\n",
    "pinv     = linalg.pinv(A)\n",
    "# computing the inverse using the SVD decomposition\n",
    "pinv_svd = dot(dot(V.T,linalg.inv(diag(s))),U.T)\n",
    "\n",
    "# this is wrong!! Remember the right formula when u want to inverse a matrix \n",
    "pinv_svd2 = dot(dot(V,linalg.inv(diag(s))),U.T)\n",
    "\n",
    "print (\"Inverse computed by lingal.pinv()\\n\",pinv)\n",
    "print (\"Inverse computed using SVD\\n\",pinv_svd)\n",
    "print (\"They are just fine\")\n",
    "\n",
    "print (\"But remember the correct order, otherwise you will be mistaken, like shown below \")\n",
    "print (\"Inverse computed using WRONG SVD\\n\",pinv_svd2)"
   ]
  },
  {
   "cell_type": "code",
   "execution_count": 2,
   "metadata": {},
   "outputs": [
    {
     "name": "stdout",
     "output_type": "stream",
     "text": [
      "[[ 1  3]\n",
      " [ 0 -1]]\n"
     ]
    }
   ],
   "source": [
    "import numpy as np\n",
    "A2 = np.matrix([[1,3],\n",
    "                [0,-1]])\n",
    "print (A2)"
   ]
  },
  {
   "cell_type": "code",
   "execution_count": 3,
   "metadata": {},
   "outputs": [
    {
     "name": "stdout",
     "output_type": "stream",
     "text": [
      "[[ 1.00000000e+00  3.00000000e+00]\n",
      " [-5.55111512e-17 -1.00000000e+00]]\n",
      "    \n",
      "The Singular Values of A2 are:  [3.30277564 0.30277564]\n"
     ]
    }
   ],
   "source": [
    "U,s,V = linalg.svd(A2)\n",
    "print (dot(dot(U,diag(s)),V))\n",
    "print (\"    \")\n",
    "print (\"The Singular Values of A2 are: \", s)"
   ]
  },
  {
   "cell_type": "code",
   "execution_count": 4,
   "metadata": {},
   "outputs": [
    {
     "ename": "SyntaxError",
     "evalue": "invalid syntax (<ipython-input-4-bea62fa9ae09>, line 2)",
     "output_type": "error",
     "traceback": [
      "\u001b[1;36m  File \u001b[1;32m\"<ipython-input-4-bea62fa9ae09>\"\u001b[1;36m, line \u001b[1;32m2\u001b[0m\n\u001b[1;33m    print linalg.pinv(A2)\u001b[0m\n\u001b[1;37m               ^\u001b[0m\n\u001b[1;31mSyntaxError\u001b[0m\u001b[1;31m:\u001b[0m invalid syntax\n"
     ]
    }
   ],
   "source": [
    "# computing the inverse using pinv\n",
    "print (linalg.pinv(A2))\n",
    "# computing the inverse using the SVD decomposition\n",
    "print (dot(dot(V.T,linalg.inv(diag(s))),U.T))"
   ]
  },
  {
   "cell_type": "raw",
   "metadata": {},
   "source": [
    "..and did you know this reation between SVD and eigenvalue decomposition??"
   ]
  },
  {
   "cell_type": "code",
   "execution_count": null,
   "metadata": {},
   "outputs": [],
   "source": [
    "from numpy import linalg as LA\n",
    "S =(dot(A2.T,A2))\n",
    "w, v = LA.eig(S)\n",
    "\n",
    "print (\"    \")\n",
    "print (\"The sqrt of the EigenValues of T(A2)*A2 are the same as the Singular Values of A2  \")\n",
    "print (np.sqrt(w))"
   ]
  },
  {
   "cell_type": "code",
   "execution_count": null,
   "metadata": {},
   "outputs": [],
   "source": [
    "import numpy as np\n",
    "A3 = np.matrix([[7,-3.0,2.5],\n",
    "                [0, 1.0, 0 ],\n",
    "                [0.2, 0,0.3]])\n",
    "print (A3)\n",
    "print (\" ----------------------- \")\n",
    "U,s,V = linalg.svd(A3)\n",
    "print (np.around(dot(dot(U,diag(s)),V),5))\n",
    "print (\"    \")\n",
    "print (\"The Singular Values of A2 are: \", s)\n",
    "print (\" ----------------------- \")\n",
    "S = (dot(A3.T,A3))\n",
    "w, v = LA.eig(S)\n",
    "print (\"    \")\n",
    "print (\"The sqrt of the EigenValues of T(A2)*A2 are the same as the Singular Values of A2  \")\n",
    "print (np.sqrt(w))"
   ]
  },
  {
   "cell_type": "code",
   "execution_count": null,
   "metadata": {},
   "outputs": [],
   "source": [
    "U,s,V = linalg.svd(A3) # SVD decomposition of A\n",
    "# computing the inverse using pinv\n",
    "pinv     = linalg.pinv(A3)\n",
    "# computing the inverse using the SVD decomposition\n",
    "pinv_svd = dot(dot(V.T,linalg.inv(diag(s))),U.T)\n",
    "\n",
    "print (\"Inverse computed by lingal.pinv()\\n\",pinv)\n",
    "print (\"Inverse computed using SVD\\n\",pinv_svd)\n",
    "\n",
    "print (np.allclose(pinv, pinv_svd))"
   ]
  },
  {
   "cell_type": "code",
   "execution_count": null,
   "metadata": {},
   "outputs": [],
   "source": [
    "print (\"and compare A*inv(A)\\n\",np.around(dot(A3,pinv),5))\n",
    "print (\"and compare A*inv(A)\\n\",np.around(dot(A3,pinv_svd),5))"
   ]
  },
  {
   "cell_type": "raw",
   "metadata": {},
   "source": [
    "Let's check now the time required to perfom a matrix inverse on a 400 by 400 matrix\n",
    "linalg.svd(A) should be the fastest algo as it is highly optimized!!"
   ]
  },
  {
   "cell_type": "code",
   "execution_count": null,
   "metadata": {},
   "outputs": [],
   "source": [
    "# generating a random system Ax=b\n",
    "\n",
    "A = floor(random.rand(400,400)*20-10) # generating A\n",
    "b = floor(random.rand(400,1)*20-10)   # generating b\n",
    "\n",
    "def inv_svd(A):\n",
    "    U,s,V = linalg.svd(A) # SVD decomposition of A\n",
    "    return dot(dot(V.T,linalg.inv(diag(s))),U.T)\n",
    "\n",
    "def inv_inv(A):\n",
    "    return linalg.pinv(A)\n",
    "\n",
    "import timeit\n",
    "% timeit inv_svd(A)\n",
    "% timeit inv_inv(A)\n",
    "\n",
    "# so calculating the inverse of A with linalg.pinv(A) is faster than using SVD"
   ]
  },
  {
   "cell_type": "raw",
   "metadata": {},
   "source": [
    "# and some more SVD on a 3x2 matrix A"
   ]
  },
  {
   "cell_type": "code",
   "execution_count": null,
   "metadata": {},
   "outputs": [],
   "source": [
    "# This is for A (a 3x2 matrix )\n",
    "import numpy as np\n",
    "A4 = np.random.randn(3, 2)\n",
    "\n",
    "print (A4)\n",
    "print (\" ----------------------- \")\n",
    "U,s,V = linalg.svd(A4, full_matrices=True)\n",
    "print (s)\n",
    "print (V)\n",
    "print (U.shape)\n",
    "print (V.shape)\n",
    "print (s.shape)\n",
    "SingVa = np.zeros((3, 2))\n",
    "SingVa[:2, :2] = np.diag(s)\n",
    "\n",
    "print (SingVa)\n",
    "print (np.around(dot(dot(U,SingVa),V),5))\n",
    "print (\"    \")\n",
    "print (\"The Singular Values of A2 are: \")\n",
    "print (s)\n",
    "print (\" ----------------------- \")\n",
    "S = (dot(A4.T,A4))\n",
    "w, v = LA.eig(S)\n",
    "print (\"    \")\n",
    "print (\"The sqrt of the EigenValues of T(A2)*A2 are the same as the Singular Values of A2  \")\n",
    "print (np.sqrt(w))\n",
    "\n",
    "print (np.allclose(A4, np.dot(U, np.dot(SingVa, V))))"
   ]
  },
  {
   "cell_type": "raw",
   "metadata": {},
   "source": [
    "..and back we are to the original matrix A "
   ]
  },
  {
   "cell_type": "code",
   "execution_count": null,
   "metadata": {},
   "outputs": [],
   "source": [
    "new_a = np.dot(U, np.dot(SingVa, V))\n",
    "print (new_a)"
   ]
  }
 ],
 "metadata": {
  "anaconda-cloud": {},
  "kernelspec": {
   "display_name": "Python 3",
   "language": "python",
   "name": "python3"
  },
  "language_info": {
   "codemirror_mode": {
    "name": "ipython",
    "version": 3
   },
   "file_extension": ".py",
   "mimetype": "text/x-python",
   "name": "python",
   "nbconvert_exporter": "python",
   "pygments_lexer": "ipython3",
   "version": "3.6.4"
  }
 },
 "nbformat": 4,
 "nbformat_minor": 1
}
