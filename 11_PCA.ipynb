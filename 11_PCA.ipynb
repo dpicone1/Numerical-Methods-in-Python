{
 "cells": [
  {
   "cell_type": "markdown",
   "metadata": {},
   "source": [
    "# Principal Component Analysis"
   ]
  },
  {
   "cell_type": "raw",
   "metadata": {},
   "source": [
    "Let's run PCA on two vectors of N(0,1) random numbers. \n",
    "We also illustrate the main axis"
   ]
  },
  {
   "cell_type": "code",
   "execution_count": 1,
   "metadata": {},
   "outputs": [],
   "source": [
    "import numpy as np\n",
    "import matplotlib.pyplot as plt"
   ]
  },
  {
   "cell_type": "code",
   "execution_count": 2,
   "metadata": {},
   "outputs": [
    {
     "name": "stdout",
     "output_type": "stream",
     "text": [
      "1000\n",
      "(1000,)\n"
     ]
    }
   ],
   "source": [
    "N           = 1000\n",
    "xDataRandom = np.random.normal(0, 100, N)\n",
    "yDataRandom = np.random.normal(0, 100, N)\n",
    "print (len(xDataRandom))\n",
    "print (xDataRandom.shape)"
   ]
  },
  {
   "cell_type": "code",
   "execution_count": 3,
   "metadata": {},
   "outputs": [
    {
     "data": {
      "image/png": "[encoded data removed]",
      "text/plain": [
       "<Figure size 432x288 with 1 Axes>"
      ]
     },
     "metadata": {
      "needs_background": "light"
     },
     "output_type": "display_data"
    }
   ],
   "source": [
    "plt.hist(xDataRandom)\n",
    "plt.show()"
   ]
  },
  {
   "cell_type": "code",
   "execution_count": 4,
   "metadata": {},
   "outputs": [
    {
     "name": "stdout",
     "output_type": "stream",
     "text": [
      "1000\n",
      "(1000, 2)\n"
     ]
    }
   ],
   "source": [
    "N     = 1000\n",
    "xTrue = np.linspace(0, 1000, N)\n",
    "yTrue = 3 * xTrue\n",
    "\n",
    "#xData = xTrue + np.random.normal(0, 100, N)\n",
    "#yData = yTrue + np.random.normal(0, 100, N)\n",
    "\n",
    "xData = xTrue + xDataRandom\n",
    "yData = yTrue + yDataRandom\n",
    "\n",
    "xData = np.reshape(xData, (N, 1))\n",
    "yData = np.reshape(yData, (N, 1))\n",
    "\n",
    "data  = np.hstack((xData, yData))\n",
    "print (len(data))\n",
    "print (data.shape)"
   ]
  },
  {
   "cell_type": "code",
   "execution_count": 5,
   "metadata": {},
   "outputs": [
    {
     "data": {
      "image/png": "[encoded data removed]",
      "text/plain": [
       "<Figure size 432x288 with 2 Axes>"
      ]
     },
     "metadata": {
      "needs_background": "light"
     },
     "output_type": "display_data"
    }
   ],
   "source": [
    "%matplotlib inline\n",
    "\n",
    "fig,(axleft,axright) = plt.subplots(nrows=1,ncols=2, sharex=True)\n",
    "axleft.scatter(xData, yData)\n",
    "axright.scatter(data[:,0],data[:,1] )\n",
    "plt.show()"
   ]
  },
  {
   "cell_type": "code",
   "execution_count": 6,
   "metadata": {},
   "outputs": [
    {
     "name": "stdout",
     "output_type": "stream",
     "text": [
      "[ 504.54966501 1498.50402092]\n",
      "1513.6489950189784\n",
      "[305.83000059 873.02714143]\n"
     ]
    }
   ],
   "source": [
    "print (data.mean(axis=0))\n",
    "print (data.mean(axis=0)[0]*3) # correct, as the  \n",
    "print ( data.std(axis=0))"
   ]
  },
  {
   "cell_type": "code",
   "execution_count": 7,
   "metadata": {},
   "outputs": [
    {
     "name": "stdout",
     "output_type": "stream",
     "text": [
      "[[-0.31541842 -0.9489527 ]\n",
      " [-0.9489527   0.31541842]]\n",
      "[29072.72809151  3238.03339133]\n"
     ]
    }
   ],
   "source": [
    "mu   = data.mean(axis=0)\n",
    "data = data - mu\n",
    "# data = (data - mu)/data.std(axis=0)  # Uncommenting this reproduces mlab.PCA results\n",
    "eigenvectors, eigenvalues, V = np.linalg.svd(data.T, full_matrices=False)\n",
    "print (eigenvectors)\n",
    "print (eigenvalues)\n",
    "projected_data = np.dot(data, eigenvectors)"
   ]
  },
  {
   "cell_type": "code",
   "execution_count": 8,
   "metadata": {},
   "outputs": [
    {
     "name": "stdout",
     "output_type": "stream",
     "text": [
      "[919.36038564 102.39560656]\n",
      "sigma\n",
      "510.8779961010669\n",
      "mu\n",
      "[ 504.54966501 1498.50402092]\n",
      "eigenvectors\n",
      "[[-0.31541842 -0.9489527 ]\n",
      " [-0.9489527   0.31541842]]\n",
      "-------------------------------\n",
      "[[-161.14032893 -484.79905249]\n",
      " [-484.79905249  161.14032893]]\n",
      "-------------------------------\n",
      "[[ 343.40933608 1013.70496843]\n",
      " [  19.75061252 1659.64434985]]\n"
     ]
    }
   ],
   "source": [
    "print (projected_data.std(axis=0))\n",
    "sigma = projected_data.std(axis=0).mean()\n",
    "print (\"sigma\")\n",
    "print (sigma)\n",
    "print (\"mu\")\n",
    "print (mu)\n",
    "print (\"eigenvectors\")\n",
    "print (eigenvectors)\n",
    "print (\"-------------------------------\")\n",
    "print (sigma * eigenvectors)\n",
    "print (\"-------------------------------\")\n",
    "print (mu + sigma * eigenvectors)\n",
    "\n",
    "# the first  column of mu is added to the first  column of eigenvectors matrix  \n",
    "# the second column of mu is added to the second column of eigenvectors matrix  "
   ]
  },
  {
   "cell_type": "code",
   "execution_count": 9,
   "metadata": {},
   "outputs": [
    {
     "name": "stdout",
     "output_type": "stream",
     "text": [
      "[ 504.54966501 1498.50402092]\n",
      "[-0.31541842 -0.9489527 ]\n",
      "[ 343.40933608 1013.70496843]\n",
      " ------------------- \n",
      "[ 504.54966501 1498.50402092]\n",
      "[-0.9489527   0.31541842]\n",
      "[  19.75061252 1659.64434985]\n",
      " ------------------- \n"
     ]
    }
   ],
   "source": [
    "for axis in eigenvectors:\n",
    "    start, end = mu, mu + sigma * axis\n",
    "    print (start)\n",
    "    print (axis)\n",
    "    print (end)\n",
    "    print (\" ------------------- \")\n",
    "# the first  axis is the first  column of the eigenvectors matrix \n",
    "# the second axis is the second column of the eigenvectors matrix "
   ]
  },
  {
   "cell_type": "code",
   "execution_count": 10,
   "metadata": {},
   "outputs": [
    {
     "name": "stdout",
     "output_type": "stream",
     "text": [
      "the first column of eigenvectors matrix  [-0.31541842 -0.9489527 ]\n",
      "the second column of eigenvectors matrix  [-0.9489527   0.31541842]\n",
      "the axis are  [-0.31541842 -0.9489527 ]\n",
      "the axis are  [-0.9489527   0.31541842]\n"
     ]
    },
    {
     "data": {
      "image/png": "[encoded data removed]",
      "text/plain": [
       "<Figure size 432x288 with 1 Axes>"
      ]
     },
     "metadata": {
      "needs_background": "light"
     },
     "output_type": "display_data"
    }
   ],
   "source": [
    "import numpy as np\n",
    "import matplotlib.pyplot as plt\n",
    "fig, ax = plt.subplots()\n",
    "ax.scatter(xData, yData)\n",
    "print( \"the first column of eigenvectors matrix \", eigenvectors[0])\n",
    "print( \"the second column of eigenvectors matrix \", eigenvectors[1])\n",
    "for axis in eigenvectors:\n",
    "    print (\"the axis are \", axis )   \n",
    "    start, end = mu, mu + sigma * axis\n",
    "    ax.annotate(\n",
    "        '', xy=end, xycoords='data',\n",
    "        xytext=start, textcoords='data',\n",
    "        arrowprops=dict(facecolor='red', width=2.0))\n",
    "ax.set_aspect('equal')\n",
    "plt.show()"
   ]
  },
  {
   "cell_type": "code",
   "execution_count": 11,
   "metadata": {},
   "outputs": [
    {
     "data": {
      "image/png": "[encoded data removed]",
      "text/plain": [
       "<Figure size 432x288 with 2 Axes>"
      ]
     },
     "metadata": {
      "needs_background": "light"
     },
     "output_type": "display_data"
    }
   ],
   "source": [
    "import numpy as np\n",
    "import matplotlib.pyplot as plt\n",
    "%matplotlib inline\n",
    "\n",
    "fig,(axleft,axright) = plt.subplots(nrows=1,ncols=2, sharex=True)\n",
    "\n",
    "axleft.scatter(xData, yData)\n",
    "axis = eigenvectors[0]\n",
    "start, end = mu, mu + sigma * axis\n",
    "axleft.annotate(\n",
    "    '', xy=end, xycoords='data',\n",
    "    xytext=start, textcoords='data',\n",
    "    arrowprops=dict(facecolor='red', width=2.0))\n",
    "axleft.set_aspect('equal')\n",
    "\n",
    "axright.scatter(xData, yData)\n",
    "axis = eigenvectors[1]\n",
    "start, end = mu, mu + sigma * axis\n",
    "axright.annotate(\n",
    "    '', xy=end, xycoords='data',\n",
    "    xytext=start, textcoords='data',\n",
    "    arrowprops=dict(facecolor='red', width=2.0))\n",
    "axright.set_aspect('equal')\n",
    "\n",
    "plt.show()"
   ]
  },
  {
   "cell_type": "code",
   "execution_count": null,
   "metadata": {},
   "outputs": [],
   "source": [
    "# Code source: Gaël Varoquaux\n",
    "# License: BSD 3 clause\n",
    "# This is the classic pca work. It is in every book with a chapter on PCA decomposition0\n",
    "# It works in Python 2\n",
    "import numpy as np\n",
    "import matplotlib.pyplot as plt\n",
    "from mpl_toolkits.mplot3d import Axes3D\n",
    "\n",
    "\n",
    "from sklearn import decomposition\n",
    "from sklearn import datasets\n",
    "\n",
    "np.random.seed(5)\n",
    "\n",
    "centers = [[1, 1], [-1, -1], [1, -1]]\n",
    "iris = datasets.load_iris()\n",
    "X = iris.data\n",
    "y = iris.target\n",
    "\n",
    "fig = plt.figure(1, figsize=(4, 3))\n",
    "plt.clf()\n",
    "ax = Axes3D(fig, rect=[0, 0, .95, 1], elev=48, azim=134)\n",
    "\n",
    "plt.cla()\n",
    "pca = decomposition.PCA(n_components=3)\n",
    "pca.fit(X)\n",
    "X = pca.transform(X)\n",
    "\n",
    "for name, label in [('Setosa', 0), ('Versicolour', 1), ('Virginica', 2)]:\n",
    "    ax.text3D(X[y == label, 0].mean(),\n",
    "              X[y == label, 1].mean() + 1.5,\n",
    "              X[y == label, 2].mean(), name,\n",
    "              horizontalalignment='center',\n",
    "              bbox=dict(alpha=.5, edgecolor='w', facecolor='w'))\n",
    "# Reorder the labels to have colors matching the cluster results\n",
    "y = np.choose(y, [1, 2, 0]).astype(np.float)\n",
    "ax.scatter(X[:, 0], X[:, 1], X[:, 2], c=y, cmap=plt.cm.spectral,\n",
    "           edgecolor='k')\n",
    "\n",
    "ax.w_xaxis.set_ticklabels([])\n",
    "ax.w_yaxis.set_ticklabels([])\n",
    "ax.w_zaxis.set_ticklabels([])\n",
    "\n",
    "plt.show()"
   ]
  }
 ],
 "metadata": {
  "kernelspec": {
   "display_name": "Python 3",
   "language": "python",
   "name": "python3"
  },
  "language_info": {
   "codemirror_mode": {
    "name": "ipython",
    "version": 3
   },
   "file_extension": ".py",
   "mimetype": "text/x-python",
   "name": "python",
   "nbconvert_exporter": "python",
   "pygments_lexer": "ipython3",
   "version": "3.6.4"
  }
 },
 "nbformat": 4,
 "nbformat_minor": 1
}
